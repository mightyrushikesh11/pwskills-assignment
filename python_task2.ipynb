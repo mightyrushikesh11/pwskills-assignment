{
 "cells": [
  {
   "cell_type": "markdown",
   "id": "281dfb9b-93ec-4fa7-af42-35cf88e5fe40",
   "metadata": {},
   "source": [
    "Q1. You are writing code for a company. The requirement of the company is that you create a python\n",
    "function that will check whether the password entered by the user is correct or not. The function should\n",
    "take the password as input and return the string “Valid Password” if the entered password follows the\n",
    "below-given password guidelines else it should return “Invalid Password”.\n",
    "Note: 1. The Password should contain at least two uppercase letters and at least two lowercase letters.\n",
    "2. The Password should contain at least a number and three special characters.\n",
    "3. The length of the password should be 10 characters long."
   ]
  },
  {
   "cell_type": "code",
   "execution_count": 1,
   "id": "0b467fe6-5eec-4c63-ab4a-2f1d6ae14b59",
   "metadata": {},
   "outputs": [],
   "source": [
    "import re\n",
    "\n",
    "def check_password(password):\n",
    "    # Check length of password\n",
    "    if len(password) != 10:\n",
    "        return \"Invalid Password\"\n",
    "    \n",
    "    # Check for at least 2 uppercase letters\n",
    "    if len(re.findall(r'[A-Z]', password)) < 2:\n",
    "        return \"Invalid Password\"\n",
    "    \n",
    "    # Check for at least 2 lowercase letters\n",
    "    if len(re.findall(r'[a-z]', password)) < 2:\n",
    "        return \"Invalid Password\"\n",
    "    \n",
    "    # Check for at least a number and 3 special characters\n",
    "    if len(re.findall(r'\\d', password)) < 1 or len(re.findall(r'[!@#$%^&*(),.?\":{}|<>]', password)) < 3:\n",
    "        return \"Invalid Password\"\n",
    "    \n",
    "    # Password meets all guidelines\n",
    "    return \"Valid Password\"\n"
   ]
  },
  {
   "cell_type": "markdown",
   "id": "24116e92-246f-4e9c-bbba-eedb16d7e3de",
   "metadata": {},
   "source": [
    "This function uses the re (regular expressions) module to search the password string for various character types. The function first checks the length of the password, and then uses regular expressions to check for uppercase letters, lowercase letters, numbers, and special characters. If the password meets all guidelines, the function returns \"Valid Password\". Otherwise, it returns \"Invalid Password\"."
   ]
  },
  {
   "cell_type": "markdown",
   "id": "e58b9e45-a8a4-4b33-ad54-1872581b2349",
   "metadata": {},
   "source": [
    "Q2. Solve the below-given questions using at least one of the following:\n",
    "1. Lambda functioJ\n",
    "2. Filter functioJ\n",
    "3. Zap functioJ\n",
    "4. List ComprehensioI\n",
    "B Check if the string starts with a particular letterY\n",
    "B Check if the string is numericY\n",
    "B Sort a list of tuples having fruit names and their quantity. [(\"mango\",99),(\"orange\",80), (\"grapes\", 1000)-\n",
    "B Find the squares of numbers from 1 to 10Y\n",
    "B Find the cube root of numbers from 1 to 10Y\n",
    "B Check if a given number is evenY\n",
    "B Filter odd numbers from the given list.\n",
    "[1,2,3,4,5,6,7,8,9,10-\n",
    "B Sort a list of integers into positive and negative integers lists.\n",
    "[1,2,3,4,5,6,-1,-2,-3,-4,-5,0]"
   ]
  },
  {
   "cell_type": "markdown",
   "id": "df95aa49-29ab-45a1-82e1-04d672c254d3",
   "metadata": {},
   "source": [
    "Check if the string starts with a particular letter:"
   ]
  },
  {
   "cell_type": "code",
   "execution_count": null,
   "id": "6ded2a9e-75fe-46de-89de-3bfcfcb5a287",
   "metadata": {},
   "outputs": [],
   "source": [
    "string_list = ['apple', 'banana', 'cherry', 'date', 'elderberry']\n",
    "start_with_c = filter(lambda x: x.startswith('c'), string_list)\n",
    "print(list(start_with_c))  # Output: ['cherry']\n"
   ]
  },
  {
   "cell_type": "markdown",
   "id": "e6b3870e-7928-4416-ab2c-1edf52e3302c",
   "metadata": {},
   "source": [
    "Check if the string is numeric:"
   ]
  },
  {
   "cell_type": "code",
   "execution_count": null,
   "id": "25751942-caff-46f8-8192-0a81d5dfc245",
   "metadata": {},
   "outputs": [],
   "source": [
    "string_list = ['123', '3.1415', '-42', '0', 'hello']\n",
    "is_numeric = lambda s: s.isnumeric()\n",
    "numeric_strings = filter(is_numeric, string_list)\n",
    "print(list(numeric_strings))  # Output: ['123', '-42', '0']"
   ]
  },
  {
   "cell_type": "markdown",
   "id": "62af5293-656d-4870-aabf-f32dfc3f2031",
   "metadata": {},
   "source": [
    "Sort a list of tuples having fruit names and their quantity:"
   ]
  },
  {
   "cell_type": "code",
   "execution_count": null,
   "id": "1dcf1f39-fee1-4a77-9217-5f1e353901be",
   "metadata": {},
   "outputs": [],
   "source": [
    "fruits = [(\"mango\", 99), (\"orange\", 80), (\"grapes\", 1000)]\n",
    "sorted_fruits = sorted(fruits, key=lambda x: x[1])\n",
    "print(sorted_fruits)  # Output: [('orange', 80), ('mango', 99), ('grapes', 1000)]\n"
   ]
  },
  {
   "cell_type": "markdown",
   "id": "8b0a6828-cf6e-4836-a685-a0aa78bc54a0",
   "metadata": {},
   "source": [
    "Find the squares of numbers from 1 to 10:"
   ]
  },
  {
   "cell_type": "markdown",
   "id": "998c917a-8701-4abc-b7f9-d8d3f656ab9f",
   "metadata": {},
   "source": [
    "squares = [x**2 for x in range(1, 11)]\n",
    "print(squares)  # Output: [1, 4, 9, 16, 25, 36, 49, 64, 81, 100]\n"
   ]
  },
  {
   "cell_type": "markdown",
   "id": "8e045204-2618-4e4e-acca-3204cdab3e69",
   "metadata": {},
   "source": [
    "Find the cube root of numbers from 1 to 10:"
   ]
  },
  {
   "cell_type": "code",
   "execution_count": null,
   "id": "e8dc97e6-1611-476b-a784-d5a80584ffc1",
   "metadata": {},
   "outputs": [],
   "source": [
    "import math\n",
    "\n",
    "cube_roots = [math.pow(x, 1/3) for x in range(1, 11)]\n",
    "print(cube_roots)  # Output: [1.0, 1.2599210498948732, 1.4422495703074083, 1.5874010519681994, 1.7099759466766968, 1.8171205928321397, 1.912931182772389, 2.0, 2.080083823051904, 2.154434690031884]\n"
   ]
  },
  {
   "cell_type": "markdown",
   "id": "f0f52aef-4595-4ac0-8975-ba9d884a393e",
   "metadata": {},
   "source": [
    "Check if a given number is even:"
   ]
  },
  {
   "cell_type": "code",
   "execution_count": null,
   "id": "76bd8267-71df-4619-b10d-73c249bb8187",
   "metadata": {},
   "outputs": [],
   "source": [
    "is_even = lambda x: x % 2 == 0\n",
    "print(is_even(4))  # Output: True\n",
    "print(is_even(5))  # Output: False\n"
   ]
  },
  {
   "cell_type": "markdown",
   "id": "68439b6e-67ae-4183-9b74-e0cf8eb99770",
   "metadata": {},
   "source": [
    "Filter odd numbers from the given list:"
   ]
  },
  {
   "cell_type": "code",
   "execution_count": null,
   "id": "7261a86a-1a10-454e-bd9b-e8c88bd38ea6",
   "metadata": {},
   "outputs": [],
   "source": [
    "num_list = [1, 2, 3, 4, 5, 6, 7, 8, 9, 10]\n",
    "odd_nums = list(filter(lambda x: x % 2 != 0, num_list))\n",
    "print(odd_nums)  # Output: [1, 3, 5, 7, 9]\n"
   ]
  },
  {
   "cell_type": "markdown",
   "id": "7c5563ad-a90e-4525-978d-6c14c5e158b9",
   "metadata": {},
   "source": [
    "Sort a list of integers into positive and negative integers lists:"
   ]
  }
 ],
 "metadata": {
  "kernelspec": {
   "display_name": "Python 3 (ipykernel)",
   "language": "python",
   "name": "python3"
  },
  "language_info": {
   "codemirror_mode": {
    "name": "ipython",
    "version": 3
   },
   "file_extension": ".py",
   "mimetype": "text/x-python",
   "name": "python",
   "nbconvert_exporter": "python",
   "pygments_lexer": "ipython3",
   "version": "3.10.8"
  }
 },
 "nbformat": 4,
 "nbformat_minor": 5
}
