{
 "cells": [
  {
   "cell_type": "markdown",
   "id": "f92dbaf5-9ad0-4c2f-939b-93fee98e8898",
   "metadata": {},
   "source": [
    "Q1. Write a Python function that takes in two arrays of data and calculates the F-value for a variance ratio\n",
    "test. The function should return the F-value and the corresponding p-value for the test."
   ]
  },
  {
   "cell_type": "code",
   "execution_count": 1,
   "id": "528e3319-9c26-4bb5-8ce6-b23f029dc25e",
   "metadata": {},
   "outputs": [],
   "source": [
    "import numpy as np\n",
    "from scipy.stats import f\n",
    "\n",
    "def variance_ratio_test(x, y):\n",
    "    n = len(x)\n",
    "    m = len(y)\n",
    "    var_x = np.var(x, ddof=1)\n",
    "    var_y = np.var(y, ddof=1)\n",
    "    f_value = var_x / var_y\n",
    "    p_value = f.cdf(f_value, n-1, m-1)\n",
    "    return f_value, p_value\n"
   ]
  },
  {
   "cell_type": "markdown",
   "id": "5cc86b19-37f9-4c6f-82bd-1c4265ffc3be",
   "metadata": {},
   "source": [
    "Q2. Given a significance level of 0.05 and the degrees of freedom for the numerator and denominator of an\n",
    "F-distribution, write a Python function that returns the critical F-value for a two-tailed test."
   ]
  },
  {
   "cell_type": "code",
   "execution_count": 2,
   "id": "5c6068b5-75ae-4fcd-8dda-d9dcd4fbae1b",
   "metadata": {},
   "outputs": [],
   "source": [
    "from scipy.stats import f\n",
    "\n",
    "def critical_f_value(alpha, dfn, dfd):\n",
    "    return f.ppf(1 - alpha/2, dfn, dfd)\n"
   ]
  },
  {
   "cell_type": "code",
   "execution_count": 3,
   "id": "62177dd5-bda2-4297-8fe9-82bb04cada31",
   "metadata": {},
   "outputs": [
    {
     "data": {
      "text/plain": [
       "4.236085668188633"
      ]
     },
     "execution_count": 3,
     "metadata": {},
     "output_type": "execute_result"
    }
   ],
   "source": [
    "critical_f_value(0.05, 5, 10)\n"
   ]
  },
  {
   "cell_type": "markdown",
   "id": "83decfb8-97ea-4e44-b4ed-5c5e1ffe547e",
   "metadata": {},
   "source": [
    "Q3. Write a Python program that generates random samples from two normal distributions with known\n",
    "\n",
    "variances and uses an F-test to determine if the variances are equal. The program should output the F-\n",
    "value, degrees of freedom, and p-value for the test."
   ]
  },
  {
   "cell_type": "code",
   "execution_count": 4,
   "id": "87b15290-b4cb-4357-8962-80d926187630",
   "metadata": {},
   "outputs": [
    {
     "name": "stdout",
     "output_type": "stream",
     "text": [
      "F-value: 1.144911233796504\n",
      "Degrees of freedom (numerator, denominator): 49 59\n",
      "p-value: 0.6921993464655871\n"
     ]
    }
   ],
   "source": [
    "import numpy as np\n",
    "from scipy.stats import f\n",
    "\n",
    "# Set the seed for reproducibility\n",
    "np.random.seed(123)\n",
    "\n",
    "# Generate two random samples from normal distributions with known variances\n",
    "n1 = 50\n",
    "n2 = 60\n",
    "mean1 = 10\n",
    "mean2 = 12\n",
    "var1 = 4\n",
    "var2 = 4\n",
    "sample1 = np.random.normal(mean1, np.sqrt(var1), n1)\n",
    "sample2 = np.random.normal(mean2, np.sqrt(var2), n2)\n",
    "\n",
    "# Calculate the F-value and p-value for the F-test\n",
    "f_value = np.var(sample1, ddof=1) / np.var(sample2, ddof=1)\n",
    "dfn = n1 - 1\n",
    "dfd = n2 - 1\n",
    "p_value = f.cdf(f_value, dfn, dfd)\n",
    "\n",
    "# Print the results\n",
    "print(\"F-value:\", f_value)\n",
    "print(\"Degrees of freedom (numerator, denominator):\", dfn, dfd)\n",
    "print(\"p-value:\", p_value)\n"
   ]
  },
  {
   "cell_type": "markdown",
   "id": "5e9108b6-ccf4-40af-b592-4c6460c2dcd7",
   "metadata": {},
   "source": [
    "Q4.The variances of two populations are known to be 10 and 15. A sample of 12 observations is taken from\n",
    "each population. Conduct an F-test at the 5% significance level to determine if the variances are\n",
    "significantly different."
   ]
  },
  {
   "cell_type": "code",
   "execution_count": 5,
   "id": "1be23912-da46-4b21-b834-a898e4c91fcb",
   "metadata": {},
   "outputs": [
    {
     "name": "stdout",
     "output_type": "stream",
     "text": [
      "Fail to reject the null hypothesis: The variances are not significantly different.\n",
      "F-statistic: 0.6666666666666666\n",
      "p-value: 0.2561948993678998\n"
     ]
    }
   ],
   "source": [
    "import numpy as np\n",
    "from scipy.stats import f\n",
    "\n",
    "# Set up the parameters\n",
    "var1 = 10\n",
    "var2 = 15\n",
    "n1 = 12\n",
    "n2 = 12\n",
    "alpha = 0.05\n",
    "\n",
    "# Calculate the F-statistic\n",
    "f_statistic = var1 / var2\n",
    "dfn = n1 - 1\n",
    "dfd = n2 - 1\n",
    "p_value = f.cdf(f_statistic, dfn, dfd)\n",
    "\n",
    "# Calculate the critical F-value\n",
    "critical_f = f.ppf(1 - alpha/2, dfn, dfd)\n",
    "\n",
    "# Determine whether to reject the null hypothesis\n",
    "if f_statistic > critical_f or f_statistic < 1/critical_f:\n",
    "    print(\"Reject the null hypothesis: The variances are significantly different.\")\n",
    "else:\n",
    "    print(\"Fail to reject the null hypothesis: The variances are not significantly different.\")\n",
    "\n",
    "# Print the F-statistic and p-value\n",
    "print(\"F-statistic:\", f_statistic)\n",
    "print(\"p-value:\", p_value)\n"
   ]
  },
  {
   "cell_type": "markdown",
   "id": "3859c460-1bbe-482f-919d-07ef6d024f9c",
   "metadata": {},
   "source": [
    "Q5. A manufacturer claims that the variance of the diameter of a certain product is 0.005. A sample of 25\n",
    "products is taken, and the sample variance is found to be 0.006. Conduct an F-test at the 1% significance\n",
    "level to determine if the claim is justified."
   ]
  },
  {
   "cell_type": "code",
   "execution_count": 6,
   "id": "39cd1b7d-dc3d-4261-ba61-43528b1bfd83",
   "metadata": {},
   "outputs": [
    {
     "name": "stdout",
     "output_type": "stream",
     "text": [
      "Fail to reject the null hypothesis: The claim is justified.\n",
      "F-statistic: 1.2\n",
      "p-value: 0.3703900380040642\n"
     ]
    }
   ],
   "source": [
    "import numpy as np\n",
    "from scipy.stats import f\n",
    "\n",
    "# Set up the parameters\n",
    "pop_var = 0.005\n",
    "sample_var = 0.006\n",
    "n = 25\n",
    "alpha = 0.01\n",
    "\n",
    "# Calculate the F-statistic\n",
    "f_statistic = sample_var / pop_var\n",
    "dfn = n - 1\n",
    "dfd = 1\n",
    "p_value = f.cdf(f_statistic, dfn, dfd)\n",
    "\n",
    "# Calculate the critical F-value\n",
    "critical_f = f.ppf(1 - alpha/2, dfn, dfd)\n",
    "\n",
    "# Determine whether to reject the null hypothesis\n",
    "if f_statistic > critical_f or f_statistic < 1/critical_f:\n",
    "    print(\"Reject the null hypothesis: The claim is not justified.\")\n",
    "else:\n",
    "    print(\"Fail to reject the null hypothesis: The claim is justified.\")\n",
    "\n",
    "# Print the F-statistic and p-value\n",
    "print(\"F-statistic:\", f_statistic)\n",
    "print(\"p-value:\", p_value)\n"
   ]
  },
  {
   "cell_type": "markdown",
   "id": "dd673369-3c06-4b25-b5fb-e5d02199e782",
   "metadata": {},
   "source": [
    "Q6. Write a Python function that takes in the degrees of freedom for the numerator and denominator of an\n",
    "F-distribution and calculates the mean and variance of the distribution. The function should return the\n",
    "mean and variance as a tuple."
   ]
  },
  {
   "cell_type": "code",
   "execution_count": 7,
   "id": "e9fe02f2-138e-4bc8-a0d0-f3b9d3ed1df4",
   "metadata": {},
   "outputs": [],
   "source": [
    "from scipy.stats import f\n",
    "\n",
    "def f_distribution_stats(dfn, dfd):\n",
    "    \"\"\"\n",
    "    Calculates the mean and variance of an F-distribution given the degrees of freedom for the numerator (dfn)\n",
    "    and denominator (dfd).\n",
    "    Returns the mean and variance as a tuple.\n",
    "    \"\"\"\n",
    "    mean = dfd / (dfd - 2)\n",
    "    variance = (2 * (dfd ** 2) * (dfn + dfd - 2)) / ((dfn * (dfd - 2) ** 2) * (dfd - 4))\n",
    "    return mean, variance\n"
   ]
  },
  {
   "cell_type": "code",
   "execution_count": 8,
   "id": "1017d67e-2108-4cb7-924e-31d2984249a8",
   "metadata": {},
   "outputs": [
    {
     "name": "stdout",
     "output_type": "stream",
     "text": [
      "Mean: 1.25\n",
      "Variance: 1.3541666666666667\n"
     ]
    }
   ],
   "source": [
    "mean, variance = f_distribution_stats(5, 10)\n",
    "print(\"Mean:\", mean)\n",
    "print(\"Variance:\", variance)\n"
   ]
  },
  {
   "cell_type": "markdown",
   "id": "14bbb7a0-6868-430b-b9a3-f0e90b7b1f72",
   "metadata": {},
   "source": [
    "Q7. A random sample of 10 measurements is taken from a normal population with unknown variance. The\n",
    "sample variance is found to be 25. Another random sample of 15 measurements is taken from another\n",
    "normal population with unknown variance, and the sample variance is found to be 20. Conduct an F-test\n",
    "at the 10% significance level to determine if the variances are significantly different."
   ]
  },
  {
   "cell_type": "code",
   "execution_count": 9,
   "id": "963151e6-9369-44e0-94d2-31b8aacd0b72",
   "metadata": {},
   "outputs": [
    {
     "name": "stdout",
     "output_type": "stream",
     "text": [
      "Fail to reject the null hypothesis: The variances are not significantly different.\n",
      "F-statistic: 1.25\n",
      "p-value: 0.6583902808707023\n"
     ]
    }
   ],
   "source": [
    "import numpy as np\n",
    "from scipy.stats import f\n",
    "\n",
    "# Set up the parameters\n",
    "sample_var1 = 25\n",
    "sample_var2 = 20\n",
    "n1 = 10\n",
    "n2 = 15\n",
    "alpha = 0.1\n",
    "\n",
    "# Determine the larger and smaller sample variances\n",
    "larger_var = max(sample_var1, sample_var2)\n",
    "smaller_var = min(sample_var1, sample_var2)\n",
    "\n",
    "# Calculate the F-statistic\n",
    "f_statistic = larger_var / smaller_var\n",
    "dfn = n1 - 1\n",
    "dfd = n2 - 1\n",
    "p_value = f.cdf(f_statistic, dfn, dfd)\n",
    "\n",
    "# Calculate the critical F-value\n",
    "critical_f = f.ppf(1 - alpha/2, dfn, dfd)\n",
    "\n",
    "# Determine whether to reject the null hypothesis\n",
    "if f_statistic > critical_f or f_statistic < 1/critical_f:\n",
    "    print(\"Reject the null hypothesis: The variances are significantly different.\")\n",
    "else:\n",
    "    print(\"Fail to reject the null hypothesis: The variances are not significantly different.\")\n",
    "\n",
    "# Print the F-statistic and p-value\n",
    "print(\"F-statistic:\", f_statistic)\n",
    "print(\"p-value:\", p_value)\n"
   ]
  },
  {
   "cell_type": "markdown",
   "id": "36f5787d-912a-4165-abdf-6f62dcdcb4db",
   "metadata": {},
   "source": [
    "Q8. The following data represent the waiting times in minutes at two different restaurants on a Saturday\n",
    "night: Restaurant A: 24, 25, 28, 23, 22, 20, 27; Restaurant B: 31, 33, 35, 30, 32, 36. Conduct an F-test at the 5%\n",
    "significance level to determine if the variances are significantly different."
   ]
  },
  {
   "cell_type": "code",
   "execution_count": 10,
   "id": "af82bb3b-ea87-4f0a-9b32-0619a9641ef4",
   "metadata": {},
   "outputs": [
    {
     "name": "stdout",
     "output_type": "stream",
     "text": [
      "Fail to reject the null hypothesis: The variances are not significantly different.\n",
      "F-statistic: 1.4551907719609583\n",
      "p-value: 0.6512592126031258\n"
     ]
    }
   ],
   "source": [
    "import numpy as np\n",
    "from scipy.stats import f\n",
    "\n",
    "# Set up the data\n",
    "waiting_times_a = np.array([24, 25, 28, 23, 22, 20, 27])\n",
    "waiting_times_b = np.array([31, 33, 35, 30, 32, 36])\n",
    "n1 = len(waiting_times_a)\n",
    "n2 = len(waiting_times_b)\n",
    "alpha = 0.05\n",
    "\n",
    "# Determine the larger and smaller sample variances\n",
    "sample_var_a = np.var(waiting_times_a, ddof=1)\n",
    "sample_var_b = np.var(waiting_times_b, ddof=1)\n",
    "larger_var = max(sample_var_a, sample_var_b)\n",
    "smaller_var = min(sample_var_a, sample_var_b)\n",
    "\n",
    "# Calculate the F-statistic\n",
    "f_statistic = larger_var / smaller_var\n",
    "dfn = n1 - 1\n",
    "dfd = n2 - 1\n",
    "p_value = f.cdf(f_statistic, dfn, dfd)\n",
    "\n",
    "# Calculate the critical F-value\n",
    "critical_f = f.ppf(1 - alpha/2, dfn, dfd)\n",
    "\n",
    "# Determine whether to reject the null hypothesis\n",
    "if f_statistic > critical_f or f_statistic < 1/critical_f:\n",
    "    print(\"Reject the null hypothesis: The variances are significantly different.\")\n",
    "else:\n",
    "    print(\"Fail to reject the null hypothesis: The variances are not significantly different.\")\n",
    "\n",
    "# Print the F-statistic and p-value\n",
    "print(\"F-statistic:\", f_statistic)\n",
    "print(\"p-value:\", p_value)\n"
   ]
  },
  {
   "cell_type": "markdown",
   "id": "2b5176e6-4bdf-4920-933a-46e4c9622caa",
   "metadata": {},
   "source": [
    "Q9. The following data represent the test scores of two groups of students: Group A: 80, 85, 90, 92, 87, 83;\n",
    "Group B: 75, 78, 82, 79, 81, 84. Conduct an F-test at the 1% significance level to determine if the variances\n",
    "are significantly different."
   ]
  },
  {
   "cell_type": "code",
   "execution_count": 11,
   "id": "9f30aaac-1a00-4123-980b-1e950b202d0f",
   "metadata": {},
   "outputs": [
    {
     "name": "stdout",
     "output_type": "stream",
     "text": [
      "Reject the null hypothesis\n"
     ]
    }
   ],
   "source": [
    "import numpy as np\n",
    "from scipy.stats import f\n",
    "\n",
    "group_a = np.array([80, 85, 90, 92, 87, 83])\n",
    "group_b = np.array([75, 78, 82, 79, 81, 84])\n",
    "\n",
    "# Step 1: State the null and alternative hypotheses\n",
    "# H0: var(group_a) = var(group_b)\n",
    "# Ha: var(group_a) != var(group_b)\n",
    "\n",
    "# Step 2: Set the significance level\n",
    "alpha = 0.01\n",
    "\n",
    "# Step 3: Calculate the F-statistic\n",
    "f_stat = np.var(group_a, ddof=1) / np.var(group_b, ddof=1)\n",
    "\n",
    "# Step 4: Calculate the degrees of freedom\n",
    "df_num = len(group_a) - 1\n",
    "df_den = len(group_b) - 1\n",
    "\n",
    "# Step 5: Find the critical F-value\n",
    "f_crit = f.ppf(alpha / 2, df_num, df_den)\n",
    "\n",
    "# Step 6: Compare the calculated F-statistic to the critical F-value\n",
    "if f_stat > f_crit:\n",
    "    print(\"Reject the null hypothesis\")\n",
    "else:\n",
    "    print(\"Fail to reject the null hypothesis\")\n"
   ]
  }
 ],
 "metadata": {
  "kernelspec": {
   "display_name": "Python 3 (ipykernel)",
   "language": "python",
   "name": "python3"
  },
  "language_info": {
   "codemirror_mode": {
    "name": "ipython",
    "version": 3
   },
   "file_extension": ".py",
   "mimetype": "text/x-python",
   "name": "python",
   "nbconvert_exporter": "python",
   "pygments_lexer": "ipython3",
   "version": "3.10.8"
  }
 },
 "nbformat": 4,
 "nbformat_minor": 5
}
