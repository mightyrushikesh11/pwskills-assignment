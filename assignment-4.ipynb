{
 "cells": [
  {
   "cell_type": "markdown",
   "id": "0e2ade0c-5f47-4683-a63d-af31d41f3843",
   "metadata": {},
   "source": [
    "Q1. Explain Class and Object with respect to Object-Oriented Programming. Give a suitable example."
   ]
  },
  {
   "cell_type": "markdown",
   "id": "68b01c7e-33e9-4ae9-bfd6-9ce6f313dedd",
   "metadata": {},
   "source": [
    "In Object-Oriented Programming (OOP), a class is a blueprint for creating objects, which are instances of the class. A class defines a set of attributes and methods that describe the behavior of the objects it creates. Attributes are data members or variables that hold the state of the object, while methods are functions that define the behavior of the object.\n",
    "\n",
    "An object is an instance of a class. It is created from the class blueprint and has its own set of attributes and methods. Objects can interact with each other through their methods, and can be used to model real-world entities or concepts.\n",
    "\n",
    "Here's an example of a class and object in Python:"
   ]
  },
  {
   "cell_type": "code",
   "execution_count": null,
   "id": "5270538f-5ba3-4c7c-bd74-2ae05eb2e298",
   "metadata": {},
   "outputs": [],
   "source": [
    "class Dog:\n",
    "    def __init__(self, name, breed):\n",
    "        self.name = name\n",
    "        self.breed = breed\n",
    "    \n",
    "    def bark(self):\n",
    "        print(\"Woof!\")\n",
    "\n",
    "my_dog = Dog(\"Buddy\", \"Golden Retriever\")\n",
    "print(my_dog.name)  # Output: Buddy\n",
    "print(my_dog.breed) # Output: Golden Retriever\n",
    "my_dog.bark()       # Output: Woof!\n"
   ]
  },
  {
   "cell_type": "markdown",
   "id": "29be4e71-0259-4654-ab96-e1d2db0b58fc",
   "metadata": {},
   "source": [
    "In this example, we define a Dog class that has two attributes (name and breed) and one method (bark). The __init__ method is a special method that is called when an object of the class is created. It initializes the attributes of the object with the values passed in as arguments.\n",
    "\n",
    "We create an object my_dog from the Dog class and pass in the arguments \"Buddy\" and \"Golden Retriever\" to the __init__ method. We can access the attributes of the object using the dot notation (my_dog.name and my_dog.breed) and call its method bark() using the dot notation as well (my_dog.bark()).\n",
    "\n",
    "The output of the program shows that we can access the attributes and methods of the object my_dog, which was created from the Dog class. This is a simple example of how classes and objects work in OOP."
   ]
  },
  {
   "cell_type": "markdown",
   "id": "01aae460-c15a-4063-bef0-593206d2192d",
   "metadata": {},
   "source": [
    "Q2. Name the four pillars of oops."
   ]
  },
  {
   "cell_type": "markdown",
   "id": "bf30ba79-6388-4f59-b3cc-11b456ed8c74",
   "metadata": {},
   "source": [
    "The four pillars of Object-Oriented Programming (OOP) are:\n",
    "\n",
    "Encapsulation: Encapsulation refers to the idea of bundling data and methods together within a class, so that the data can only be accessed or modified through the methods of the class. This helps to keep the data and methods organized and can prevent unwanted changes to the data.\n",
    "\n",
    "Inheritance: Inheritance is the process of creating new classes from existing classes, which inherit the attributes and methods of the parent class. This allows for the creation of a hierarchy of classes with increasing levels of specialization.\n",
    "\n",
    "Polymorphism: Polymorphism refers to the ability of objects to take on many forms or to have multiple behaviors. In OOP, polymorphism can be achieved through method overloading and method overriding, where different methods can be implemented with the same name but different parameters or behaviors.\n",
    "\n",
    "Abstraction: Abstraction refers to the process of focusing on essential features of an object or concept, while ignoring irrelevant details. In OOP, abstraction is achieved through abstract classes and interfaces, which define the basic structure and behavior of a class, without providing the full implementation. This allows for more flexible and modular design of software systems."
   ]
  },
  {
   "cell_type": "markdown",
   "id": "dcbbf387-71c7-46a3-945a-3bb540f14b8c",
   "metadata": {},
   "source": [
    "Q3. Explain why the __init__() function is used. Give a suitable example."
   ]
  },
  {
   "cell_type": "markdown",
   "id": "5084c234-13d8-4743-966b-50077eae531d",
   "metadata": {},
   "source": [
    "he __init__() function is a special method in Python that is used to initialize the attributes of an object when it is created from a class. It is called a constructor method, because it constructs the object and sets its initial state. The __init__() method is called automatically when an object of the class is created, and it takes the self parameter (which refers to the object being created) and any additional parameters that are needed to initialize the object's attributes.\n",
    "\n",
    "Here's an example to illustrate how the __init__() method is used:"
   ]
  },
  {
   "cell_type": "code",
   "execution_count": 1,
   "id": "5f0cde1b-0eee-48d2-8618-46d1e93f645a",
   "metadata": {},
   "outputs": [
    {
     "name": "stdout",
     "output_type": "stream",
     "text": [
      "Hello, my name is Alice and I am 25 years old.\n",
      "Hello, my name is Bob and I am 30 years old.\n"
     ]
    }
   ],
   "source": [
    "class Person:\n",
    "    def __init__(self, name, age):\n",
    "        self.name = name\n",
    "        self.age = age\n",
    "        \n",
    "    def say_hello(self):\n",
    "        print(f\"Hello, my name is {self.name} and I am {self.age} years old.\")\n",
    "\n",
    "person1 = Person(\"Alice\", 25)\n",
    "person2 = Person(\"Bob\", 30)\n",
    "\n",
    "person1.say_hello() # Output: Hello, my name is Alice and I am 25 years old.\n",
    "person2.say_hello() # Output: Hello, my name is Bob and I am 30 years old.\n"
   ]
  },
  {
   "cell_type": "markdown",
   "id": "a7a9be6e-145e-48c1-9fa9-d7febb3cb687",
   "metadata": {},
   "source": [
    "In this example, we define a Person class that has two attributes (name and age) and one method (say_hello). The __init__ method takes two parameters (name and age) and initializes the attributes of the object with these values using the self parameter.\n",
    "\n",
    "We create two objects (person1 and person2) from the Person class and pass in the arguments \"Alice\" and 25 for person1 and \"Bob\" and 30 for person2 to the __init__ method. The say_hello() method can be called on each object to print out a message that includes the object's name and age.\n",
    "\n",
    "By using the __init__() method, we are able to initialize the attributes of an object when it is created, which makes it easier to create objects with the correct initial state."
   ]
  },
  {
   "cell_type": "markdown",
   "id": "1fc51204-c800-48d6-b6f4-2cc58a8d71a4",
   "metadata": {},
   "source": [
    "Q4. Why self is used in OOPs?"
   ]
  },
  {
   "cell_type": "markdown",
   "id": "e9a5d6c9-c552-4768-bb93-53e6204606ff",
   "metadata": {},
   "source": [
    "In Object-Oriented Programming (OOP), the self keyword is used to refer to the current instance of a class. It is a way for a method to access and manipulate the attributes of an object that it belongs to.\n",
    "\n",
    "When a method is called on an object, the object itself is automatically passed as the first argument to the method, which is usually named self. This allows the method to access the object's attributes and call its other methods.\n",
    "\n",
    "For example, consider the following class:"
   ]
  },
  {
   "cell_type": "code",
   "execution_count": 2,
   "id": "7d77636f-25b3-4d10-89e7-3d4e378e6be7",
   "metadata": {},
   "outputs": [],
   "source": [
    "class Car:\n",
    "    def __init__(self, make, model, year):\n",
    "        self.make = make\n",
    "        self.model = model\n",
    "        self.year = year\n",
    "        \n",
    "    def description(self):\n",
    "        print(f\"This car is a {self.year} {self.make} {self.model}.\")\n"
   ]
  },
  {
   "cell_type": "markdown",
   "id": "9a7ba24f-5aee-48f8-8821-b0530ded3184",
   "metadata": {},
   "source": [
    "In this example, the __init__ method takes three parameters (make, model, and year) and initializes the attributes of the object with these values using the self parameter. The description method uses the self parameter to access the attributes of the object and print out a message that describes the car.\n",
    "\n",
    "When we create an instance of the Car class, such as my_car = Car(\"Toyota\", \"Camry\", 2022), we can then call the description method on that instance using the dot notation: my_car.description(). When the method is called, the self parameter refers to the instance my_car, and allows the method to access the attributes of my_car to print out its description.\n",
    "\n",
    "In summary, the self keyword is used in OOP to refer to the current instance of a class and allows methods to access and manipulate the attributes of the object that they belong to."
   ]
  },
  {
   "cell_type": "markdown",
   "id": "ca25601f-985c-4f58-9cb7-060fc7a65374",
   "metadata": {},
   "source": [
    "Q5. What is inheritance? Give an example for each type of inheritance."
   ]
  },
  {
   "cell_type": "markdown",
   "id": "28b889d0-a5bd-4c60-8cfa-3b80f070e306",
   "metadata": {},
   "source": [
    "Inheritance is a fundamental concept in Object-Oriented Programming (OOP) that allows a new class to be based on an existing class, inheriting the properties and methods of the existing class. The existing class is called the superclass or parent class, and the new class is called the subclass or child class.\n",
    "\n",
    "Inheritance is important in OOP because it allows code reuse, making it easier to create and maintain large programs. It also promotes code organization and makes the code more modular, allowing for easier testing and debugging.\n",
    "\n",
    "There are four types of inheritance:\n",
    "\n",
    "Single Inheritance: In single inheritance, a subclass inherits the properties and methods of a single superclass. For example, consider a class Animal that has properties and methods common to all animals, and a subclass Dog that inherits from Animal and adds specific properties and methods for dogs."
   ]
  },
  {
   "cell_type": "code",
   "execution_count": null,
   "id": "e5136936-59bb-4f0f-974e-654283f54191",
   "metadata": {},
   "outputs": [],
   "source": [
    "class Animal:\n",
    "    def __init__(self, name):\n",
    "        self.name = name\n",
    "\n",
    "    def eat(self):\n",
    "        print(f\"{self.name} is eating.\")\n",
    "\n",
    "class Dog(Animal):\n",
    "    def bark(self):\n",
    "        print(f\"{self.name} is barking.\")\n"
   ]
  },
  {
   "cell_type": "markdown",
   "id": "fc72bce7-2f4e-4efa-abaf-cb83d610b34d",
   "metadata": {},
   "source": [
    "In this example, the Dog class inherits from the Animal class and adds a new method bark(). The Dog class can access the name property and the eat() method of the Animal class.\n",
    "\n",
    "Multiple Inheritance: In multiple inheritance, a subclass inherits from multiple superclasses. For example, consider two classes Person and Employee, and a subclass Manager that inherits from both Person and Employee."
   ]
  },
  {
   "cell_type": "code",
   "execution_count": null,
   "id": "31a35534-1ef6-435d-a633-3b3f5ec88f3e",
   "metadata": {},
   "outputs": [],
   "source": [
    "class Person:\n",
    "    def __init__(self, name):\n",
    "        self.name = name\n",
    "\n",
    "    def greet(self):\n",
    "        print(f\"Hello, {self.name}.\")\n",
    "\n",
    "class Employee:\n",
    "    def __init__(self, id):\n",
    "        self.id = id\n",
    "\n",
    "    def work(self):\n",
    "        print(f\"{self.id} is working.\")\n",
    "\n",
    "class Manager(Person, Employee):\n",
    "    def schedule_meeting(self):\n",
    "        print(\"Meeting scheduled.\")\n"
   ]
  },
  {
   "cell_type": "markdown",
   "id": "e019515d-97ef-469b-9050-f6f9dea8fd83",
   "metadata": {},
   "source": [
    "In this example, the Manager class inherits from both Person and Employee, allowing it to access the properties and methods of both superclasses.\n",
    "\n",
    "Multilevel Inheritance: In multilevel inheritance, a subclass inherits from a superclass, which in turn inherits from another superclass. For example, consider three classes Animal, Mammal, and Dog, where Animal is the parent class of Mammal, and Mammal is the parent class of Dog."
   ]
  },
  {
   "cell_type": "code",
   "execution_count": 5,
   "id": "63ebfa33-bae4-43fc-9381-a05f99fba42d",
   "metadata": {},
   "outputs": [],
   "source": [
    "class Animal:\n",
    "    def __init__(self, name):\n",
    "        self.name = name\n",
    "\n",
    "    def eat(self):\n",
    "        print(f\"{self.name} is eating.\")\n",
    "\n",
    "class Mammal(Animal):\n",
    "    def give_birth(self):\n",
    "        print(f\"{self.name} is giving birth.\")\n",
    "\n",
    "class Dog(Mammal):\n",
    "    def bark(self):\n",
    "        print(f\"{self.name} is barking.\")\n"
   ]
  },
  {
   "cell_type": "markdown",
   "id": "cc1b4734-a7df-497d-af23-0b4d462a8895",
   "metadata": {},
   "source": [
    "In this example, the Dog class inherits from the Mammal class, which in turn inherits from the Animal class. The Dog class can access the properties and methods of both superclasses.\n",
    "\n",
    "Hierarchical Inheritance: In hierarchical inheritance, multiple subclasses inherit from a single superclass. For example, consider a class Shape and two subclasses Rectangle and Circle."
   ]
  },
  {
   "cell_type": "code",
   "execution_count": null,
   "id": "6ce98af5-c8c4-44e9-88a5-b9d1b2c1e651",
   "metadata": {},
   "outputs": [],
   "source": [
    "class Shape:\n",
    "    def __init__(self, color):\n",
    "        self.color = color\n",
    "\n",
    "    def draw(self):\n",
    "        print(f\"{self.color} shape is drawn.\")\n",
    "\n",
    "class Rectangle(Shape):\n",
    "    def __init__(self, color, width, height):\n",
    "        super().__init__(color)\n",
    "        self.width = width\n",
    "        self.height = height\n",
    "\n",
    "    def area(self):\n",
    "        return self.width * self.height\n",
    "\n",
    "class Circle(Shape):\n",
    "    def __init__(self, color, radius):\n",
    "        super().__init__(color)\n",
    "        self.radius = radius\n"
   ]
  }
 ],
 "metadata": {
  "kernelspec": {
   "display_name": "Python 3 (ipykernel)",
   "language": "python",
   "name": "python3"
  },
  "language_info": {
   "codemirror_mode": {
    "name": "ipython",
    "version": 3
   },
   "file_extension": ".py",
   "mimetype": "text/x-python",
   "name": "python",
   "nbconvert_exporter": "python",
   "pygments_lexer": "ipython3",
   "version": "3.10.8"
  }
 },
 "nbformat": 4,
 "nbformat_minor": 5
}
