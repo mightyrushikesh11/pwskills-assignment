{
 "cells": [
  {
   "cell_type": "markdown",
   "id": "b026e190-0ca5-4313-996d-3c31924fd0ca",
   "metadata": {},
   "source": [
    "Q1. What are the three measures of central tendency?\n",
    "\n",
    "Ans. The three measures of central tendency are:\n",
    "\n",
    "Mean: The mean is the average value of a dataset. It is calculated by adding up all the values in the dataset and dividing by the number of values.\n",
    "\n",
    "Median: The median is the middle value in a dataset when it is arranged in order from smallest to largest. If the dataset has an even number of values, the median is the average of the two middle values.\n",
    "\n",
    "Mode: The mode is the most frequently occurring value in a dataset. A dataset can have one mode, more than one mode, or no mode at all."
   ]
  },
  {
   "cell_type": "markdown",
   "id": "add38635-dfc4-43e9-b1e0-afea2b5ad08d",
   "metadata": {},
   "source": [
    "Q2. What is the difference between the mean, median, and mode? How are they used to measure the \n",
    "central tendency of a dataset?\n",
    "\n",
    "Ans. The mean, median, and mode are measures of central tendency used to describe a dataset. Each of these measures represents a different way of defining the \"center\" of a dataset.\n",
    "\n",
    "The mean, also known as the average, is calculated by adding up all the values in a dataset and dividing by the number of values. It is sensitive to outliers, meaning that extreme values can heavily influence its value. The mean is often used when the distribution of the data is roughly symmetric.\n",
    "\n",
    "The median is the middle value in a dataset when it is ordered from smallest to largest. If the dataset has an even number of values, the median is the average of the two middle values. The median is less sensitive to outliers than the mean and is often used when the distribution of the data is skewed.\n",
    "\n",
    "The mode is the value that appears most frequently in a dataset. A dataset can have multiple modes or no mode at all. The mode is useful when you want to know the most common value in a dataset.\n",
    "\n",
    "All three measures of central tendency can be used to summarize a dataset, but the choice of which one to use depends on the characteristics of the data. For example, if the dataset has extreme values or outliers, the median may be a better measure of central tendency than the mean. If the dataset has multiple modes, the mode may be more useful than the median or mean."
   ]
  },
  {
   "cell_type": "markdown",
   "id": "ab0c9098-29c0-410b-827b-84a4fc578340",
   "metadata": {},
   "source": [
    "Q3. Measure the three measures of central tendency for the given height data:\n",
    "\n",
    " [178,177,176,177,178.2,178,175,179,180,175,178.9,176.2,177,172.5,178,176.5]"
   ]
  },
  {
   "cell_type": "code",
   "execution_count": 5,
   "id": "a10ff4df-1351-4e98-97e5-9591533db3f6",
   "metadata": {},
   "outputs": [
    {
     "name": "stdout",
     "output_type": "stream",
     "text": [
      "Mean =  177.01875\n",
      "Median =  177.0\n",
      "Mode =  ModeResult(mode=177.0, count=3)\n"
     ]
    }
   ],
   "source": [
    "l=[178,177,176,177,178.2,178,175,179,180,175,178.9,176.2,177,172.5,178,176.5]\n",
    "\n",
    "import numpy as np\n",
    "a=np.mean(l)\n",
    "b=np.median(l)\n",
    "from scipy import stats\n",
    "c= stats.mode(l,axis=None, keepdims=False)\n",
    "\n",
    "print('Mean = ',a)\n",
    "print('Median = ',b)\n",
    "print('Mode = ',c)\n"
   ]
  },
  {
   "cell_type": "markdown",
   "id": "d27acbaa-da83-4c11-acb9-02976ac74434",
   "metadata": {},
   "source": [
    "Q4. Find the standard deviation for the given data:\n",
    "\n",
    "[178,177,176,177,178.2,178,175,179,180,175,178.9,176.2,177,172.5,178,176.5]"
   ]
  },
  {
   "cell_type": "code",
   "execution_count": 4,
   "id": "fadfee0e-cc96-494a-ab13-844f697f0e26",
   "metadata": {},
   "outputs": [
    {
     "name": "stdout",
     "output_type": "stream",
     "text": [
      "Standard deviation =  1.7885814036548633\n"
     ]
    }
   ],
   "source": [
    "l1=[178,177,176,177,178.2,178,175,179,180,175,178.9,176.2,177,172.5,178,176.5]\n",
    "import numpy as np\n",
    "d=np.std(l1)\n",
    "print('Standard deviation = ',d)"
   ]
  },
  {
   "cell_type": "markdown",
   "id": "58aa8e2c-ab24-46c7-82cb-c700f6092bd6",
   "metadata": {},
   "source": [
    "Q5. How are measures of dispersion such as range, variance, and standard deviation used to describe \n",
    "the spread of a dataset? Provide an example."
   ]
  },
  {
   "cell_type": "markdown",
   "id": "76b5e0f9-bb1e-4e96-ad02-e3356768db53",
   "metadata": {},
   "source": [
    "Ans. Measures of dispersion such as range, variance, and standard deviation are used to describe the spread of a dataset. The spread of a dataset refers to how much the data points in the set differ from each other. The larger the spread, the more diverse the data points are, while the smaller the spread, the more similar the data points are.\n",
    "\n",
    "Range is a measure of dispersion that represents the difference between the highest and lowest values in a dataset. It is a simple way to measure the spread of a dataset, but it is less precise than other measures. For example, if we have a dataset of test scores for a class of 30 students, the range of the scores could be calculated as the difference between the highest score and the lowest score.\n",
    "\n",
    "Variance is a more precise measure of dispersion that calculates how far each data point is from the mean (average) of the dataset. It is calculated by squaring the difference between each data point and the mean, summing these values, and dividing by the number of data points. A high variance indicates that the data points are widely spread out, while a low variance indicates that the data points are clustered closely around the mean.\n",
    "\n",
    "Standard deviation is the square root of the variance and is another commonly used measure of dispersion. It indicates the typical distance between each data point and the mean of the dataset. A high standard deviation indicates that the data points are spread out over a wider range, while a low standard deviation indicates that the data points are clustered closely around the mean.\n",
    "\n",
    "For example, suppose we have a dataset of the weights of 20 people, and we calculate the range, variance, and standard deviation of the dataset. The range might be calculated as the difference between the heaviest and lightest person in the dataset. The variance and standard deviation would measure how much the individual weights deviate from the average weight of the entire group, giving us an indication of how much variability there is in the dataset"
   ]
  },
  {
   "cell_type": "markdown",
   "id": "5173d43f-8a0c-48ef-92d4-3ec29d91713b",
   "metadata": {},
   "source": [
    "Q6. What is a Venn diagram?\n"
   ]
  },
  {
   "cell_type": "markdown",
   "id": "693c4435-8fc6-4ccd-950a-a2ee6c9d2c65",
   "metadata": {},
   "source": [
    "Ans.A Venn diagram is a visual representation of the relationships between different sets of items. It consists of overlapping circles or other shapes that represent the sets, with the overlapping portions representing the items that belong to more than one set. The Venn diagram is named after the mathematician John Venn, who introduced the concept in the late 19th century.\n",
    "\n",
    "Venn diagrams are often used to illustrate logical relationships between sets, such as the intersections and unions of different groups. They can be used to compare and contrast different categories or to visualize the overlap between different groups of data.\n",
    "\n",
    "For example, suppose we have two sets of data: Set A contains all the apples in a grocery store, and Set B contains all the bananas. We could use a Venn diagram to illustrate the relationship between these two sets. The circle representing Set A would contain all the apples, while the circle representing Set B would contain all the bananas. The overlapping portion of the circles would represent the items that belong to both sets, which in this case would be any apple-banana fruit salads or other mixed fruit dishes.\n"
   ]
  },
  {
   "cell_type": "markdown",
   "id": "f8355efe-a564-4e94-b034-17bf882cc8ef",
   "metadata": {},
   "source": [
    "Q7. For the two given sets A = (2,3,4,5,6,7) & B = (0,2,6,8,10). Find:\n",
    "\n",
    "(i) \tA B\n",
    "\n",
    "(ii)\tA ⋃ B"
   ]
  },
  {
   "cell_type": "code",
   "execution_count": null,
   "id": "76d565d2-1493-44f8-8b8f-57384f78042a",
   "metadata": {},
   "outputs": [],
   "source": [
    "A ∩ B ={2,6}\n",
    "A ⋃ B ={0,2,3,4,5,6,7,8,10}"
   ]
  },
  {
   "cell_type": "markdown",
   "id": "d1c32ecf-c313-46ed-82da-4f553d19ff9d",
   "metadata": {},
   "source": [
    "Q8. What do you understand about skewness in data?"
   ]
  },
  {
   "cell_type": "markdown",
   "id": "45bbfe5f-c8a6-42c7-af61-0fdec7730af4",
   "metadata": {},
   "source": [
    "Skewness is a measure of the asymmetry of a probability distribution. In other words, it describes the degree to which a distribution deviates from being symmetric.\n",
    "\n",
    "If the majority of the data is on the left side of the distribution, and the right side of the distribution has a long tail, the distribution is said to be positively skewed or right-skewed. On the other hand, if the majority of the data is on the right side of the distribution, and the left side of the distribution has a long tail, the distribution is said to be negatively skewed or left-skewed. A perfectly symmetric distribution has a skewness of zero.\n",
    "\n",
    "Skewness can be calculated using a formula that takes into account the deviation of each data point from the mean and the standard deviation. Positive skewness is indicated by a positive value, while negative skewness is indicated by a negative value.\n",
    "\n",
    "Skewness is an important concept in statistics because it affects the interpretation of many statistical measures, such as the mean and the standard deviation. In skewed distributions, the mean tends to be pulled towards the direction of the skewness, while the median tends to be a better measure of central tendency. Therefore, it is important to take skewness into account when analyzing and interpreting data."
   ]
  },
  {
   "cell_type": "markdown",
   "id": "4a3c0408-67e1-4ad9-9f2c-8d250d08b3cd",
   "metadata": {},
   "source": [
    "Q9. If a data is right skewed then what will be the position of median with respect to mean?"
   ]
  },
  {
   "cell_type": "markdown",
   "id": "59952770-687d-470f-a40f-0cb200688e5a",
   "metadata": {},
   "source": [
    "If a data distribution is right-skewed, meaning that it has a long tail to the right, the median will typically be lower than the mean.\n",
    "\n",
    "This is because the mean is influenced by extreme values on the right side of the distribution, which pull it in that direction, while the median is not. The median represents the middle value of the dataset when it is arranged in ascending or descending order, so it is less affected by extreme values.\n",
    "\n",
    "For example, suppose we have a dataset of exam scores that is right-skewed. The majority of the students may have received scores in the 70s or 80s, but there may be a few students who scored in the 90s or even 100. These high scores would push the mean higher than the median, which would remain in the 70s or 80s where the bulk of the data is located.\n",
    "\n",
    "Therefore, in a right-skewed distribution, the median is typically lower than the mean. Conversely, in a left-skewed distribution, the median is typically higher than the mean.\n"
   ]
  },
  {
   "cell_type": "markdown",
   "id": "31b1137d-7a5a-46b8-bec9-ca41e7de588d",
   "metadata": {},
   "source": [
    "Q10. Explain the difference between covariance and correlation. How are these measures used in \n",
    "statistical analysis?"
   ]
  },
  {
   "cell_type": "markdown",
   "id": "bb903919-fcad-44b7-9da8-dd4ec383819d",
   "metadata": {},
   "source": [
    "Covariance and correlation are both measures of the relationship between two variables in a dataset, but they have different interpretations and uses.\n",
    "\n",
    "Covariance is a measure of the degree to which two variables vary together. It measures how much one variable changes when the other variable changes. Specifically, covariance is calculated as the average of the products of the deviations of each variable from its mean. Covariance can be positive, negative, or zero. A positive covariance indicates that the two variables tend to move in the same direction, while a negative covariance indicates that they tend to move in opposite directions. A covariance of zero indicates that there is no linear relationship between the variables.\n",
    "\n",
    "Correlation, on the other hand, is a standardized measure of the linear relationship between two variables. It is calculated as the covariance between the two variables divided by the product of their standard deviations. Correlation can range from -1 to 1. A correlation of +1 indicates a perfect positive linear relationship between the two variables, a correlation of -1 indicates a perfect negative linear relationship between the two variables, and a correlation of 0 indicates no linear relationship between the two variables.\n",
    "\n",
    "In statistical analysis, covariance and correlation are used to determine the strength and direction of the relationship between two variables. Correlation is a more commonly used measure because it is standardized and allows for comparisons between different datasets. It is used to determine whether two variables are related and to what extent, and it is used in predictive modeling and regression analysis to determine the strength of the relationship between independent and dependent variables.\n",
    "\n",
    "Covariance is used less frequently because it is not standardized, and its value depends on the units of measurement of the two variables. However, it is useful for understanding the direction of the relationship between two variables and for calculating other statistical measures such as the slope of a regression line.\n",
    "\n",
    "Overall, both covariance and correlation are important measures in statistical analysis and are used to understand the relationship between two variables. However, correlation is generally preferred over covariance because it is a standardized measure that allows for comparisons between different datasets."
   ]
  },
  {
   "cell_type": "markdown",
   "id": "25fce1a9-8672-4f04-92d2-35ee9aa3210c",
   "metadata": {},
   "source": [
    "Q11. What is the formula for calculating the sample mean? Provide an example calculation for a \n",
    "dataset."
   ]
  },
  {
   "cell_type": "markdown",
   "id": "8a12ce7a-fc57-4290-9084-82710110e6cf",
   "metadata": {},
   "source": [
    "The formula for calculating the sample mean is:\n",
    "\n",
    "sample mean = (sum of all values in the sample) / (number of values in the sample)\n",
    "\n",
    "In other words, to find the sample mean, you add up all the values in the sample and then divide by the total number of values.\n",
    "\n",
    "Here's an example calculation:\n",
    "\n",
    "Suppose we have the following dataset of exam scores for a class of 10 students:\n",
    "\n",
    "78, 82, 90, 72, 85, 88, 92, 79, 81, 87\n",
    "\n",
    "To find the sample mean, we add up all the scores and then divide by the total number of scores:\n",
    "\n",
    "(78 + 82 + 90 + 72 + 85 + 88 + 92 + 79 + 81 + 87) / 10\n",
    "\n",
    "= 846 / 10\n",
    "\n",
    "= 84.6\n",
    "\n",
    "Therefore, the sample mean for this dataset is 84.6."
   ]
  },
  {
   "cell_type": "markdown",
   "id": "941e60f5-5f92-4b69-8610-4b99d981a2e8",
   "metadata": {},
   "source": [
    "Q12. For a normal distribution data what is the relationship between its measure of central tendency?"
   ]
  },
  {
   "cell_type": "markdown",
   "id": "e9ca04fb-51c9-484b-8be8-38408250e7db",
   "metadata": {},
   "source": [
    "For a normal distribution data, the three measures of central tendency, namely mean, median, and mode, are all equal.\n",
    "\n",
    "This is because the normal distribution is a symmetric distribution, where the data is evenly distributed around the mean value. As a result, the mean, median, and mode all lie at the center of the distribution, and they are all equal.\n",
    "\n",
    "Therefore, if you have a normally distributed dataset, you can use any of these measures of central tendency to describe the center of the distribution. The choice of which one to use may depend on the specific context or purpose of your analysis."
   ]
  },
  {
   "cell_type": "markdown",
   "id": "5c3e1e0d-dc0e-459f-b892-85ff355944a5",
   "metadata": {},
   "source": [
    "Q13. How is covariance different from correlation?"
   ]
  },
  {
   "cell_type": "markdown",
   "id": "5fda656f-d437-45e4-b692-67f28dfa6b50",
   "metadata": {},
   "source": [
    "Covariance and correlation are two statistical measures that describe the relationship between two variables, but they are different in their interpretation and scale of measurement.\n",
    "\n",
    "Covariance measures the degree to which two variables vary together, and it is a measure of the joint variability of two random variables. Specifically, covariance is calculated as the average of the product of the deviations of each variable from its mean. Covariance can take any value, positive, negative, or zero, and the magnitude of the covariance depends on the scale of measurement of the variables.\n",
    "\n",
    "Correlation, on the other hand, measures the strength and direction of the linear relationship between two variables, and it is a standardized measure of association. Correlation is calculated as the covariance divided by the product of the standard deviations of the two variables. Correlation ranges from -1 to +1, with a correlation of +1 indicating a perfect positive linear relationship, a correlation of -1 indicating a perfect negative linear relationship, and a correlation of 0 indicating no linear relationship.\n",
    "\n",
    "In summary, covariance measures the degree of association between two variables, but it does not provide information on the strength or direction of the relationship. Correlation, on the other hand, measures the strength and direction of the linear relationship between two variables and is expressed on a standardized scale."
   ]
  },
  {
   "cell_type": "markdown",
   "id": "55ae4a12-5849-4136-871d-207f071c3b28",
   "metadata": {},
   "source": [
    "Q14. How do outliers affect measures of central tendency and dispersion? Provide an example"
   ]
  },
  {
   "cell_type": "markdown",
   "id": "130301b2-e38f-4477-900c-46fdbec24372",
   "metadata": {},
   "source": [
    "Outliers can have a significant impact on measures of central tendency and dispersion in a dataset, particularly if they are extreme values that are far from the majority of the data.\n",
    "\n",
    "Measures of central tendency, such as the mean and median, can be heavily influenced by outliers. The mean is particularly sensitive to outliers because it takes into account every data point in the dataset. As a result, an outlier that is significantly different from the other values can pull the mean in its direction. On the other hand, the median is less sensitive to outliers because it is based only on the middle value of the dataset.\n",
    "\n",
    "Measures of dispersion, such as the range, interquartile range, and standard deviation, can also be affected by outliers. Outliers that are significantly larger or smaller than the majority of the data can increase the range and the standard deviation, making it difficult to interpret the spread of the data. The interquartile range (IQR) is less sensitive to outliers than the range or standard deviation because it is based on the middle 50% of the data and not affected by extreme values.\n",
    "\n",
    "For example, let's say we have a dataset of salaries of employees in a company. Most of the employees earn salaries between $40,000 and $80,000, but there is one employee who earns $1 million per year. This is an extreme outlier that is significantly higher than the other salaries in the dataset. If we calculate the mean salary, the outlier will heavily influence the result, and the mean salary will be much higher than what most employees earn. On the other hand, the median salary will be less affected by the outlier, and it will provide a better estimate of the typical salary in the company. Similarly, the standard deviation will be affected by the outlier, making it difficult to interpret the spread of salaries in the company."
   ]
  }
 ],
 "metadata": {
  "kernelspec": {
   "display_name": "Python 3 (ipykernel)",
   "language": "python",
   "name": "python3"
  },
  "language_info": {
   "codemirror_mode": {
    "name": "ipython",
    "version": 3
   },
   "file_extension": ".py",
   "mimetype": "text/x-python",
   "name": "python",
   "nbconvert_exporter": "python",
   "pygments_lexer": "ipython3",
   "version": "3.10.8"
  }
 },
 "nbformat": 4,
 "nbformat_minor": 5
}
