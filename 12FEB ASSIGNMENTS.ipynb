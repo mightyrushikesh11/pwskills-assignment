{
 "cells": [
  {
   "cell_type": "markdown",
   "id": "7e9bde3b-e430-4f62-8bd9-a8ce6560ce2d",
   "metadata": {},
   "source": [
    "Q1. What is an Exception in python? Write the difference between Exceptions and Syntax errors.\n",
    "\n",
    "Ans. Exception is an event which occurs during the execution of the program. when exception occurs, python interrupts the current execution and raise an exception object with eroor message.Ex. file not found, divisible by zero etc. it can be handled through try-except bolck.\n",
    "\n",
    "whereas syntax error occurs before the execution program through python interpreter and the error will be syntax error:\n",
    "To fix this error we need to rectify the syntax error first the we can execute the code."
   ]
  },
  {
   "cell_type": "markdown",
   "id": "59076268-9e4a-4e65-9700-70af6c4d7b0f",
   "metadata": {},
   "source": [
    "Q2. What happens when an exception is not handled? Explain with an example."
   ]
  },
  {
   "cell_type": "markdown",
   "id": "b048c6a9-3551-4385-af99-76c6b75dcc91",
   "metadata": {},
   "source": [
    "Ans. If exception will not handled in any specific program and program have some error then during execution the program will stop executing once error line starts to execute but if we want to execute any programs with some errors we can do this through exception handling ie. to use TRY-EXCEPT BLOCK.\n"
   ]
  },
  {
   "cell_type": "code",
   "execution_count": 2,
   "id": "a839b282-1a82-4410-ba53-f1b980db1559",
   "metadata": {},
   "outputs": [
    {
     "name": "stdout",
     "output_type": "stream",
     "text": [
      "try block not executed because of the error >> division by zero\n"
     ]
    }
   ],
   "source": [
    "#EX.\n",
    "try:\n",
    "    a=1/0\n",
    "    print('Execute try block if it is error free')\n",
    "except Exception as e:\n",
    "    print('try block not executed because of the error >>',e)"
   ]
  },
  {
   "cell_type": "markdown",
   "id": "75765615-c533-43e0-8065-cb17ae0838a4",
   "metadata": {},
   "source": [
    "Q3. Which Python statements are used to catch and handle exceptions? Explain with an example.\n",
    "\n",
    "Ans. To catch and handle exception TRY_EXCEPT statements are used.\n",
    "\n",
    "TRY- It have code that may raise exception.\n",
    "EXCEPT- It have code that will execute when exception occurs in try block.\n",
    "\n",
    "#EX.\n",
    "try:\n",
    "    a=1/0\n",
    "    print('Execute try block if it is error free')\n",
    "except Exception as e:\n",
    "    print('try block not executed because of the error >>',e)\n",
    "    \n",
    "In above example try block encountered an an error ie. zero division error hence except block executed     "
   ]
  },
  {
   "cell_type": "markdown",
   "id": "50e4d5f2-bc1b-4121-9348-808e7b54d66b",
   "metadata": {},
   "source": [
    "Q4. Explain with an example\n",
    "a. try and else\n",
    "b. Finally\n",
    "c. Raise"
   ]
  },
  {
   "cell_type": "code",
   "execution_count": 4,
   "id": "72db3749-956c-4911-9852-bbe77e6cac06",
   "metadata": {},
   "outputs": [
    {
     "name": "stdout",
     "output_type": "stream",
     "text": [
      "Try bock executed with value a  10\n",
      "now else will also executed because try block is error free\n"
     ]
    }
   ],
   "source": [
    "#TRY-ELSE\n",
    "try:\n",
    "    a=10\n",
    "    print('Try bock executed with value a ',a)\n",
    "except Exception as e:\n",
    "    print('error',e)\n",
    "else:\n",
    "    print('now else will also executed because try block is error free')\n",
    "#Explanation- else block will execute if try will execute and try will execute when it is error free.    "
   ]
  },
  {
   "cell_type": "code",
   "execution_count": 5,
   "id": "f26c1f9d-f7b6-4fcd-a39a-d461d4f9ce44",
   "metadata": {},
   "outputs": [
    {
     "name": "stdout",
     "output_type": "stream",
     "text": [
      "Try bock executed with value a  10\n",
      "now else will also executed because try block is error free\n",
      "it's ececution doesn't depends upon any block execution\n"
     ]
    }
   ],
   "source": [
    "# FINALLY\n",
    "\n",
    "try:\n",
    "    a=10\n",
    "    print('Try bock executed with value a ',a)\n",
    "except Exception as e:\n",
    "    print('error',e)\n",
    "else:\n",
    "    print('now else will also executed because try block is error free')\n",
    "finally:\n",
    "    print(\"it's execution doesn't depends upon any block execution\")\n",
    "#Exaplanation: finally xecution doesn't depends upon any block execution(see the output)    "
   ]
  },
  {
   "cell_type": "markdown",
   "id": "0edda4b9-dfb0-495b-9975-6f63f28f842b",
   "metadata": {},
   "source": [
    "# RAISE\n",
    "In Python, the raise statement is used to manually raise an exception. When a program encounters an error or an unexpected situation, the raise statement can be used to stop the program execution and raise an exception that can be caught and handled.\n",
    "\n",
    "\n",
    "For example, to raise a ValueError exception with the message \"Invalid input\", We can use the following code:\n",
    "\n",
    "\n",
    "x = input(\"Enter a number: \")\n",
    "if not x.isdigit():\n",
    "    raise ValueError(\"Invalid input\")\n",
    "In this example, if the user enters a non-numeric input, a ValueError exception is raised with the message \"Invalid input\".\n",
    "\n",
    "The raise statement is typically used when a program encounters an error that cannot be handled by the program itself. The exception can then be caught by an error handling mechanism, such as a try...except block, and appropriate action can be taken.\n"
   ]
  },
  {
   "cell_type": "markdown",
   "id": "ad575bc4-fabe-4f6a-9c53-0a6323109eb5",
   "metadata": {},
   "source": [
    "Q5. What are Custom Exceptions in python? Why do we need Custom Exceptions? Explain with an example.\n",
    "\n",
    "Ans.Custom exceptions in Python are user-defined exceptions that can be raised when a particular error occurs in a program. These exceptions are created by inheriting from the Exception class or one of its subclasses, and they allow developers to define their own specific types of exceptions with customized error messages and attributes.\n",
    "\n",
    "We need custom exceptions in Python because they allow us to handle specific errors in a more precise and efficient way. Instead of relying on general-purpose exceptions, such as ValueError or TypeError, we can create custom exceptions that are tailored to the specific needs of our program. This can make our code more readable, maintainable, and easier to debug.\n",
    "\n",
    "EX.\n",
    "\n",
    "class a (Exception):\n",
    "    def __init__(self, sal):\n",
    "        self.sal=sal\n",
    "def b(salary):\n",
    "    if salary <0:\n",
    "        raise a(\"It cann't be possible to work\")\n",
    "    elif salary>500000:\n",
    "        raise a('Exceptional salary')\n",
    "    else:\n",
    "        print('normal salary')  \n",
    "try:\n",
    "    salary=int(input('Enter your salary'))\n",
    "    b(salary)\n",
    "except Exception as e:\n",
    "    print(e)\n",
    "            "
   ]
  },
  {
   "cell_type": "markdown",
   "id": "51f5e3b9-f4db-4d4e-bf60-314029b34936",
   "metadata": {},
   "source": [
    "Q6. Create a custom exception class. Use this class to handle an exception."
   ]
  },
  {
   "cell_type": "code",
   "execution_count": 7,
   "id": "d4eb5122-feb7-4b8e-8b8b-017adc371a20",
   "metadata": {},
   "outputs": [],
   "source": [
    "\n",
    "\n",
    "class a (Exception):\n",
    "    def __init__(self, sal):\n",
    "        self.sal=sal"
   ]
  },
  {
   "cell_type": "code",
   "execution_count": 8,
   "id": "8064c502-126e-4ae4-b090-e044e1eeaceb",
   "metadata": {},
   "outputs": [],
   "source": [
    "def b(salary):\n",
    "    if salary <0:\n",
    "        raise a(\"It cann't be possible to work\")\n",
    "    elif salary>500000:\n",
    "        raise a('Exceptional salary')\n",
    "    else:\n",
    "        print('normal salary')"
   ]
  },
  {
   "cell_type": "code",
   "execution_count": 11,
   "id": "200c3fb5-dd09-4408-b10a-5d1096b432c3",
   "metadata": {},
   "outputs": [
    {
     "name": "stdin",
     "output_type": "stream",
     "text": [
      "Enter your salary 600000\n"
     ]
    },
    {
     "name": "stdout",
     "output_type": "stream",
     "text": [
      "Exceptional salary\n"
     ]
    }
   ],
   "source": [
    "try:\n",
    "    salary=int(input('Enter your salary'))\n",
    "    b(salary)\n",
    "except Exception as e:\n",
    "    print(e)\n",
    "    "
   ]
  },
  {
   "cell_type": "code",
   "execution_count": null,
   "id": "c1af34a1-bc0a-4197-9504-22164a2de015",
   "metadata": {},
   "outputs": [],
   "source": []
  }
 ],
 "metadata": {
  "kernelspec": {
   "display_name": "Python 3 (ipykernel)",
   "language": "python",
   "name": "python3"
  },
  "language_info": {
   "codemirror_mode": {
    "name": "ipython",
    "version": 3
   },
   "file_extension": ".py",
   "mimetype": "text/x-python",
   "name": "python",
   "nbconvert_exporter": "python",
   "pygments_lexer": "ipython3",
   "version": "3.10.8"
  }
 },
 "nbformat": 4,
 "nbformat_minor": 5
}
