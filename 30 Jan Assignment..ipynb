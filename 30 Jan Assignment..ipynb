{
 "cells": [
  {
   "cell_type": "markdown",
   "id": "06943920-db6f-40b2-81c8-cf672f5bd4a9",
   "metadata": {},
   "source": [
    "ASSIGNMENT-02"
   ]
  },
  {
   "cell_type": "code",
   "execution_count": 5,
   "id": "eec196f5-474e-4590-ad1b-5770e0a1445b",
   "metadata": {},
   "outputs": [
    {
     "name": "stdin",
     "output_type": "stream",
     "text": [
      "Enter your percentage :  95\n"
     ]
    },
    {
     "name": "stdout",
     "output_type": "stream",
     "text": [
      "GRADE A\n"
     ]
    }
   ],
   "source": [
    "# QUESTION 01\n",
    "\n",
    "percentage= int(input(\"Enter your percentage : \"))\n",
    "if percentage>90:\n",
    "    print('GRADE A')\n",
    "elif percentage>80 and percentage <=90:\n",
    "    print('GRADE B')\n",
    "elif percentage >=60 and percentage<=80:\n",
    "    print('GRADE C')\n",
    "elif percentage <60:\n",
    "    print('GRADE D')\n",
    "    \n"
   ]
  },
  {
   "cell_type": "code",
   "execution_count": 7,
   "id": "e1361373-77d9-497e-8b1e-0d5e0fdaf294",
   "metadata": {},
   "outputs": [
    {
     "name": "stdin",
     "output_type": "stream",
     "text": [
      "Enter the Bike cost :  145845\n"
     ]
    },
    {
     "name": "stdout",
     "output_type": "stream",
     "text": [
      "You have to pay 15% tax\n"
     ]
    }
   ],
   "source": [
    "# QUESTION 02\n",
    "\n",
    "Bike_cost= int(input('Enter the Bike cost : '))\n",
    "if Bike_cost>100000:\n",
    "    print('You have to pay 15% tax')\n",
    "elif Bike_cost>50000 and Bike_cost<=100000: \n",
    "     print('You have to pay 10% tax')\n",
    "elif Bike_cost<=50000:\n",
    "     print('You have to pay 5% tax')        "
   ]
  },
  {
   "cell_type": "code",
   "execution_count": 21,
   "id": "01b7e0f2-4124-4b78-91a8-93578b1d4604",
   "metadata": {},
   "outputs": [
    {
     "name": "stdout",
     "output_type": "stream",
     "text": [
      "City_table = ['Delhi', 'Agra', 'Jaipur']\n"
     ]
    },
    {
     "name": "stdin",
     "output_type": "stream",
     "text": [
      "Select city from the above city_table list to know about its Monument :  Delhi\n"
     ]
    },
    {
     "name": "stdout",
     "output_type": "stream",
     "text": [
      "The Monument of Delhi is RED FORT \n"
     ]
    }
   ],
   "source": [
    "# QUESTION 03\n",
    "\n",
    "City_table= ['Delhi','Agra','Jaipur']\n",
    "print('City_table =',City_table)\n",
    "City= input('Select city from the above city_table list to know about its Monument : ')\n",
    "if City==\"Delhi\":\n",
    "    print(\"The Monument of Delhi is RED FORT \")\n",
    "elif City==\"Agra\":    \n",
    "    print(\"The Monument of Agra is TAJ MAHAL \")\n",
    "elif City==\"Jaipur\":    \n",
    "    print(\"The Monument of Jaipur is JAL MAHAL \")\n",
    "else:\n",
    "    print('City is not in the City_table list')"
   ]
  },
  {
   "cell_type": "code",
   "execution_count": 10,
   "id": "53b09f57-eb0f-4844-a02f-1b21f6ef5796",
   "metadata": {},
   "outputs": [
    {
     "name": "stdin",
     "output_type": "stream",
     "text": [
      "Enter the number 180\n"
     ]
    },
    {
     "name": "stdout",
     "output_type": "stream",
     "text": [
      "3\n"
     ]
    }
   ],
   "source": [
    "# Question 04. Check how many times a given no can be divided by 3 before it is less than 10.\n",
    "n=int(input('Enter the number'))\n",
    "c=0\n",
    "while n>=10:\n",
    "    n=n/3\n",
    "    c+=1\n",
    "print(c)    \n",
    "    \n",
    "    "
   ]
  },
  {
   "cell_type": "markdown",
   "id": "e25f39f4-cfe3-4b5c-8ac9-da8f0e0906fc",
   "metadata": {},
   "source": [
    "5. Why and when to use while loop in python give a detailed discription with example.\n",
    "\n",
    "Ans. we use while loop to execute a set of statements as long as the condition is True.\n",
    "\n",
    "EX: Print i as long as i is less than 6:\n",
    "   \n",
    "   i = 1\n",
    "while i < 6:\n",
    "  print(i)\n",
    "  i += 1\n",
    "   \n",
    " Note: we need to increment i to stop the loop as per defined condition otherwise loop will continue forever.\n",
    " \n",
    " we aalso use \"ELSE\" statement with while loop and it will execute when the while loop condition will become False and executed fully (else not executed if break statement executed once)."
   ]
  },
  {
   "cell_type": "markdown",
   "id": "aab79c16-35f7-4d6d-9eee-eecd7e191eb6",
   "metadata": {},
   "source": [
    "6. Use nested while loop to print three different pattern"
   ]
  },
  {
   "cell_type": "code",
   "execution_count": 12,
   "id": "916889f5-38a3-4f7b-93d5-1291f0b24b32",
   "metadata": {},
   "outputs": [
    {
     "name": "stdout",
     "output_type": "stream",
     "text": [
      "*\n",
      "*\n",
      "*\n",
      "*\n",
      "*\n",
      "*\n",
      "*\n",
      "*\n",
      "*\n",
      "*\n",
      "*\n",
      "*\n",
      "*\n",
      "*\n",
      "*\n"
     ]
    }
   ],
   "source": [
    "i=1\n",
    "while i<=5:\n",
    "    j=1\n",
    "    while j<=i:\n",
    "        print(\"*\")\n",
    "        j+=1\n",
    "    i+=1    \n",
    "        "
   ]
  },
  {
   "cell_type": "code",
   "execution_count": 13,
   "id": "4ef65977-224e-49a9-a434-3c7d398394ca",
   "metadata": {},
   "outputs": [
    {
     "name": "stdout",
     "output_type": "stream",
     "text": [
      "* * * * * * * * * * * * * * * "
     ]
    }
   ],
   "source": [
    "i=1\n",
    "while i<=5:\n",
    "    j=1\n",
    "    while j<=i:\n",
    "        print(\"*\",end =\" \")\n",
    "        j+=1\n",
    "    i+=1  "
   ]
  },
  {
   "cell_type": "code",
   "execution_count": 14,
   "id": "1bffe041-24db-4ffe-a6d2-ce7a7b156d9e",
   "metadata": {},
   "outputs": [
    {
     "name": "stdout",
     "output_type": "stream",
     "text": [
      "* \n",
      "* * \n",
      "* * * \n",
      "* * * * \n",
      "* * * * * \n"
     ]
    }
   ],
   "source": [
    "i=1\n",
    "while i<=5:\n",
    "    j=1\n",
    "    while j<=i:\n",
    "        print(\"*\",end =\" \")\n",
    "        j+=1\n",
    "    print()    \n",
    "    i+=1 "
   ]
  },
  {
   "cell_type": "markdown",
   "id": "e4554c24-f347-4010-9ebd-cf4e1ea2774c",
   "metadata": {},
   "source": [
    "8. Reverse a while loop to display numbers from 10 to 1."
   ]
  },
  {
   "cell_type": "code",
   "execution_count": 20,
   "id": "935593a4-696b-4dbb-af5a-d4c451de63d4",
   "metadata": {},
   "outputs": [
    {
     "name": "stdout",
     "output_type": "stream",
     "text": [
      "[10, 9, 8, 7, 6, 5, 4, 3, 2, 1]\n"
     ]
    }
   ],
   "source": [
    "i=10\n",
    "l=[]\n",
    "while i>=1:\n",
    "    l.append(i)\n",
    "    i-=1\n",
    "print(l)    "
   ]
  }
 ],
 "metadata": {
  "kernelspec": {
   "display_name": "Python 3 (ipykernel)",
   "language": "python",
   "name": "python3"
  },
  "language_info": {
   "codemirror_mode": {
    "name": "ipython",
    "version": 3
   },
   "file_extension": ".py",
   "mimetype": "text/x-python",
   "name": "python",
   "nbconvert_exporter": "python",
   "pygments_lexer": "ipython3",
   "version": "3.10.8"
  }
 },
 "nbformat": 4,
 "nbformat_minor": 5
}
