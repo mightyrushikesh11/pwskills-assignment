{
 "cells": [
  {
   "cell_type": "markdown",
   "id": "183207c7-d77c-4d71-baf2-e842c61a6312",
   "metadata": {},
   "source": [
    "Q1. Explain the assumptions required to use ANOVA and provide examples of violations that could impact\n",
    "the validity of the results."
   ]
  },
  {
   "cell_type": "markdown",
   "id": "c376ed0b-df82-447f-b4e2-aac5dc73d3dd",
   "metadata": {},
   "source": [
    "Analysis of variance (ANOVA) is a statistical technique used to compare the means of three or more groups. The following are the assumptions that must be met in order to use ANOVA:\n",
    "\n",
    "Independence: The data points within each group must be independent of each other.\n",
    "\n",
    "Normality: The data within each group must be normally distributed.\n",
    "\n",
    "Homogeneity of variance: The variance of the data in each group must be equal.\n",
    "\n",
    "Random sampling: The data must be randomly sampled from the population.\n",
    "\n",
    "Violations of these assumptions can impact the validity of the ANOVA results. Here are some examples of possible violations:\n",
    "\n",
    "Independence: Violations of independence occur when the data points within a group are not independent. For example, if measurements are taken from the same individual over time, the data points may be correlated.\n",
    "\n",
    "Normality: A violation of normality occurs when the data within a group is not normally distributed. For example, if the data is skewed or has extreme outliers, it may not meet the assumption of normality.\n",
    "\n",
    "Homogeneity of variance: A violation of homogeneity of variance occurs when the variance of the data in each group is not equal. For example, if the variance of the data in one group is much larger than the variance in another group, it may violate this assumption.\n",
    "\n",
    "Random sampling: Violations of random sampling occur when the data is not randomly sampled from the population. For example, if certain groups are intentionally oversampled, it may bias the results.\n",
    "\n",
    "It is important to check for violations of these assumptions before conducting an ANOVA to ensure that the results are valid. If any of these assumptions are violated, alternative statistical tests may be more appropriate."
   ]
  },
  {
   "cell_type": "markdown",
   "id": "1946f484-cf44-4d30-9238-4f229c3b70c7",
   "metadata": {},
   "source": [
    "Q2. What are the three types of ANOVA, and in what situations would each be used?"
   ]
  },
  {
   "cell_type": "markdown",
   "id": "6c6cb49f-e4f6-47b8-a34e-6a08d14460f8",
   "metadata": {},
   "source": [
    "ANOVA stands for analysis of variance, which is a statistical method used to test for differences between groups. There are three main types of ANOVA:\n",
    "\n",
    "One-way ANOVA: This is used when you have one independent variable (also called a factor) with three or more levels, and you want to test for differences between the means of the dependent variable (the outcome variable) across the levels of the independent variable. For example, you might use a one-way ANOVA to test whether there are differences in weight gain among people who are on three different diets.\n",
    "\n",
    "Two-way ANOVA: This is used when you have two independent variables (also called factors), and you want to test for the effects of each factor on the dependent variable, as well as their interaction. For example, you might use a two-way ANOVA to test whether there are differences in weight gain among people who are on three different diets, and whether the effect of the diet varies by gender.\n",
    "\n",
    "Repeated measures ANOVA: This is used when you have repeated measurements of the same individuals on the dependent variable, and you want to test for differences in the means across the levels of the independent variable. For example, you might use a repeated measures ANOVA to test whether there are differences in blood pressure among people who are given three different doses of a medication.\n",
    "\n",
    "Each type of ANOVA is used in different situations, depending on the research question and design of the study. One-way ANOVA is used when there is only one factor of interest, while two-way ANOVA is used when there are two factors of interest, and their interaction is of interest. Repeated measures ANOVA is used when measurements of the dependent variable are taken from the same individuals over time or under different conditions."
   ]
  },
  {
   "cell_type": "markdown",
   "id": "1073c690-b112-4fd4-b0aa-1b9184def85e",
   "metadata": {},
   "source": [
    "Q3. What is the partitioning of variance in ANOVA, and why is it important to understand this concept?"
   ]
  },
  {
   "cell_type": "markdown",
   "id": "f25ba523-6cdc-4d63-823a-061d6309d770",
   "metadata": {},
   "source": [
    "The partitioning of variance in ANOVA refers to the process of breaking down the total variation in the dependent variable into different sources of variation. In ANOVA, the total variation in the dependent variable is partitioned into two components: variance between groups (also called the \"treatment\" variance) and variance within groups (also called the \"error\" variance).\n",
    "\n",
    "The variance between groups represents the differences in the means of the dependent variable across the different levels of the independent variable. The variance within groups represents the variability of the data within each group, which is not due to the independent variable.\n",
    "\n",
    "Understanding the partitioning of variance is important because it allows researchers to determine whether the differences in the means of the dependent variable across the levels of the independent variable are statistically significant or not. If the between-groups variance is large relative to the within-groups variance, it suggests that the independent variable is having a significant effect on the dependent variable. On the other hand, if the between-groups variance is small relative to the within-groups variance, it suggests that the independent variable is not having a significant effect on the dependent variable.\n",
    "\n",
    "Additionally, understanding the partitioning of variance can help researchers identify potential sources of error or variability in their study design. For example, if the within-groups variance is very large, it may suggest that there is a lot of variability in the data that is not explained by the independent variable, indicating a need for further investigation into other sources of variability."
   ]
  },
  {
   "cell_type": "markdown",
   "id": "399414c2-f274-4152-96ba-d8ca68a1aa7b",
   "metadata": {},
   "source": [
    "Q4. How would you calculate the total sum of squares (SST), explained sum of squares (SSE), and residual\n",
    "sum of squares (SSR) in a one-way ANOVA using Python?"
   ]
  },
  {
   "cell_type": "code",
   "execution_count": 1,
   "id": "f393dc1c-07f2-48a3-8327-d8b71fbdb865",
   "metadata": {},
   "outputs": [
    {
     "name": "stdout",
     "output_type": "stream",
     "text": [
      "SST: 20.833333333333332\n",
      "SSE: 12.333333333333332\n",
      "SSR: 8.5\n"
     ]
    }
   ],
   "source": [
    "import statsmodels.api as sm\n",
    "from statsmodels.formula.api import ols\n",
    "import pandas as pd\n",
    "\n",
    "# create a DataFrame with the data\n",
    "df = pd.DataFrame({'group': ['A', 'A', 'B', 'B', 'C', 'C'],\n",
    "                   'score': [6, 8, 9, 12, 8, 10]})\n",
    "\n",
    "# fit the one-way ANOVA model\n",
    "model = ols('score ~ group', data=df).fit()\n",
    "\n",
    "# calculate the total sum of squares (SST)\n",
    "sst = ((df['score'] - df['score'].mean()) ** 2).sum()\n",
    "\n",
    "# calculate the explained sum of squares (SSE)\n",
    "sse = model.ess\n",
    "\n",
    "# calculate the residual sum of squares (SSR)\n",
    "ssr = model.ssr\n",
    "\n",
    "print('SST:', sst)\n",
    "print('SSE:', sse)\n",
    "print('SSR:', ssr)\n"
   ]
  },
  {
   "cell_type": "markdown",
   "id": "0d39e9c4-69ba-41a1-9958-7d6d3fe11053",
   "metadata": {},
   "source": [
    "Q5. In a two-way ANOVA, how would you calculate the main effects and interaction effects using Python?"
   ]
  },
  {
   "cell_type": "code",
   "execution_count": null,
   "id": "caeba5e0-0a4b-4c37-886d-2e366fe5ad1a",
   "metadata": {},
   "outputs": [],
   "source": [
    "import pandas as pd\n",
    "from statsmodels.formula.api import ols\n",
    "from statsmodels.stats.anova import anova_lm\n",
    "\n",
    "# create example data\n",
    "df = pd.DataFrame({\n",
    "    'score': [10, 12, 9, 14, 11, 13, 8, 10, 7, 12, 9, 14, 10, 11, 13, 8],\n",
    "    'group1': ['A', 'A', 'A', 'A', 'B', 'B', 'B', 'B', 'A', 'A', 'A', 'A', 'B', 'B', 'B', 'B'],\n",
    "    'group2': ['X', 'X', 'Y', 'Y', 'X', 'X', 'Y', 'Y', 'X', 'X', 'Y', 'Y', 'X', 'X', 'Y', 'Y']\n",
    "})\n",
    "\n",
    "# encode categorical variables as dummies\n",
    "df = pd.get_dummies(df, columns=['group1', 'group2'])\n",
    "\n",
    "# fit two-way ANOVA model\n",
    "model = ols('score ~ group1_A + group2_X + group1_B:group2_X + group1_A:group2_Y', data=df).fit()\n",
    "\n",
    "# calculate the main effects\n",
    "main_effect_group1 = model.params['group1_A'] - model.params['group1_B']\n",
    "main_effect_group2 = model.params['group2_X'] - model.params['group2_Y']\n",
    "\n",
    "# calculate the interaction effect\n",
    "interaction_effect = model.params['group1_B:group2_X'] - model.params['group1_A:group2_Y']\n",
    "\n",
    "# calculate the ANOVA table\n",
    "anova_table = anova_lm(model)\n"
   ]
  },
  {
   "cell_type": "markdown",
   "id": "4bc82efd-d8ff-4ec4-95f4-3b54c0907380",
   "metadata": {},
   "source": [
    "Q6. Suppose you conducted a one-way ANOVA and obtained an F-statistic of 5.23 and a p-value of 0.02.\n",
    "What can you conclude about the differences between the groups, and how would you interpret these\n",
    "results?"
   ]
  },
  {
   "cell_type": "markdown",
   "id": "9b605efd-d9d9-43cb-906d-486fcf35fc30",
   "metadata": {},
   "source": [
    "If you conducted a one-way ANOVA and obtained an F-statistic of 5.23 and a p-value of 0.02, you can conclude that there is evidence of a significant difference between the means of the groups.\n",
    "\n",
    "The F-statistic is a ratio of the between-group variability to the within-group variability. A large F-statistic indicates that the between-group variability is large relative to the within-group variability, which is evidence in favor of the alternative hypothesis that at least one group mean is different from the others. In this case, the F-statistic of 5.23 is large enough to suggest that the null hypothesis of equal means across all groups should be rejected.\n",
    "\n",
    "The p-value of 0.02 indicates that the probability of obtaining an F-statistic as large as or larger than the observed value, assuming the null hypothesis is true, is only 2%. This is below the commonly used significance level of 0.05, which suggests that the differences between the means of the groups are statistically significant.\n",
    "\n",
    "In interpreting these results, it is important to keep in mind that a significant result in an ANOVA only tells us that there is evidence of a difference between at least two groups, but it does not tell us which specific groups differ from each other. To determine which groups differ, post-hoc tests or contrasts can be conducted."
   ]
  },
  {
   "cell_type": "markdown",
   "id": "de820988-fe02-4559-9ec9-93d3830cc6fd",
   "metadata": {},
   "source": [
    "Q7. In a repeated measures ANOVA, how would you handle missing data, and what are the potential\n",
    "consequences of using different methods to handle missing data?"
   ]
  },
  {
   "cell_type": "markdown",
   "id": "7d9c4b44-1dc3-42dd-8a07-5aac0564bc64",
   "metadata": {},
   "source": [
    "In repeated measures ANOVA, missing data can occur when a participant drops out of the study or fails to complete one or more of the measurements. There are several methods for handling missing data in ANOVA, including listwise deletion, pairwise deletion, mean substitution, and multiple imputation.\n",
    "\n",
    "Listwise deletion involves removing any participant with missing data from the analysis. This can result in reduced statistical power and potential bias if the missing data are not completely at random.\n",
    "\n",
    "Pairwise deletion involves only removing cases with missing data for specific variables, allowing the remaining data to be used for other variables. This can increase statistical power but can also lead to biased estimates if the missing data are related to other variables in the analysis.\n",
    "\n",
    "Mean substitution involves replacing missing values with the mean value for that variable across all participants. This can lead to biased estimates if the missing data are not missing at random.\n",
    "\n",
    "Multiple imputation involves using statistical methods to estimate plausible values for missing data based on patterns in the available data. This can increase statistical power and reduce bias compared to the other methods mentioned above.\n",
    "\n",
    "The choice of method for handling missing data can affect the results of the analysis, and it is important to carefully consider the potential consequences of each method before making a decision."
   ]
  },
  {
   "cell_type": "markdown",
   "id": "f32779e1-1929-4a0d-8cf9-9970c4a4b04c",
   "metadata": {},
   "source": [
    "Q8. What are some common post-hoc tests used after ANOVA, and when would you use each one? Provide\n",
    "an example of a situation where a post-hoc test might be necessary."
   ]
  },
  {
   "cell_type": "markdown",
   "id": "b66d43ba-2702-491f-ae38-382590f7c538",
   "metadata": {},
   "source": [
    "After conducting an ANOVA, post-hoc tests can be used to compare specific pairs of groups and identify which ones differ significantly. Some common post-hoc tests include:\n",
    "\n",
    "Tukey's HSD (honest significant difference): This test is commonly used when the number of groups is equal or larger than 3, and all pairwise comparisons between groups need to be tested. It is generally conservative in that it controls the family-wise error rate.\n",
    "\n",
    "Bonferroni correction: This test is used when multiple comparisons are made, and it controls the family-wise error rate. It is a more conservative test than Tukey's HSD, and it is recommended when there are few groups.\n",
    "\n",
    "Scheffe's test: This test is less conservative than Tukey's HSD and Bonferroni correction and can be used for both planned and unplanned comparisons. It is recommended when there are fewer groups, and the sample sizes are unequal.\n",
    "\n",
    "Fisher's LSD (least significant difference): This test is used when comparing all pairs of means in a one-way ANOVA, and it is recommended when there are equal sample sizes and equal variances.\n",
    "\n",
    "In a situation where a post-hoc test might be necessary, suppose a study was conducted to investigate the effect of three different treatments on the height of a plant. The study involved three treatment groups, and the height of the plant was measured at the end of the treatment. The results of the ANOVA indicate that there is a significant difference between the means of the three treatment groups. A post-hoc test such as Tukey's HSD can be used to determine which treatment group(s) significantly differ from the others."
   ]
  },
  {
   "cell_type": "markdown",
   "id": "b17a6fef-8078-4e87-a5cb-d6bb5bd1ef11",
   "metadata": {},
   "source": [
    "Q9. A researcher wants to compare the mean weight loss of three diets: A, B, and C. They collect data from\n",
    "50 participants who were randomly assigned to one of the diets. Conduct a one-way ANOVA using Python\n",
    "to determine if there are any significant differences between the mean weight loss of the three diets.\n",
    "Report the F-statistic and p-value, and interpret the results."
   ]
  },
  {
   "cell_type": "code",
   "execution_count": 1,
   "id": "e9b5651c-dc1c-4dd2-aa76-ec9673afffe5",
   "metadata": {},
   "outputs": [
    {
     "name": "stdout",
     "output_type": "stream",
     "text": [
      "F-statistic: 43.60337243401761\n",
      "p-value: 3.920642179257211e-13\n"
     ]
    }
   ],
   "source": [
    "import numpy as np\n",
    "from scipy.stats import f_oneway\n",
    "\n",
    "# create data\n",
    "diet_a = np.array([1.2, 0.8, 1.5, 2.0, 1.3, 1.1, 0.9, 1.6, 1.2, 1.8,\n",
    "                   0.7, 1.0, 1.1, 1.2, 1.3, 0.8, 1.5, 1.1, 1.6, 1.0,\n",
    "                   1.3, 1.2, 0.9, 1.1, 1.4])\n",
    "diet_b = np.array([1.5, 1.3, 1.1, 1.6, 1.4, 1.8, 1.5, 1.7, 1.2, 1.4,\n",
    "                   1.6, 1.3, 1.2, 1.5, 1.4, 1.1, 1.6, 1.8, 1.7, 1.3,\n",
    "                   1.5, 1.2, 1.4, 1.7, 1.3])\n",
    "diet_c = np.array([2.0, 1.8, 2.1, 1.9, 1.7, 1.6, 2.2, 1.8, 2.0, 1.9,\n",
    "                   1.5, 1.7, 1.8, 1.9, 2.1, 1.6, 1.8, 1.7, 1.9, 2.0,\n",
    "                   2.2, 2.1, 1.8, 1.6, 1.9])\n",
    "\n",
    "# conduct one-way ANOVA\n",
    "f_stat, p_val = f_oneway(diet_a, diet_b, diet_c)\n",
    "\n",
    "# report the results\n",
    "print(\"F-statistic:\", f_stat)\n",
    "print(\"p-value:\", p_val)\n"
   ]
  },
  {
   "cell_type": "markdown",
   "id": "29b647b5-7996-4c12-90f4-c94344670297",
   "metadata": {},
   "source": [
    "Q10. A company wants to know if there are any significant differences in the average time it takes to\n",
    "complete a task using three different software programs: Program A, Program B, and Program C. They\n",
    "randomly assign 30 employees to one of the programs and record the time it takes each employee to\n",
    "complete the task. Conduct a two-way ANOVA using Python to determine if there are any main effects or\n",
    "interaction effects between the software programs and employee experience level (novice vs.\n",
    "experienced). Report the F-statistics and p-values, and interpret the results."
   ]
  },
  {
   "cell_type": "code",
   "execution_count": null,
   "id": "1b66bb2f-1a95-4c6c-9621-d8356e83fd35",
   "metadata": {},
   "outputs": [],
   "source": [
    "import pandas as pd\n",
    "import statsmodels.api as sm\n",
    "from statsmodels.formula.api import ols\n",
    "\n",
    "# create data\n",
    "data = pd.read_csv(\"data.csv\")\n",
    "\n",
    "# conduct two-way ANOVA\n",
    "model = ols('time ~ C(program) + C(experience) + C(program):C(experience)', data).fit()\n",
    "anova_table = sm.stats.anova_lm(model, typ=2)\n",
    "\n",
    "# report the results\n",
    "print(anova_table)\n"
   ]
  },
  {
   "cell_type": "markdown",
   "id": "4a954c5d-5739-484b-ab74-f8b4538b42bb",
   "metadata": {},
   "source": [
    "Q11. An educational researcher is interested in whether a new teaching method improves student test\n",
    "scores. They randomly assign 100 students to either the control group (traditional teaching method) or the\n",
    "experimental group (new teaching method) and administer a test at the end of the semester. Conduct a\n",
    "two-sample t-test using Python to determine if there are any significant differences in test scores\n",
    "between the two groups. If the results are significant, follow up with a post-hoc test to determine which\n",
    "group(s) differ significantly from each other."
   ]
  },
  {
   "cell_type": "code",
   "execution_count": 3,
   "id": "06feb1c8-8e6d-4ae1-b1e4-1ac926f3dc94",
   "metadata": {},
   "outputs": [
    {
     "name": "stdout",
     "output_type": "stream",
     "text": [
      "t-statistic:  -10.459658382217075\n",
      "p-value:  1.573821467619323e-17\n",
      "  Multiple Comparison of Means - Tukey HSD, FWER=0.05   \n",
      "========================================================\n",
      " group1    group2    meandiff p-adj lower  upper  reject\n",
      "--------------------------------------------------------\n",
      "Control Experimental     5.21   0.0 4.2195 6.2005   True\n",
      "--------------------------------------------------------\n"
     ]
    }
   ],
   "source": [
    "import pandas as pd\n",
    "import scipy.stats as stats\n",
    "\n",
    "# create data\n",
    "control_scores = [70, 75, 68, 72, 74, 73, 69, 71, 77, 75, 80, 72, 76, 73, 75, 78, 70, 74, 71, 73, 76, 72, 75, 79, 73, 75, 71, 77, 74, 72, 75, 71, 73, 72, 74, 76, 75, 73, 70, 74, 77, 75, 72, 73, 71, 76, 75, 72, 73, 70]\n",
    "experimental_scores = [74, 78, 81, 76, 77, 79, 75, 83, 82, 79, 85, 78, 80, 77, 76, 81, 79, 75, 78, 80, 82, 77, 79, 81, 80, 76, 78, 77, 82, 80, 81, 79, 80, 75, 77, 78, 76, 80, 82, 79, 78, 77, 81, 79, 80, 76, 78, 79]\n",
    "\n",
    "# conduct two-sample t-test\n",
    "t_stat, p_val = stats.ttest_ind(control_scores, experimental_scores, equal_var=False)\n",
    "\n",
    "# report the results\n",
    "print(\"t-statistic: \", t_stat)\n",
    "print(\"p-value: \", p_val)\n",
    "\n",
    "# conduct post-hoc test (Tukey's HSD)\n",
    "from statsmodels.stats.multicomp import pairwise_tukeyhsd\n",
    "\n",
    "scores = control_scores + experimental_scores\n",
    "groups = [\"Control\"] * len(control_scores) + [\"Experimental\"] * len(experimental_scores)\n",
    "\n",
    "tukey_results = pairwise_tukeyhsd(scores, groups)\n",
    "print(tukey_results)\n"
   ]
  },
  {
   "cell_type": "markdown",
   "id": "c0f7f13d-11d6-46d4-83b8-1c23b66ef613",
   "metadata": {},
   "source": [
    "Q12. A researcher wants to know if there are any significant differences in the average daily sales of three\n",
    "retail stores: Store A, Store B, and Store C. They randomly select 30 days and record the sales for each store\n",
    "on those days. Conduct a repeated measures ANOVA using Python to determine if there are any\n",
    "\n",
    "significant differences in sales between the three stores. If the results are significant, follow up with a post-\n",
    "hoc test to determine which store(s) differ significantly from each other."
   ]
  },
  {
   "cell_type": "code",
   "execution_count": null,
   "id": "7ea22deb-c195-441e-9a34-69500c2e36ab",
   "metadata": {},
   "outputs": [],
   "source": [
    "import pandas as pd\n",
    "import scipy.stats as stats\n",
    "from statsmodels.stats.multicomp import pairwise_tukeyhsd\n",
    "\n",
    "# create data\n",
    "data = pd.read_csv(\"data.csv\")\n",
    "\n",
    "# conduct one-way ANOVA\n",
    "f_stat, p_val = stats.f_oneway(data['store_A'], data['store_B'], data['store_C'])\n",
    "print(\"F-statistic:\", f_stat)\n",
    "print(\"p-value:\", p_val)\n",
    "\n",
    "# follow up with post-hoc test\n",
    "posthoc = pairwise_tukeyhsd(data.iloc[:,1], data.iloc[:,0], alpha=0.05)\n",
    "print(posthoc)\n"
   ]
  }
 ],
 "metadata": {
  "kernelspec": {
   "display_name": "Python 3 (ipykernel)",
   "language": "python",
   "name": "python3"
  },
  "language_info": {
   "codemirror_mode": {
    "name": "ipython",
    "version": 3
   },
   "file_extension": ".py",
   "mimetype": "text/x-python",
   "name": "python",
   "nbconvert_exporter": "python",
   "pygments_lexer": "ipython3",
   "version": "3.10.8"
  }
 },
 "nbformat": 4,
 "nbformat_minor": 5
}
