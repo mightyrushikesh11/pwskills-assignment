{
 "cells": [
  {
   "cell_type": "markdown",
   "id": "14c6f994-e5c8-4e4b-a515-69963ca7d5a4",
   "metadata": {},
   "source": [
    "Q1: What is Estimation Statistics? Explain point estimate and interval estimate.\n",
    "\n",
    "Ans. In estimation ststistics there is an observed numerical value used to estimate the unknown population parameter.\n",
    "\n",
    "Point estimate- It is nothing but the single numerical values used to estimate the unknown population \n",
    "\n",
    "parameter, in other words sample mean of sample data is the point estimete of population mean.\n",
    "Interval estimate- Range of values used to estimate the unknown population parameter. \n"
   ]
  },
  {
   "cell_type": "markdown",
   "id": "261e37c9-7886-4231-8c4d-b7558026a233",
   "metadata": {},
   "source": [
    "Q2. Write a Python function to estimate the population mean using a sample mean and standard\n",
    "deviation."
   ]
  },
  {
   "cell_type": "code",
   "execution_count": 1,
   "id": "e9df03ec-ab59-4eb3-ac49-e0e3d2a88993",
   "metadata": {},
   "outputs": [],
   "source": [
    "import math\n",
    "\n",
    "def estimate_population_mean(sample_mean, sample_std_dev, sample_size):\n",
    "    std_error = sample_std_dev / math.sqrt(sample_size)\n",
    "    z_value = 1.96  # 95% confidence interval\n",
    "    margin_of_error = z_value * std_error\n",
    "    lower_bound = sample_mean - margin_of_error\n",
    "    upper_bound = sample_mean + margin_of_error\n",
    "    return (lower_bound, upper_bound)\n"
   ]
  },
  {
   "cell_type": "markdown",
   "id": "448ed7ec-dcfb-4c70-b2aa-bb174fa60ab0",
   "metadata": {},
   "source": [
    "Q3: What is Hypothesis testing? Why is it used? State the importance of Hypothesis testing."
   ]
  },
  {
   "cell_type": "markdown",
   "id": "38282f29-389e-40af-baa2-b3e754b33b11",
   "metadata": {},
   "source": [
    "Ans. Hypothesis testing is a statistical method used to evaluate whether a particular assumption about a population parameter (such as the mean or proportion) is likely to be true based on a sample of data.\n",
    "\n",
    "In simple terms, it involves testing whether a certain claim or hypothesis about a population is supported by the available evidence or not. The hypothesis being tested is usually framed as two mutually exclusive statements: the null hypothesis, which assumes that there is no significant difference or effect, and the alternative hypothesis, which assumes that there is a significant difference or effect.\n",
    "\n",
    "Hypothesis testing is used to provide statistical evidence for or against a claim or hypothesis, and to make decisions based on that evidence. For example, a researcher may use hypothesis testing to determine whether a new drug is effective in treating a disease or whether a new marketing campaign leads to increased sales.\n",
    "\n",
    "The importance of hypothesis testing lies in its ability to provide a systematic and objective approach to decision making based on data. By using hypothesis testing, we can avoid making decisions based on intuition or anecdotal evidence, and instead rely on rigorous statistical analysis. This helps to ensure that decisions are made based on evidence that is both reliable and replicable.\n",
    "\n",
    "In summary, hypothesis testing is a statistical tool used to evaluate whether a particular assumption about a population parameter is supported by the available evidence or not. It is used to provide statistical evidence for or against a claim or hypothesis and to make decisions based on that evidence. The importance of hypothesis testing lies in its ability to provide a systematic and objective approach to decision making based on data."
   ]
  },
  {
   "cell_type": "markdown",
   "id": "520954c6-9d63-4eab-a869-f78d8650905b",
   "metadata": {},
   "source": [
    "Q4. Create a hypothesis that states whether the average weight of male college students is greater than\n",
    "the average weight of female college students."
   ]
  },
  {
   "cell_type": "markdown",
   "id": "807a4b95-4f27-411c-be9d-1cc566a5eed7",
   "metadata": {},
   "source": [
    "Ans. Here's an example hypothesis statement that addresses the difference in average weight between male and female college students:\n",
    "\n",
    "Null Hypothesis (H0): The average weight of male college students is not significantly different from the average weight of female college students.\n",
    "\n",
    "Alternative Hypothesis (HA): The average weight of male college students is significantly greater than the average weight of female college students.\n",
    "\n",
    "In this example, the null hypothesis assumes that there is no significant difference in average weight between male and female college students. The alternative hypothesis, on the other hand, assumes that there is a significant difference and that male college students have a higher average weight than female college students.\n",
    "\n",
    "To test this hypothesis, we would need to collect a sample of weights from both male and female college students and perform a statistical test, such as a t-test, to determine whether the observed difference in weight between the two groups is statistically significant or not."
   ]
  },
  {
   "cell_type": "markdown",
   "id": "c806be6d-1bb5-41eb-8e9a-0809a7b6f70e",
   "metadata": {},
   "source": [
    "Q5. Write a Python script to conduct a hypothesis test on the difference between two population means,\n",
    "given a sample from each population."
   ]
  },
  {
   "cell_type": "code",
   "execution_count": null,
   "id": "30a2bad8-9b98-48a8-bfeb-84fd2f6bc91b",
   "metadata": {},
   "outputs": [],
   "source": [
    "import numpy as np\n",
    "from scipy.stats import ttest_ind\n",
    "\n",
    "# Set the significance level\n",
    "alpha = 0.05\n",
    "\n",
    "# Generate two samples from two populations with different means\n",
    "pop1 = np.random.normal(loc=50, scale=10, size=100)\n",
    "pop2 = np.random.normal(loc=60, scale=10, size=100)\n",
    "\n",
    "# Calculate the sample means and standard deviations\n",
    "sample_mean1 = np.mean(pop1)\n",
    "sample_std_dev1 = np.std(pop1, ddof=1)\n",
    "sample_mean2 = np.mean(pop2)\n",
    "sample_std_dev2 = np.std(pop2, ddof=1)\n",
    "\n",
    "# Calculate the standard error of the difference between the means\n",
    "standard_error = np.sqrt((sample_std_dev1**2 / len(pop1)) + (sample_std_dev2**2 / len(pop2)))\n",
    "\n",
    "# Calculate the t-value and p-value for the hypothesis test\n",
    "t_value, p_value = ttest_ind(pop1, pop2)\n",
    "\n",
    "# Determine whether to reject or fail to reject the null hypothesis\n",
    "if p_value < alpha:\n",
    "    print(\"Reject the null hypothesis. There is evidence that the means are different.\")\n",
    "else:\n",
    "    print(\"Fail to reject the null hypothesis. There is not enough evidence to conclude that the means are different.\")\n"
   ]
  },
  {
   "cell_type": "markdown",
   "id": "130e2b8d-4e29-463c-bcf8-12e9ded1bf39",
   "metadata": {},
   "source": [
    "Q6: What is a null and alternative hypothesis? Give some examples."
   ]
  },
  {
   "cell_type": "markdown",
   "id": "77b47727-a8ba-4faa-9925-2a5dd8076ab7",
   "metadata": {},
   "source": [
    "A null hypothesis is a statement that assumes there is no significant difference between two groups or variables being compared. It is a statement of \"no effect\" or \"no relationship\" between the two groups or variables.\n",
    "\n",
    "An alternative hypothesis is a statement that assumes there is a significant difference between the two groups or variables being compared. It is a statement of \"some effect\" or \"some relationship\" between the two groups or variables.\n",
    "\n",
    "To give you an example: suppose you want to test whether a new medicine is effective in treating a particular disease. The null hypothesis would be that the medicine has no effect, meaning that there is no significant difference in the health outcomes of patients who receive the medicine versus those who receive a placebo. The alternative hypothesis would be that the medicine is effective, meaning that there is a significant difference in the health outcomes of patients who receive the medicine versus those who receive a placebo.\n",
    "\n",
    "Another example: imagine you want to know whether a new type of fertilizer will increase the yield of a certain crop. The null hypothesis would be that the fertilizer has no effect on the yield, meaning that there is no significant difference in the yield of crops that receive the fertilizer versus those that do not. The alternative hypothesis would be that the fertilizer is effective, meaning that there is a significant difference in the yield of crops that receive the fertilizer versus those that do not.\n",
    "\n",
    "In both examples, the null hypothesis assumes that there is no difference between the two groups or variables being compared, while the alternative hypothesis assumes that there is a significant difference. The goal of statistical analysis is to determine which hypothesis is more likely to be true based on the available data."
   ]
  },
  {
   "cell_type": "markdown",
   "id": "7d560415-2c7d-4890-b8b2-c88eabecfda4",
   "metadata": {},
   "source": [
    "Q7: Write down the steps involved in hypothesis testing."
   ]
  },
  {
   "cell_type": "markdown",
   "id": "9d92fbeb-5325-4883-b115-2f1ea35feeb0",
   "metadata": {},
   "source": [
    "Ans.The following are the general steps involved in hypothesis testing:\n",
    "\n",
    "Identify the research question and the null and alternative hypotheses. The null hypothesis represents the default assumption that there is no significant difference between the groups or variables being compared, while the alternative hypothesis represents the opposite.\n",
    "\n",
    "Select the appropriate statistical test to use based on the research question and the nature of the data being analyzed. There are many different types of statistical tests, each with their own specific assumptions and requirements.\n",
    "\n",
    "Choose a level of significance (alpha) for the test. This represents the maximum probability of making a Type I error, which is rejecting the null hypothesis when it is actually true.\n",
    "\n",
    "Collect data and calculate the appropriate test statistic. This is a numerical value that summarizes the difference between the observed data and what would be expected under the null hypothesis.\n",
    "\n",
    "Determine the critical value or p-value of the test statistic. The critical value is the value beyond which the null hypothesis can be rejected, while the p-value represents the probability of obtaining a test statistic as extreme or more extreme than the observed value, assuming the null hypothesis is true.\n",
    "\n",
    "Compare the test statistic to the critical value or p-value to determine whether to reject or fail to reject the null hypothesis. If the test statistic exceeds the critical value or the p-value is less than the chosen level of significance, the null hypothesis can be rejected in favor of the alternative hypothesis.\n",
    "\n",
    "Interpret the results and draw conclusions based on the evidence presented. It is important to keep in mind the limitations of the study and the assumptions underlying the statistical test used."
   ]
  },
  {
   "cell_type": "markdown",
   "id": "a2f36788-6008-4c1a-a776-6ae02dfd27ca",
   "metadata": {},
   "source": [
    "Q8. Define p-value and explain its significance in hypothesis testing."
   ]
  },
  {
   "cell_type": "markdown",
   "id": "236397d3-b252-4d8a-8bb7-23c332ed805b",
   "metadata": {},
   "source": [
    "Ans.The p-value is a measure of the strength of evidence against the null hypothesis in hypothesis testing. It represents the probability of obtaining a test statistic as extreme or more extreme than the observed value, assuming the null hypothesis is true.\n",
    "\n",
    "In simpler terms, the p-value tells us how likely it is that we would observe the data we have collected if the null hypothesis were actually true. If the p-value is very small, it suggests that it is unlikely that we would have seen the data we observed if the null hypothesis were true, and thus we have evidence to reject the null hypothesis in favor of the alternative hypothesis.\n",
    "\n",
    "For example, if we conduct a study to test whether a new drug is effective in treating a certain disease, we might set the null hypothesis to be that the drug has no effect. We would then collect data on a group of patients who receive the drug and compare their outcomes to those of a control group who receive a placebo. If we calculate a p-value of 0.05, this means that there is a 5% chance of observing the difference between the two groups we observed if the drug really had no effect. This would be considered significant evidence against the null hypothesis, and we might conclude that the drug is effective.\n",
    "\n",
    "The significance of the p-value in hypothesis testing is that it provides a way to objectively evaluate the strength of evidence against the null hypothesis. By setting a pre-determined level of significance (usually 0.05), we can determine whether the evidence is strong enough to reject the null hypothesis and support the alternative hypothesis. However, it's important to remember that the p-value is not the only consideration in hypothesis testing, and it should be interpreted in the context of the research question and the specific statistical test used."
   ]
  },
  {
   "cell_type": "markdown",
   "id": "5253a897-5efe-46ec-b60e-1beeb902f354",
   "metadata": {},
   "source": [
    "Q9. Generate a Student's t-distribution plot using Python's matplotlib library, with the degrees of freedom\n",
    "parameter set to 10."
   ]
  },
  {
   "cell_type": "code",
   "execution_count": 1,
   "id": "ee556774-8904-441c-89ba-ea956d428317",
   "metadata": {},
   "outputs": [
    {
     "data": {
      "image/png": "[encoded data removed]",
      "text/plain": [
       "<Figure size 640x480 with 1 Axes>"
      ]
     },
     "metadata": {},
     "output_type": "display_data"
    }
   ],
   "source": [
    "import numpy as np\n",
    "import matplotlib.pyplot as plt\n",
    "from scipy.stats import t\n",
    "\n",
    "# Set the degrees of freedom\n",
    "df = 10\n",
    "\n",
    "# Define the range of the x-axis\n",
    "x = np.linspace(-4, 4, 100)\n",
    "\n",
    "# Calculate the probability density function (PDF) for the t-distribution with 10 degrees of freedom\n",
    "pdf = t.pdf(x, df)\n",
    "\n",
    "# Generate the plot\n",
    "fig, ax = plt.subplots()\n",
    "ax.plot(x, pdf, label=f\"df = {df}\")\n",
    "ax.legend(loc=\"best\")\n",
    "ax.set_title(\"Student's t-distribution\")\n",
    "ax.set_xlabel(\"x\")\n",
    "ax.set_ylabel(\"PDF\")\n",
    "plt.show()"
   ]
  },
  {
   "cell_type": "markdown",
   "id": "9ca96431-35ef-47ca-b153-0568e15206f7",
   "metadata": {},
   "source": [
    "Q10. Write a Python program to calculate the two-sample t-test for independent samples, given two\n",
    "random samples of equal size and a null hypothesis that the population means are equal."
   ]
  },
  {
   "cell_type": "code",
   "execution_count": 2,
   "id": "07371659-1660-40dc-8e51-a6ded61ee46e",
   "metadata": {},
   "outputs": [
    {
     "name": "stdout",
     "output_type": "stream",
     "text": [
      "Reject the null hypothesis. There is evidence that the means are different.\n"
     ]
    }
   ],
   "source": [
    "import numpy as np\n",
    "from scipy.stats import ttest_ind\n",
    "\n",
    "# Set the significance level\n",
    "alpha = 0.05\n",
    "\n",
    "# Generate two random samples with equal size from two populations with different means\n",
    "pop1 = np.random.normal(loc=50, scale=10, size=100)\n",
    "pop2 = np.random.normal(loc=60, scale=10, size=100)\n",
    "sample_size = len(pop1)\n",
    "\n",
    "# Calculate the sample means and standard deviations\n",
    "sample_mean1 = np.mean(pop1)\n",
    "sample_std_dev1 = np.std(pop1, ddof=1)\n",
    "sample_mean2 = np.mean(pop2)\n",
    "sample_std_dev2 = np.std(pop2, ddof=1)\n",
    "\n",
    "# Calculate the standard error of the difference between the means\n",
    "standard_error = np.sqrt((sample_std_dev1**2 / sample_size) + (sample_std_dev2**2 / sample_size))\n",
    "\n",
    "# Calculate the t-value and p-value for the hypothesis test\n",
    "t_value, p_value = ttest_ind(pop1, pop2)\n",
    "\n",
    "# Determine whether to reject or fail to reject the null hypothesis\n",
    "if p_value < alpha:\n",
    "    print(\"Reject the null hypothesis. There is evidence that the means are different.\")\n",
    "else:\n",
    "    print(\"Fail to reject the null hypothesis. There is not enough evidence to conclude that the means are different.\")\n"
   ]
  },
  {
   "cell_type": "markdown",
   "id": "b0066215-6721-4ec2-a68d-1e3e1e32e076",
   "metadata": {},
   "source": [
    "Q11: What is Student’s t distribution? When to use the t-Distribution."
   ]
  },
  {
   "cell_type": "markdown",
   "id": "98e76167-e000-474c-9281-95cffc2356da",
   "metadata": {},
   "source": [
    "The Student's t-distribution is a probability distribution that is commonly used in statistical hypothesis testing to estimate the population mean when the sample size is small or the population standard deviation is unknown. It is named after William Gosset, who published under the pseudonym \"Student\" because he was working for the Guinness brewery at the time and did not want to reveal his identity.\n",
    "\n",
    "The t-distribution looks similar to a normal distribution, but it has heavier tails, which means that it allows for more extreme values than the normal distribution. This is because the t-distribution is based on a smaller sample size and therefore has more uncertainty than the normal distribution. As the sample size increases, the t-distribution becomes closer to the normal distribution.\n",
    "\n",
    "The t-distribution is used when the sample size is small (typically less than 30) or when the population standard deviation is unknown. In these situations, the t-distribution provides a more accurate estimate of the population mean than the normal distribution. The t-distribution is also used in statistical hypothesis testing to determine whether the difference between two sample means is statistically significant.\n",
    "\n",
    "In summary, the t-distribution is a probability distribution that is used to estimate the population mean when the sample size is small or the population standard deviation is unknown. It is a useful tool for statistical hypothesis testing and provides a more accurate estimate of the population mean than the normal distribution in certain situations."
   ]
  },
  {
   "cell_type": "markdown",
   "id": "0c33f3d2-4135-4127-8df7-f3a603d0f430",
   "metadata": {},
   "source": [
    "Q12: What is t-statistic? State the formula for t-statistic."
   ]
  },
  {
   "cell_type": "markdown",
   "id": "7d3fb1b2-d9d0-43be-aa0d-b26a909b46b7",
   "metadata": {},
   "source": [
    "The t-statistic is a value that is calculated in statistics to help determine whether a sample mean is significantly different from a population mean. It is used in situations where the population standard deviation is unknown, or the sample size is small (typically less than 30).\n",
    "\n",
    "The formula for the t-statistic is:\n",
    "\n",
    "t = (sample mean - population mean) / (standard error of the mean)\n",
    "\n",
    "In this formula, the sample mean is the average value of the observations in the sample, the population mean is the average value of the observations in the entire population, and the standard error of the mean is a measure of how much the sample means vary from sample to sample.\n",
    "\n",
    "The t-statistic measures the difference between the sample mean and the population mean in units of the standard error of the mean. If the t-statistic is large, it means that the difference between the sample mean and the population mean is larger than would be expected by chance, and therefore there is evidence to suggest that the sample mean is significantly different from the population mean.\n",
    "\n",
    "The t-statistic is often used in hypothesis testing, where the null hypothesis is that the sample mean is equal to the population mean. If the calculated t-statistic is larger than the critical t-value, then the null hypothesis can be rejected, and there is evidence to suggest that the sample mean is different from the population mean."
   ]
  },
  {
   "cell_type": "markdown",
   "id": "437e52b6-6a22-4ac4-b289-2fe305707f9b",
   "metadata": {},
   "source": [
    "Q13. A coffee shop owner wants to estimate the average daily revenue for their shop. They take a random\n",
    "sample of 50 days and find the sample mean revenue to be $500 with a standard deviation of $50.\n",
    "Estimate the population mean revenue with a 95% confidence interval."
   ]
  },
  {
   "cell_type": "markdown",
   "id": "01d713f7-432a-4449-b9e8-2f301e783176",
   "metadata": {},
   "source": [
    "To estimate the population mean revenue with a 95% confidence interval, we can use the following formula:\n",
    "\n",
    "Confidence Interval = sample mean ± (t-value * standard error)\n",
    "\n",
    "Where t-value is the critical value from the t-distribution for a given level of confidence and degrees of freedom, and the standard error is the standard deviation divided by the square root of the sample size.\n",
    "\n",
    "We are given the sample mean revenue as $500 and the standard deviation as $50. The sample size is 50, so the degrees of freedom are 49 (n-1).\n",
    "\n",
    "Using a t-distribution table or calculator with 49 degrees of freedom and a 95% confidence level, we find that the critical t-value is approximately 2.009.\n",
    "\n",
    "Now we can calculate the standard error:\n",
    "\n",
    "Standard error = standard deviation / sqrt(sample size)\n",
    "= 50 / sqrt(50)\n",
    "= 7.07\n",
    "\n",
    "Plugging in the values, we get:\n",
    "\n",
    "Confidence Interval = 500 ± (2.009 * 7.07)\n",
    "= (484.72, 515.28)\n",
    "\n",
    "Therefore, we can say with 95% confidence that the true population mean revenue falls between $484.72 and $515.28."
   ]
  },
  {
   "cell_type": "markdown",
   "id": "42c5f9d5-4922-4fc3-a051-9ca68d2b22dd",
   "metadata": {},
   "source": [
    "Q14. A researcher hypothesizes that a new drug will decrease blood pressure by 10 mmHg. They conduct a\n",
    "clinical trial with 100 patients and find that the sample mean decrease in blood pressure is 8 mmHg with a\n",
    "standard deviation of 3 mmHg. Test the hypothesis with a significance level of 0.05."
   ]
  },
  {
   "cell_type": "markdown",
   "id": "c4901781-2d0d-40f3-8aee-37957ee6ae74",
   "metadata": {},
   "source": [
    "To test the hypothesis that the new drug will decrease blood pressure by 10 mmHg, we can use a one-sample t-test with a significance level of 0.05. The null hypothesis is that the true mean decrease in blood pressure is 10 mmHg, and the alternative hypothesis is that the true mean decrease in blood pressure is less than 10 mmHg.\n",
    "\n",
    "We are given a sample size of 100, a sample mean of 8 mmHg, and a standard deviation of 3 mmHg.\n",
    "\n",
    "First, we need to calculate the t-value using the formula:\n",
    "\n",
    "t = (sample mean - hypothesized population mean) / (standard error)\n",
    "\n",
    "The hypothesized population mean is 10 mmHg, and the standard error is the standard deviation divided by the square root of the sample size:\n",
    "\n",
    "standard error = standard deviation / sqrt(sample size)\n",
    "= 3 / sqrt(100)\n",
    "= 0.3\n",
    "\n",
    "t = (8 - 10) / 0.3\n",
    "= -6.67\n",
    "\n",
    "The degrees of freedom for this test is 99 (n-1). Using a t-distribution table or calculator, we find that the critical t-value for a one-tailed test with 99 degrees of freedom and a significance level of 0.05 is -1.660.\n",
    "\n",
    "Since the calculated t-value (-6.67) is less than the critical t-value (-1.660), we reject the null hypothesis. Therefore, we can conclude that the new drug has a statistically significant effect on decreasing blood pressure, and the true mean decrease in blood pressure is less than 10 mmHg."
   ]
  },
  {
   "cell_type": "markdown",
   "id": "caa4df4b-13a6-4277-a0cc-25e1c508a971",
   "metadata": {},
   "source": [
    "Q15. An electronics company produces a certain type of product with a mean weight of 5 pounds and a\n",
    "standard deviation of 0.5 pounds. A random sample of 25 products is taken, and the sample mean weight\n",
    "is found to be 4.8 pounds. Test the hypothesis that the true mean weight of the products is less than 5\n",
    "pounds with a significance level of 0.01."
   ]
  },
  {
   "cell_type": "markdown",
   "id": "ee3942da-835e-4f61-95ba-9f16e449db4d",
   "metadata": {},
   "source": [
    "To test the hypothesis that the true mean weight of the products is less than 5 pounds, we can use a one-sample t-test with a significance level of 0.01. The null hypothesis is that the true mean weight is equal to 5 pounds, and the alternative hypothesis is that the true mean weight is less than 5 pounds.\n",
    "\n",
    "We are given a sample size of 25, a sample mean weight of 4.8 pounds, a population mean weight of 5 pounds, and a population standard deviation of 0.5 pounds.\n",
    "\n",
    "First, we need to calculate the t-value using the formula:\n",
    "\n",
    "t = (sample mean - hypothesized population mean) / (standard error)\n",
    "\n",
    "The standard error is the standard deviation divided by the square root of the sample size:\n",
    "\n",
    "standard error = population standard deviation / sqrt(sample size)\n",
    "= 0.5 / sqrt(25)\n",
    "= 0.1\n",
    "\n",
    "t = (4.8 - 5) / 0.1\n",
    "= -2\n",
    "\n",
    "The degrees of freedom for this test is 24 (n-1). Using a t-distribution table or calculator, we find that the critical t-value for a one-tailed test with 24 degrees of freedom and a significance level of 0.01 is -2.492.\n",
    "\n",
    "Since the calculated t-value (-2) is greater than the critical t-value (-2.492), we fail to reject the null hypothesis. Therefore, we cannot conclude that the true mean weight of the products is less than 5 pounds at a significance level of 0.01."
   ]
  },
  {
   "cell_type": "markdown",
   "id": "5b0e45d5-3806-4c23-9cff-24f417d6388d",
   "metadata": {},
   "source": [
    "Q16. Two groups of students are given different study materials to prepare for a test. The first group (n1 =\n",
    "30) has a mean score of 80 with a standard deviation of 10, and the second group (n2 = 40) has a mean\n",
    "score of 75 with a standard deviation of 8. Test the hypothesis that the population means for the two\n",
    "groups are equal with a significance level of 0.01."
   ]
  },
  {
   "cell_type": "markdown",
   "id": "83df7c20-ef63-433e-b2eb-37371320db73",
   "metadata": {},
   "source": [
    "To test the hypothesis that the population means for the two groups are equal, we can use a two-sample t-test with a significance level of 0.01. The null hypothesis is that the population means are equal, and the alternative hypothesis is that they are not equal.\n",
    "\n",
    "We are given two groups of students, where the first group has a sample size of 30, a sample mean score of 80, and a sample standard deviation of 10. The second group has a sample size of 40, a sample mean score of 75, and a sample standard deviation of 8.\n",
    "\n",
    "First, we need to calculate the pooled standard deviation using the formula:\n",
    "\n",
    "sp = sqrt(((n1-1)s1^2 + (n2-1)s2^2) / (n1+n2-2))\n",
    "\n",
    "where s1 and s2 are the sample standard deviations for the two groups, and n1 and n2 are the sample sizes.\n",
    "\n",
    "sp = sqrt(((30-1)10^2 + (40-1)8^2) / (30+40-2))\n",
    "= 9.138\n",
    "\n",
    "Next, we calculate the t-value using the formula:\n",
    "\n",
    "t = (x1 - x2) / (sp * sqrt(1/n1 + 1/n2))\n",
    "\n",
    "where x1 and x2 are the sample means for the two groups.\n",
    "\n",
    "t = (80 - 75) / (9.138 * sqrt(1/30 + 1/40))\n",
    "= 2.28\n",
    "\n",
    "The degrees of freedom for this test is (n1 + n2 - 2) = 68. Using a t-distribution table or calculator, we find that the critical t-value for a two-tailed test with 68 degrees of freedom and a significance level of 0.01 is ±2.617.\n",
    "\n",
    "Since the calculated t-value (2.28) is less than the critical t-value (±2.617), we fail to reject the null hypothesis. Therefore, we cannot conclude that the population means for the two groups are different at a significance level of 0.01."
   ]
  },
  {
   "cell_type": "markdown",
   "id": "7cb0a56a-15d2-4370-9f35-f13a32f13fe2",
   "metadata": {},
   "source": [
    "Q17. A marketing company wants to estimate the average number of ads watched by viewers during a TV\n",
    "program. They take a random sample of 50 viewers and find that the sample mean is 4 with a standard\n",
    "deviation of 1.5. Estimate the population mean with a 99% confidence interval"
   ]
  },
  {
   "cell_type": "markdown",
   "id": "0d4296ed-25ae-4414-8d11-59fdc5901cea",
   "metadata": {},
   "source": [
    "To estimate the population mean with a 99% confidence interval, we can use the following formula:\n",
    "\n",
    "Confidence interval = sample mean ± (t-value)*(standard error)\n",
    "\n",
    "Where,\n",
    "sample mean = 4\n",
    "t-value = the critical value of the t-distribution for a 99% confidence level with (n-1) degrees of freedom. We can find this value using the t-table or the t-distribution function in Python.\n",
    "standard error = standard deviation / square root of the sample size.\n",
    "\n",
    "First, we calculate the standard error:\n",
    "\n",
    "standard error = 1.5 / (sqrt(50)) = 0.2121\n",
    "\n",
    "Next, we need to find the t-value for a 99% confidence level and 49 degrees of freedom. Using the t-distribution function in Python, we can find this value to be approximately 2.680.\n",
    "\n",
    "Now, we can calculate the confidence interval:\n",
    "\n",
    "Confidence interval = 4 ± (2.680)*(0.2121) = (3.43, 4.57)\n",
    "\n",
    "Therefore, we can say with 99% confidence that the true population mean number of ads watched by viewers during a TV program is between 3.43 and 4.57."
   ]
  }
 ],
 "metadata": {
  "kernelspec": {
   "display_name": "Python 3 (ipykernel)",
   "language": "python",
   "name": "python3"
  },
  "language_info": {
   "codemirror_mode": {
    "name": "ipython",
    "version": 3
   },
   "file_extension": ".py",
   "mimetype": "text/x-python",
   "name": "python",
   "nbconvert_exporter": "python",
   "pygments_lexer": "ipython3",
   "version": "3.10.8"
  }
 },
 "nbformat": 4,
 "nbformat_minor": 5
}
