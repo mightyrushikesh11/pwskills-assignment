{
 "cells": [
  {
   "cell_type": "markdown",
   "id": "37996aa3-ad8c-4a66-b25c-95f51cd805c0",
   "metadata": {},
   "source": [
    "Q1, Create a vehicle class with an init method having instance variables as name_of_vehicle, max_speed \n",
    "and average_of_vehicle. "
   ]
  },
  {
   "cell_type": "code",
   "execution_count": 27,
   "id": "71deaeb9-5848-4d4c-8869-b82fe6330c88",
   "metadata": {},
   "outputs": [],
   "source": [
    "class vehicle:\n",
    "    def __init__(self,name_of_vehicle, max_speed,average_of_vehicle):\n",
    "        self.name_of_vehicle=name_of_vehicle\n",
    "        self.max_speed=max_speed\n",
    "        self.average_of_vehicle=average_of_vehicle\n",
    "   "
   ]
  },
  {
   "cell_type": "markdown",
   "id": "f7fc59df-65d3-4090-84fd-9c6f3e0761b5",
   "metadata": {},
   "source": [
    "Q2.  Create a child class car from the vehicle class created in Que 1, which will inherit the vehicle class. \n",
    "Create a method named seating_capacity which takes capacity as an argument and returns the name of \n",
    "the vehicle and its seating capacity."
   ]
  },
  {
   "cell_type": "code",
   "execution_count": 31,
   "id": "a4385b04-7ad6-4fda-9486-aa43b6729d7e",
   "metadata": {},
   "outputs": [],
   "source": [
    "class car(vehicle):\n",
    "    def seating_capacity(self,capacity):\n",
    "        return f\"{ self.name_of_vehicle } has a seating capacity of {capacity}\""
   ]
  },
  {
   "cell_type": "code",
   "execution_count": 33,
   "id": "badda775-5ba9-448a-83f4-cc5710a9ea2f",
   "metadata": {},
   "outputs": [
    {
     "data": {
      "text/plain": [
       "'Rolls Royce phantom has a seating capacity of 4'"
      ]
     },
     "execution_count": 33,
     "metadata": {},
     "output_type": "execute_result"
    }
   ],
   "source": [
    "b=car('Rolls Royce phantom', 300, 18).seating_capacity(4)\n",
    "\n",
    "b"
   ]
  },
  {
   "cell_type": "markdown",
   "id": "3dc6b7e4-7c87-4b3f-8ed2-b1f12f01e0da",
   "metadata": {},
   "source": [
    "Q3. What is multiple inheritance? Write a python code to demonstrate multiple inheritance.\n",
    "\n",
    "Ans.When a class is derived from more than one base class it is called multiple Inheritance. The derived class inherits all the features of the base case."
   ]
  },
  {
   "cell_type": "code",
   "execution_count": 57,
   "id": "1bb43c15-889b-4f72-81b7-9f24a774615b",
   "metadata": {},
   "outputs": [],
   "source": [
    "#Example : Multiple Inheritance\n",
    "\n",
    "class a:\n",
    "    def class_a(self):\n",
    "        return 'This is my first base class'\n",
    "    \n",
    "class b:\n",
    "    def class_b(self):\n",
    "        return 'This is my second base class'\n",
    "    \n",
    "class derived_class(a,b):\n",
    "    pass\n",
    "\n",
    "Derived_class=derived_class()    "
   ]
  },
  {
   "cell_type": "code",
   "execution_count": 55,
   "id": "9fce46b4-cfc0-4b04-b090-96e7056afab9",
   "metadata": {},
   "outputs": [
    {
     "data": {
      "text/plain": [
       "'This is my first base class'"
      ]
     },
     "execution_count": 55,
     "metadata": {},
     "output_type": "execute_result"
    }
   ],
   "source": [
    "Derived_class.class_a()"
   ]
  },
  {
   "cell_type": "code",
   "execution_count": 56,
   "id": "92b1bc89-4348-4bc2-baa4-c31d45cbad04",
   "metadata": {},
   "outputs": [
    {
     "data": {
      "text/plain": [
       "'This is my second base class'"
      ]
     },
     "execution_count": 56,
     "metadata": {},
     "output_type": "execute_result"
    }
   ],
   "source": [
    "Derived_class.class_b()"
   ]
  },
  {
   "cell_type": "markdown",
   "id": "70cd2d43-10d4-454e-9579-719d7207f198",
   "metadata": {},
   "source": [
    "Q4. What are getter and setter in python? Create a class and create a getter and a setter method in this \n",
    "class.\n",
    "\n",
    "Ans. Getters: These are the methods used in Object-Oriented Programming (OOPS) which helps to access the private attributes from a class.\n",
    "Setters: These are the methods used in OOPS feature which helps to set the value to private attributes in a class.\n",
    "\n",
    "Here is an example of a class with both getter and setter:\n",
    "\n",
    "class MyClass:\n",
    "    def __init__(self, value):\n",
    "        self._value = value\n",
    "\n",
    "    @property\n",
    "    def value(self):\n",
    "        return self._value\n",
    "\n",
    "    @value.setter\n",
    "    def value(self, new_value):\n",
    "        self._value = new_value"
   ]
  },
  {
   "cell_type": "markdown",
   "id": "1ea5aa20-a9ae-4746-8dfd-4e0de71bc8ad",
   "metadata": {},
   "source": [
    "Q5.What is method overriding in python? Write a python code to demonstrate method overriding.\n",
    "\n",
    "ANS. Method overriding allows us to redefine a method in a derived class. The method in the derived class is said to override the method in the base class. When we create an instance of the derived class and call the overridden method, the version of the method in the derived class is executed, rather than the version in the base class.\n",
    "\n",
    "For example, consider the following base class:\n",
    "\n",
    "class Shape:\n",
    "    def area(self):\n",
    "        print(\"Calculating area...\")\n",
    "In this base class, the area method prints a message indicating that the area is being calculated. If you want to create a derived class that represents a circle, and we also want to print a message indicating the type of shape, we can use the super function to call the base class method, and add your own message:\n",
    "\n",
    "class Circle(Shape):\n",
    "    def __init__(self, radius):\n",
    "        self.radius = radius\n",
    "\n",
    "    def area(self):\n",
    "        print(\"Calculating area of a circle...\")\n",
    "        super().area()\n",
    "        return 3.14 * self.radius * self.radius\n",
    "In this example, the Circle class overrides the area method, and calls the base class method using the super function. This allows us to extend the behavior of the base class method, while still maintaining its original behavior."
   ]
  }
 ],
 "metadata": {
  "kernelspec": {
   "display_name": "Python 3 (ipykernel)",
   "language": "python",
   "name": "python3"
  },
  "language_info": {
   "codemirror_mode": {
    "name": "ipython",
    "version": 3
   },
   "file_extension": ".py",
   "mimetype": "text/x-python",
   "name": "python",
   "nbconvert_exporter": "python",
   "pygments_lexer": "ipython3",
   "version": "3.10.8"
  }
 },
 "nbformat": 4,
 "nbformat_minor": 5
}
