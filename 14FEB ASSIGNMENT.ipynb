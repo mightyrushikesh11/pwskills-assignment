{
 "cells": [
  {
   "cell_type": "markdown",
   "id": "68071120-af22-4d37-89c6-9702bf4f1475",
   "metadata": {},
   "source": [
    "Q1. What is multithreading in python? Why is it used? Name the module used to handle threads in python.\n",
    "\n",
    "Ans.Multithreading in Python refers to the ability of the Python interpreter to run multiple threads of execution concurrently within a single process. A thread is a separate flow of execution, which can run in parallel with other threads. By running multiple threads in parallel, a program can utilize the available CPU resources more efficiently and achieve better performance.\n",
    "\n",
    "Multithreading is used in Python when we want to perform multiple tasks simultaneously, such as fetching data from the internet while processing data that has already been fetched. Multithreading is also useful in creating responsive user interfaces for applications that involve long-running tasks.\n",
    "\n",
    "The threading module is used to handle threads in Python. This module provides a way to create, start, and stop threads, as well as to synchronize data between threads. With the threading module, we can create new threads by instantiating the Thread class and passing a target function to be run in the new thread. We can also use the Lock and Event classes to synchronize access to shared data and coordinate the execution of multiple threads."
   ]
  },
  {
   "cell_type": "markdown",
   "id": "cbba79a4-5ab4-4b94-ad6e-197256146c87",
   "metadata": {},
   "source": [
    "Q2. Why threading module used? Write the use of the following functions \n",
    "1.activeCount()\n",
    "2.currentThread()\n",
    "3.enumerate()\n",
    "\n",
    "\n",
    "Ans. The threading module is used to handle threads in Python.\n",
    "\n",
    "activeCount() is a function in the threading module that returns the number of thread objects that are currently active in the current Python interpreter. This function is useful when we want to monitor the number of active threads in our program, which can help us to identify potential performance issues related to threading.\n",
    "\n",
    "currentThread() is a function in the threading module that returns a reference to the current thread object. This function is useful when we want to access the properties or methods of the current thread, such as its name, ident, or daemon status. By using currentThread(), we can perform thread-specific operations without having to explicitly pass a reference to the thread object.\n",
    "\n",
    "enumerate() is a function in the threading module that returns a list of all thread objects that are currently active in the current Python interpreter. The returned list includes the main thread and all active daemon threads. This function is useful when we want to inspect the state of all threads in our program, such as their name, ident, and daemon status. By using enumerate(), we can iterate over all active threads and perform operations on them, such as joining them or checking their status."
   ]
  },
  {
   "cell_type": "markdown",
   "id": "9d7ff09f-2e0b-4d12-aac2-29368ed69933",
   "metadata": {},
   "source": [
    "Q3. Explain the following functions \n",
    "1.run()\n",
    "2.start()\n",
    "3.join()\n",
    "4.isAlive()\n",
    "\n",
    "Ans. run() is a method that is called when a thread is started using the start() method. This method contains the code that is executed in the new thread. To use multithreading in Python, we need to create a subclass of the Thread class and override the run() method with our own implementation of the thread's behavior.\n",
    "\n",
    "start() is a method that starts a new thread of execution by calling the run() method of the thread. The start() method does not block the main thread of execution, and it returns immediately after starting the new thread. Once a thread is started using start(), it runs independently of the main thread, allowing for concurrent execution of multiple threads.\n",
    "\n",
    "join() is a method that blocks the calling thread until the thread on which it is called has completed its execution. When a thread calls the join() method on another thread, it waits for the other thread to complete before continuing its own execution. This method is useful when we want to ensure that all threads have completed their execution before the main thread exits or before performing some other operation that requires the completion of all threads.\n",
    "\n",
    "isAlive() is a method that returns a boolean value indicating whether the thread is currently executing or not. When a thread is executing, isAlive() returns True, and when a thread has completed its execution, it returns False. This method is useful when we want to check the status of a thread and take some action based on whether the thread is still running or has completed. For example, we might use isAlive() to determine whether a thread has completed its work and then join the thread to wait for its completion."
   ]
  },
  {
   "cell_type": "markdown",
   "id": "97ffb0a6-8385-4bce-9d81-619521f23d3d",
   "metadata": {},
   "source": [
    "Q4. Write a python program to create two threads. Thread one must print the list of squares and thread two must print the list of cubes.\n"
   ]
  },
  {
   "cell_type": "code",
   "execution_count": 1,
   "id": "534c57b8-571e-4e10-87f6-c6a834f415cd",
   "metadata": {},
   "outputs": [
    {
     "name": "stdout",
     "output_type": "stream",
     "text": [
      "Squares: [0, 1, 4, 9, 16, 25, 36, 49, 64, 81]\n",
      "Cubes: [0, 1, 8, 27, 64, 125, 216, 343, 512, 729]\n"
     ]
    }
   ],
   "source": [
    "import threading\n",
    "\n",
    "def print_squares():\n",
    "    squares = [i*i for i in range(10)]\n",
    "    print(\"Squares:\", squares)\n",
    "\n",
    "def print_cubes():\n",
    "    cubes = [i*i*i for i in range(10)]\n",
    "    print(\"Cubes:\", cubes)\n",
    "\n",
    "# create the threads\n",
    "t1 = threading.Thread(target=print_squares)\n",
    "t2 = threading.Thread(target=print_cubes)\n",
    "\n",
    "# start the threads\n",
    "t1.start()\n",
    "t2.start()\n",
    "\n",
    "# wait for the threads to finish\n",
    "t1.join()\n",
    "t2.join()\n"
   ]
  },
  {
   "cell_type": "markdown",
   "id": "22fb78ef-132f-4d36-95f0-e169333361d4",
   "metadata": {},
   "source": [
    "Q5. State advantages and disadvantages of multithreading.\n",
    "\n",
    "Ans. Advantages of multithreading:\n",
    "\n",
    "Increased performance: By allowing multiple threads to run concurrently, we can take advantage of multiple CPUs or CPU cores, which can lead to improved performance for certain types of tasks.\n",
    "Responsiveness: Multithreading can improve the responsiveness of an application, as it allows the main thread to remain responsive to user input while long-running tasks are performed in background threads.\n",
    "Resource sharing: Threads can share resources such as memory and file handles, which can lead to more efficient use of system resources.\n",
    "Simplified programming: Multithreading can simplify programming in some cases, by allowing complex tasks to be broken down into smaller, more manageable tasks that can be executed concurrently.\n",
    "\n",
    "\n",
    "Disadvantages of multithreading:\n",
    "\n",
    "Increased complexity: Multithreading can increase the complexity of a program, as it introduces new issues such as race conditions, deadlocks, and synchronization.\n",
    "Overhead: Multithreading introduces overhead in the form of context switching, synchronization, and communication between threads. This overhead can reduce the overall performance of a program, especially if the threads are not well-designed or used inappropriately.\n",
    "Debugging difficulty: Debugging multithreaded programs can be challenging, as issues such as race conditions and deadlocks can be difficult to reproduce and diagnose.\n",
    "Resource contention: If multiple threads are accessing the same resources simultaneously, it can lead to contention and reduced performance. Proper synchronization and resource management is required to avoid this issue."
   ]
  },
  {
   "cell_type": "markdown",
   "id": "ea94953a-1213-4d7a-baef-24c786a96578",
   "metadata": {},
   "source": [
    "Q6. Explain deadlocks and race conditions.\n",
    "\n",
    "Ans. Deadlocks and race conditions are two common issues that can occur in multithreaded programs.\n",
    "\n",
    "A deadlock occurs when two or more threads are waiting for each other to release resources that they need in order to continue their execution. This can result in a situation where all threads are blocked and unable to proceed, which can cause the entire program to hang or crash. Deadlocks can occur when threads acquire resources in different orders, or when threads hold onto resources for too long without releasing them.\n",
    "\n",
    "A race condition occurs when two or more threads access shared data or resources simultaneously, and the order in which they access these resources affects the outcome of the program. Race conditions can result in unpredictable behavior, such as incorrect values being read or written to shared variables, or even crashes or other errors. Race conditions can occur when threads do not properly synchronize their access to shared resources, such as by using locks or other synchronization primitives.\n",
    "\n",
    "Both deadlocks and race conditions can be difficult to diagnose and fix, as they can be highly dependent on the timing and scheduling of threads, and can be difficult to reproduce consistently. Proper synchronization and resource management is essential to avoid these issues in multithreaded programs."
   ]
  }
 ],
 "metadata": {
  "kernelspec": {
   "display_name": "Python 3 (ipykernel)",
   "language": "python",
   "name": "python3"
  },
  "language_info": {
   "codemirror_mode": {
    "name": "ipython",
    "version": 3
   },
   "file_extension": ".py",
   "mimetype": "text/x-python",
   "name": "python",
   "nbconvert_exporter": "python",
   "pygments_lexer": "ipython3",
   "version": "3.10.8"
  }
 },
 "nbformat": 4,
 "nbformat_minor": 5
}
