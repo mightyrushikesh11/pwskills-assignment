{
 "cells": [
  {
   "cell_type": "markdown",
   "id": "82d1115a-6add-4727-9968-c0934ff67669",
   "metadata": {},
   "source": [
    "Q1. Create a Pandas Series that contains the following data: 4, 8, 15, 16, 23, and 42. Then, print the series."
   ]
  },
  {
   "cell_type": "code",
   "execution_count": 12,
   "id": "908f73e1-4110-40bb-a82c-95f6949eb0d6",
   "metadata": {},
   "outputs": [
    {
     "name": "stdout",
     "output_type": "stream",
     "text": [
      "0     4\n",
      "1     8\n",
      "2    15\n",
      "3    16\n",
      "4    23\n",
      "5    42\n",
      "dtype: int64\n"
     ]
    }
   ],
   "source": [
    "import pandas as pd\n",
    "\n",
    "data=[4,8,15,16,23,42]\n",
    "\n",
    "series=pd.Series(data)\n",
    "print(series)"
   ]
  },
  {
   "cell_type": "markdown",
   "id": "f4a4db6f-22b3-4ae6-9921-2c025bfc056e",
   "metadata": {},
   "source": [
    "Q2. Create a variable of list type containing 10 elements in it, and apply pandas.Series function on the \n",
    "variable print it."
   ]
  },
  {
   "cell_type": "code",
   "execution_count": 13,
   "id": "5d4866ad-3e08-467d-ba61-8916db516bea",
   "metadata": {},
   "outputs": [
    {
     "name": "stdout",
     "output_type": "stream",
     "text": [
      "<class 'list'>\n",
      "0     1\n",
      "1     2\n",
      "2     3\n",
      "3     4\n",
      "4     5\n",
      "5     6\n",
      "6     7\n",
      "7     8\n",
      "8     9\n",
      "9    10\n",
      "dtype: int64\n"
     ]
    }
   ],
   "source": [
    "l=[1,2,3,4,5,6,7,8,9,10]\n",
    "print(type(l))#just to check the type\n",
    "mylist_series=pd.Series(l)\n",
    "print(mylist_series)"
   ]
  },
  {
   "cell_type": "markdown",
   "id": "79608723-fa25-4639-b3c2-459f12d6dd5e",
   "metadata": {},
   "source": [
    "Q3. Create a Pandas DataFrame that contains the following data:\n",
    "Then, print the DataFrame.\n",
    "\n",
    "Name                        Age                             Gender\n",
    "Alice                       25                              Female\n",
    "Bob                         30                              Male\n",
    "Claire                      27                              Female\n",
    "\n",
    "Then, print the DataFrame."
   ]
  },
  {
   "cell_type": "code",
   "execution_count": 14,
   "id": "18fe42bc-6798-47d7-ba0f-5c8ee1f37af1",
   "metadata": {},
   "outputs": [
    {
     "name": "stdout",
     "output_type": "stream",
     "text": [
      "     Name  Age  Gender\n",
      "0   Alice   25  Female\n",
      "1     Bob   30    Male\n",
      "2  Claire   27  Female\n"
     ]
    },
    {
     "data": {
      "text/plain": [
       "pandas.core.frame.DataFrame"
      ]
     },
     "execution_count": 14,
     "metadata": {},
     "output_type": "execute_result"
    }
   ],
   "source": [
    "data= {\"Name\":['Alice','Bob','Claire'],\n",
    "      'Age':[25,30,27],\n",
    "      'Gender': ['Female','Male','Female']}\n",
    "\n",
    "my_dataframe=pd.DataFrame(data)\n",
    "print(my_dataframe)\n",
    "type(my_dataframe)#just to check the type"
   ]
  },
  {
   "cell_type": "markdown",
   "id": "87595354-6ea7-40d8-8d4f-c10cd1b7ced1",
   "metadata": {},
   "source": [
    "Q4. What is ‘DataFrame’ in pandas and how is it different from pandas.series? Explain with an example.\n",
    "\n",
    "In Pandas, a DataFrame is a two-dimensional tabular data structure, consisting of rows and columns, similar to a spreadsheet or SQL table. A DataFrame can contain columns of different data types (e.g., numerical, categorical, datetime), and it supports a wide range of data manipulation operations such as merging, grouping, filtering, and aggregation.\n",
    "\n",
    "On the other hand, a Pandas Series is a one-dimensional array-like object that can hold any data type such as integers, floats, strings, or even other objects. Each element in a Series is assigned an index label, which can be either a numerical or a string-based identifier."
   ]
  },
  {
   "cell_type": "code",
   "execution_count": 19,
   "id": "80b69347-d94b-4d49-b64b-e7fb314ed6e7",
   "metadata": {},
   "outputs": [
    {
     "name": "stdout",
     "output_type": "stream",
     "text": [
      "     Name  Age  Gender\n",
      "0   Alice   25  Female\n",
      "1     Bob   30    Male\n",
      "2  Claire   27  Female\n",
      "<class 'pandas.core.frame.DataFrame'>\n",
      "Name        [Alice, Bob, Claire]\n",
      "Age                 [25, 30, 27]\n",
      "Gender    [Female, Male, Female]\n",
      "dtype: object\n"
     ]
    },
    {
     "data": {
      "text/plain": [
       "pandas.core.series.Series"
      ]
     },
     "execution_count": 19,
     "metadata": {},
     "output_type": "execute_result"
    }
   ],
   "source": [
    "#EXAMPLE OF DATAFRAME AND SERIES\n",
    "data= {\"Name\":['Alice','Bob','Claire'],\n",
    "      'Age':[25,30,27],\n",
    "      'Gender': ['Female','Male','Female']}\n",
    "\n",
    "my_dataframe=pd.DataFrame(data)\n",
    "print(my_dataframe)\n",
    "print(type(my_dataframe))\n",
    "series1= pd.Series(data)\n",
    "print(series1)\n",
    "type(series1)"
   ]
  },
  {
   "cell_type": "markdown",
   "id": "875da867-badd-4b2e-905a-dfe399a0f42f",
   "metadata": {},
   "source": [
    "Q5. What are some common functions you can use to manipulate data in a Pandas DataFrame? Can \n",
    "you give an example of when you might use one of these functions?\n",
    "\n",
    "\n",
    "Pandas DataFrame provides a wide range of functions to manipulate data, including indexing and selecting data, filtering rows, grouping data, merging and joining datasets, reshaping data, and computing summary statistics. Here are some common functions that you can use to manipulate data in a Pandas DataFrame:\n",
    "\n",
    "head() and tail(): To display the first or last n rows of a DataFrame. For example, df.head() will display the first 5 rows of a DataFrame df.\n",
    "\n",
    "loc[] and iloc[]: To access and select subsets of data by label or integer location. For example, df.loc[2:4, 'column_name'] will select rows with labels from 2 to 4 and the specified column.\n",
    "\n",
    "drop(): To remove rows or columns from a DataFrame. For example, df.drop([1,3]) will drop rows with index labels 1 and 3.\n",
    "\n",
    "groupby(): To group data by one or more columns and compute summary statistics. For example, df.groupby('column_name').mean() will group the DataFrame by the specified column and compute the mean value for each group.\n",
    "\n",
    "merge(): To combine two or more DataFrames based on a common column or index. For example, pd.merge(df1, df2, on='column_name') will merge two DataFrames df1 and df2 based on the common column.\n",
    "\n",
    "pivot(): To reshape a DataFrame by converting rows to columns and vice versa. For example, df.pivot(index='column_1', columns='column_2', values='value_column') will pivot a DataFrame by creating new columns based on the values in the specified columns.\n",
    "\n",
    "fillna(): To replace missing values with a specified value or method. For example, df.fillna(0) will replace all missing values in the DataFrame with 0."
   ]
  },
  {
   "cell_type": "code",
   "execution_count": 20,
   "id": "973d1e40-26c4-43f9-aea8-8238fa36f799",
   "metadata": {},
   "outputs": [
    {
     "data": {
      "text/html": [
       "<div>\n",
       "<style scoped>\n",
       "    .dataframe tbody tr th:only-of-type {\n",
       "        vertical-align: middle;\n",
       "    }\n",
       "\n",
       "    .dataframe tbody tr th {\n",
       "        vertical-align: top;\n",
       "    }\n",
       "\n",
       "    .dataframe thead th {\n",
       "        text-align: right;\n",
       "    }\n",
       "</style>\n",
       "<table border=\"1\" class=\"dataframe\">\n",
       "  <thead>\n",
       "    <tr style=\"text-align: right;\">\n",
       "      <th></th>\n",
       "      <th>Name</th>\n",
       "      <th>Age</th>\n",
       "      <th>Gender</th>\n",
       "    </tr>\n",
       "  </thead>\n",
       "  <tbody>\n",
       "    <tr>\n",
       "      <th>0</th>\n",
       "      <td>Alice</td>\n",
       "      <td>25</td>\n",
       "      <td>Female</td>\n",
       "    </tr>\n",
       "    <tr>\n",
       "      <th>1</th>\n",
       "      <td>Bob</td>\n",
       "      <td>30</td>\n",
       "      <td>Male</td>\n",
       "    </tr>\n",
       "  </tbody>\n",
       "</table>\n",
       "</div>"
      ],
      "text/plain": [
       "    Name  Age  Gender\n",
       "0  Alice   25  Female\n",
       "1    Bob   30    Male"
      ]
     },
     "execution_count": 20,
     "metadata": {},
     "output_type": "execute_result"
    }
   ],
   "source": [
    "#EXAMPLE:\n",
    "\n",
    "my_dataframe.head(2)"
   ]
  },
  {
   "cell_type": "code",
   "execution_count": 21,
   "id": "0990f801-9047-45ad-aea4-44814c11f505",
   "metadata": {},
   "outputs": [
    {
     "data": {
      "text/html": [
       "<div>\n",
       "<style scoped>\n",
       "    .dataframe tbody tr th:only-of-type {\n",
       "        vertical-align: middle;\n",
       "    }\n",
       "\n",
       "    .dataframe tbody tr th {\n",
       "        vertical-align: top;\n",
       "    }\n",
       "\n",
       "    .dataframe thead th {\n",
       "        text-align: right;\n",
       "    }\n",
       "</style>\n",
       "<table border=\"1\" class=\"dataframe\">\n",
       "  <thead>\n",
       "    <tr style=\"text-align: right;\">\n",
       "      <th></th>\n",
       "      <th>Name</th>\n",
       "      <th>Age</th>\n",
       "      <th>Gender</th>\n",
       "    </tr>\n",
       "  </thead>\n",
       "  <tbody>\n",
       "    <tr>\n",
       "      <th>1</th>\n",
       "      <td>Bob</td>\n",
       "      <td>30</td>\n",
       "      <td>Male</td>\n",
       "    </tr>\n",
       "    <tr>\n",
       "      <th>2</th>\n",
       "      <td>Claire</td>\n",
       "      <td>27</td>\n",
       "      <td>Female</td>\n",
       "    </tr>\n",
       "  </tbody>\n",
       "</table>\n",
       "</div>"
      ],
      "text/plain": [
       "     Name  Age  Gender\n",
       "1     Bob   30    Male\n",
       "2  Claire   27  Female"
      ]
     },
     "execution_count": 21,
     "metadata": {},
     "output_type": "execute_result"
    }
   ],
   "source": [
    "#EXAMPLE:\n",
    "\n",
    "my_dataframe.tail(2)"
   ]
  },
  {
   "cell_type": "markdown",
   "id": "b1e3b882-13c2-4f71-b928-a269b242f12b",
   "metadata": {},
   "source": [
    "Q6. Which of the following is mutable in nature Series, DataFrame, Panel?\n",
    "\n",
    "In Pandas, both Series and DataFrame are mutable in nature. This means that the values in a Series or a DataFrame can be modified or updated after they have been created."
   ]
  },
  {
   "cell_type": "code",
   "execution_count": 29,
   "id": "ca88d51b-698d-4490-9e9d-804ad24a8e94",
   "metadata": {},
   "outputs": [
    {
     "name": "stdout",
     "output_type": "stream",
     "text": [
      "     Name  Age  Gender\n",
      "0   Alice   25  Female\n",
      "1     Bob   30    Male\n",
      "2  Claire   27  Female\n",
      "      Name  Age  Gender\n",
      "0  Rajnish   25    Male\n",
      "1      Bob   30    Male\n",
      "2   Claire   27  Female\n"
     ]
    }
   ],
   "source": [
    "#Example:\n",
    "import pandas as pd\n",
    "data= {\"Name\":['Alice','Bob','Claire'],\n",
    "      'Age':[25,30,27],\n",
    "      'Gender': ['Female','Male','Female']}\n",
    "\n",
    "dataframe= pd.DataFrame(data)\n",
    "print(dataframe)\n",
    "\n",
    "#NOW we can modify this data frame\n",
    "\n",
    "dataframe.at[0,'Name']='Rajnish'\n",
    "dataframe.at[0,'Gender']='Male'\n",
    "print(dataframe)"
   ]
  },
  {
   "cell_type": "code",
   "execution_count": 32,
   "id": "3a49fb65-8b13-4604-bb81-f88afda1d590",
   "metadata": {},
   "outputs": [
    {
     "name": "stdout",
     "output_type": "stream",
     "text": [
      "0     1\n",
      "1     2\n",
      "2     3\n",
      "3     4\n",
      "4     5\n",
      "5    67\n",
      "dtype: int64\n",
      "0    1\n",
      "1    2\n",
      "2    3\n",
      "3    4\n",
      "4    5\n",
      "5    6\n",
      "dtype: int64\n"
     ]
    }
   ],
   "source": [
    "#Example :\n",
    "\n",
    "series=pd.Series([1,2,3,4,5,67])\n",
    "print(series)\n",
    "series.at[5]=6\n",
    "print(series)\n"
   ]
  },
  {
   "cell_type": "markdown",
   "id": "d1f1b2d7-354a-4087-8fff-eb1b1abfb980",
   "metadata": {},
   "source": [
    "Q7. Create a DataFrame using multiple Series. Explain with an example."
   ]
  },
  {
   "cell_type": "code",
   "execution_count": 49,
   "id": "6117767f-3406-45f2-9d59-4216f418ab0a",
   "metadata": {},
   "outputs": [
    {
     "name": "stdout",
     "output_type": "stream",
     "text": [
      "      name occupation  age\n",
      "0  Rajnish   Engineer   25\n",
      "1   Mukesh    Teacher   26\n",
      "2     Tipu     Doctor   27\n"
     ]
    }
   ],
   "source": [
    "#Creating multiple series\n",
    "name=pd.Series(['Rajnish','Mukesh','Tipu'])\n",
    "occupation=pd.Series(['Engineer','Teacher','Doctor'])\n",
    "age=pd.Series([25,26,27])\n",
    "#print(name,occupation,age)\n",
    "\n",
    "#Creating data frame\n",
    "\n",
    "df=pd.concat([name,occupation,age], axis=1)\n",
    "df.columns=['name','occupation','age']\n",
    "print(df)"
   ]
  },
  {
   "cell_type": "code",
   "execution_count": null,
   "id": "8cc1184e-0008-4d22-84f7-7210859649a8",
   "metadata": {},
   "outputs": [],
   "source": []
  }
 ],
 "metadata": {
  "kernelspec": {
   "display_name": "Python 3 (ipykernel)",
   "language": "python",
   "name": "python3"
  },
  "language_info": {
   "codemirror_mode": {
    "name": "ipython",
    "version": 3
   },
   "file_extension": ".py",
   "mimetype": "text/x-python",
   "name": "python",
   "nbconvert_exporter": "python",
   "pygments_lexer": "ipython3",
   "version": "3.10.8"
  }
 },
 "nbformat": 4,
 "nbformat_minor": 5
}
