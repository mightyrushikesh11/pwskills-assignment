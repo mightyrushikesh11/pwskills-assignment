{
 "cells": [
  {
   "cell_type": "markdown",
   "id": "cf7f9075-fab6-4f41-a8a8-d602529a5400",
   "metadata": {},
   "source": [
    "Q1: What is the difference between a t-test and a z-test? Provide an example scenario where you would\n",
    "use each type of test."
   ]
  },
  {
   "cell_type": "markdown",
   "id": "06b0bf90-8ac1-4858-af3a-bfa7aadd2332",
   "metadata": {},
   "source": [
    "Ans.Both t-tests and z-tests are statistical tests used to determine whether a sample mean is significantly different from a population mean. However, the main difference between the two tests is that the z-test is used when the population standard deviation is known, while the t-test is used when the population standard deviation is unknown.\n",
    "\n",
    "A z-test is used when the population standard deviation is known and the sample size is large (typically greater than 30). This test is used to determine whether a sample mean is significantly different from the population mean by calculating a z-score. For example, if a researcher wants to test whether the average height of men in a certain country is significantly different from a known population mean, a z-test would be appropriate if the standard deviation of the population height is known.\n",
    "\n",
    "On the other hand, a t-test is used when the population standard deviation is unknown, or the sample size is small (typically less than 30). This test is used to determine whether a sample mean is significantly different from the population mean by calculating a t-score. For example, if a researcher wants to test whether a new drug is significantly more effective than a placebo, a t-test would be appropriate since the population standard deviation is unknown and the sample size is likely to be small.\n",
    "\n",
    "In summary, a z-test is appropriate when the population standard deviation is known and the sample size is large, while a t-test is appropriate when the population standard deviation is unknown or the sample size is small."
   ]
  },
  {
   "cell_type": "markdown",
   "id": "8f7f7174-6f9c-44be-a8a6-bcb45b64387a",
   "metadata": {},
   "source": [
    "Q2: Differentiate between one-tailed and two-tailed tests."
   ]
  },
  {
   "cell_type": "markdown",
   "id": "9651c849-2825-484c-a407-8fdc2c5dfd42",
   "metadata": {},
   "source": [
    "Ans.A statistical hypothesis test can be either one-tailed or two-tailed, which refers to the directionality of the alternative hypothesis.\n",
    "\n",
    "A one-tailed test is a hypothesis test in which the alternative hypothesis is directional, meaning it predicts the direction of the effect being tested. For example, if a researcher is testing whether a new drug increases reaction time, the one-tailed alternative hypothesis would predict that the drug increases reaction time (i.e., the effect is in a specific direction). This type of test is appropriate when the researcher has a clear and specific directional hypothesis based on previous research or theory.\n",
    "\n",
    "A two-tailed test is a hypothesis test in which the alternative hypothesis is non-directional, meaning it predicts that the effect being tested could occur in either direction. For example, if a researcher is testing whether a new teaching method improves test scores, the two-tailed alternative hypothesis would predict that the teaching method could either improve or decrease test scores (i.e., the effect could be in either direction). This type of test is appropriate when the researcher does not have a clear directional hypothesis or when the effect could plausibly occur in either direction.\n",
    "\n",
    "In summary, one-tailed tests are used when the researcher has a specific directional hypothesis, while two-tailed tests are used when the hypothesis is non-directional or when the effect could plausibly occur in either direction."
   ]
  },
  {
   "cell_type": "markdown",
   "id": "dac2ff28-f599-46dd-b113-7e6dcb2c4e91",
   "metadata": {},
   "source": [
    "Q3: Explain the concept of Type 1 and Type 2 errors in hypothesis testing. Provide an example scenario for\n",
    "each type of error."
   ]
  },
  {
   "cell_type": "markdown",
   "id": "f69f0f95-18a1-4f8a-980f-e4b707cb2b0a",
   "metadata": {},
   "source": [
    "Ans.In hypothesis testing, there are two types of errors that can occur: Type 1 errors and Type 2 errors.\n",
    "\n",
    "Type 1 error occurs when the null hypothesis is rejected, even though it is actually true. In other words, a Type 1 error occurs when a researcher concludes that there is a significant effect or relationship, when in fact there is no effect or relationship. The probability of making a Type 1 error is denoted as alpha (α), which is the level of significance set by the researcher. The significance level is typically set at 0.05, which means there is a 5% chance of making a Type 1 error.\n",
    "\n",
    "An example scenario for a Type 1 error is when a researcher concludes that a new drug is effective in treating a disease, when in fact the drug has no effect on the disease. This could happen if the researcher used a statistical test with a significance level of 0.05, and the results showed a significant effect even though there was none.\n",
    "\n",
    "Type 2 error occurs when the null hypothesis is not rejected, even though it is actually false. In other words, a Type 2 error occurs when a researcher fails to conclude that there is a significant effect or relationship, when in fact there is an effect or relationship. The probability of making a Type 2 error is denoted as beta (β), and it depends on several factors, including the sample size and the effect size.\n",
    "\n",
    "An example scenario for a Type 2 error is when a researcher concludes that a new drug is not effective in treating a disease, when in fact the drug is effective. This could happen if the researcher used a statistical test with a low power (i.e., the ability to detect a true effect), or if the effect size of the drug was small.\n",
    "\n",
    "In summary, Type 1 error occurs when the null hypothesis is falsely rejected, and Type 2 error occurs when the null hypothesis is not rejected even though it is actually false. Both types of errors can have important consequences in research, and it is important for researchers to consider the potential for both types of errors when conducting hypothesis testing."
   ]
  },
  {
   "cell_type": "markdown",
   "id": "6575cf39-2998-4bf7-9216-49adbb1b40cc",
   "metadata": {},
   "source": [
    "Q4: Explain Bayes's theorem with an example."
   ]
  },
  {
   "cell_type": "markdown",
   "id": "ffdfe1ee-4a41-4c44-8fd5-c06772fdc492",
   "metadata": {},
   "source": [
    "Bayes's theorem is a mathematical formula used to update the probability of an event occurring based on new information. It is named after the Reverend Thomas Bayes, an 18th-century English statistician and theologian.\n",
    "\n",
    "The formula for Bayes's theorem is as follows:\n",
    "\n",
    "P(A|B) = P(B|A) * P(A) / P(B)\n",
    "\n",
    "where P(A|B) is the probability of event A occurring given that event B has occurred, P(B|A) is the probability of event B occurring given that event A has occurred, P(A) is the prior probability of event A, and P(B) is the prior probability of event B.\n",
    "\n",
    "An example of Bayes's theorem is a medical test for a disease that affects 1% of the population. The test is known to have a 95% accuracy rate, meaning that if a person has the disease, there is a 95% chance the test will detect it, and if a person does not have the disease, there is a 95% chance the test will correctly return a negative result.\n",
    "\n",
    "Suppose a person tests positive for the disease. What is the probability that they actually have the disease?\n",
    "\n",
    "Let's use Bayes's theorem to calculate the probability. We know that the prior probability of having the disease is 1%, or 0.01. We also know that the accuracy rate of the test is 95%, or 0.95, and the false positive rate (the probability of a person testing positive given that they do not have the disease) is 5%, or 0.05.\n",
    "\n",
    "Using Bayes's theorem, we can calculate the probability of the person having the disease given that they tested positive:\n",
    "\n",
    "P(Disease|Positive) = P(Positive|Disease) * P(Disease) / P(Positive)\n",
    "\n",
    "where P(Disease|Positive) is the probability of having the disease given a positive test result.\n",
    "\n",
    "P(Positive|Disease) is the probability of testing positive given that the person has the disease, which is 0.95.\n",
    "\n",
    "P(Disease) is the prior probability of having the disease, which is 0.01.\n",
    "\n",
    "P(Positive) is the probability of testing positive, which is the sum of the probability of testing positive given that the person has the disease and the probability of testing positive given that the person does not have the disease, multiplied by their respective prior probabilities.\n",
    "\n",
    "P(Positive) = P(Positive|Disease) * P(Disease) + P(Positive|No Disease) * P(No Disease)\n",
    "= 0.95 * 0.01 + 0.05 * 0.99\n",
    "= 0.058\n",
    "\n",
    "Therefore, the probability of the person having the disease given that they tested positive is:\n",
    "\n",
    "P(Disease|Positive) = 0.95 * 0.01 / 0.058\n",
    "= 0.163\n",
    "\n",
    "So, there is a 16.3% chance that the person actually has the disease, given that they tested positive. This illustrates how Bayes's theorem can be used to update the probability of an event occurring based on new information."
   ]
  },
  {
   "cell_type": "markdown",
   "id": "b4ad9df7-b773-4d27-b804-61a96f5a7ac6",
   "metadata": {},
   "source": [
    "Q5: What is a confidence interval? How to calculate the confidence interval, explain with an example."
   ]
  },
  {
   "cell_type": "markdown",
   "id": "ad0685a0-729d-42e7-976a-93a2e3eddcef",
   "metadata": {},
   "source": [
    "Ans.A confidence interval is a statistical range that provides an estimate of the true value of a population parameter with a specified degree of confidence. It is an interval estimate computed from a sample of data that is likely to contain the true population parameter with a given probability.\n",
    "\n",
    "To calculate the confidence interval, we need to know the sample size, the sample mean, the standard deviation of the population, and the level of confidence. The formula for the confidence interval is as follows:\n",
    "\n",
    "Confidence interval = sample mean ± z-score × standard error\n",
    "\n",
    "where z-score is the number of standard deviations corresponding to the desired level of confidence, and standard error is the standard deviation of the sample mean. The value of the z-score depends on the level of confidence and can be obtained from a standard normal distribution table.\n",
    "\n",
    "For example, suppose we want to estimate the average height of students in a school with a 95% level of confidence. We randomly select a sample of 50 students and measure their height. We find that the sample mean is 68 inches, and the population standard deviation is 3 inches. The z-score for a 95% level of confidence is 1.96.\n",
    "\n",
    "To calculate the confidence interval, we first calculate the standard error, which is the standard deviation of the sample mean, and is given by:\n",
    "\n",
    "Standard error = population standard deviation / square root of sample size\n",
    "= 3 / sqrt(50)\n",
    "= 0.4243\n",
    "\n",
    "Then, we can calculate the confidence interval as:\n",
    "\n",
    "Confidence interval = 68 ± 1.96 × 0.4243\n",
    "= (67.16, 68.84)\n",
    "\n",
    "Therefore, we can say with 95% confidence that the true average height of students in the school falls within the range of 67.16 to 68.84 inches."
   ]
  },
  {
   "cell_type": "markdown",
   "id": "9237b6f8-f190-400d-80c0-62d0ec838304",
   "metadata": {},
   "source": [
    "Q6. Use Bayes' Theorem to calculate the probability of an event occurring given prior knowledge of the\n",
    "event's probability and new evidence. Provide a sample problem and solution."
   ]
  },
  {
   "cell_type": "markdown",
   "id": "d5eb502d-1d44-4f4d-ab48-23c551ff4623",
   "metadata": {},
   "source": [
    "let's work through a sample problem to calculate the probability of an event occurring given prior knowledge of the event's probability and new evidence using Bayes' Theorem.\n",
    "\n",
    "Example problem:\n",
    "\n",
    "A company produces two types of products, Type A and Type B. Type A products have a 10% defect rate, while Type B products have a 5% defect rate. An inspector checks a product and finds a defect. What is the probability that the product is Type A?\n",
    "\n",
    "Solution:\n",
    "\n",
    "Let's define the events as follows:\n",
    "\n",
    "A: The product is Type A\n",
    "B: The product has a defect\n",
    "From the problem, we know the prior probabilities:\n",
    "\n",
    "P(A) = 0.5, since there are an equal number of Type A and Type B products produced\n",
    "P(B|A) = 0.1, since Type A products have a 10% defect rate\n",
    "P(B|~A) = 0.05, since Type B products have a 5% defect rate\n",
    "We want to calculate the probability of the product being Type A given the evidence of a defect. Using Bayes' Theorem, we can write:\n",
    "\n",
    "P(A|B) = P(B|A) * P(A) / P(B)\n",
    "\n",
    "where P(A|B) is the probability of the product being Type A given the evidence of a defect.\n",
    "\n",
    "To calculate P(B), we use the law of total probability:\n",
    "\n",
    "P(B) = P(B|A) * P(A) + P(B|~A) * P(~A)\n",
    "\n",
    "where P(~A) = 1 - P(A) = 0.5, since there are only two types of products produced.\n",
    "\n",
    "Substituting in the given values, we get:\n",
    "\n",
    "P(B) = 0.1 * 0.5 + 0.05 * 0.5\n",
    "= 0.075\n",
    "\n",
    "Now we can plug in the values into Bayes' Theorem:\n",
    "\n",
    "P(A|B) = P(B|A) * P(A) / P(B)\n",
    "= 0.1 * 0.5 / 0.075\n",
    "= 0.67\n",
    "\n",
    "Therefore, the probability of the product being Type A given the evidence of a defect is 0.67 or 67%. This means that it is more likely that the product is Type A than Type B, given that it has a defect."
   ]
  },
  {
   "cell_type": "markdown",
   "id": "838f3aaa-a03a-4cd4-8154-adaffe6a262b",
   "metadata": {},
   "source": [
    "Q7. Calculate the 95% confidence interval for a sample of data with a mean of 50 and a standard deviation\n",
    "of 5. Interpret the results."
   ]
  },
  {
   "cell_type": "markdown",
   "id": "00375201-bdf7-4dee-8d55-9a605e5dfd42",
   "metadata": {},
   "source": [
    "To calculate the 95% confidence interval for a sample of data with a mean of 50 and a standard deviation of 5, we need to use the formula:\n",
    "\n",
    "CI = x̄ ± z*(σ/√n)\n",
    "\n",
    "where:\n",
    "\n",
    "x̄ is the sample mean (50)\n",
    "σ is the population standard deviation (unknown)\n",
    "n is the sample size (unknown)\n",
    "z is the critical value from the standard normal distribution for the desired level of confidence (95% in this case)\n",
    "Since we do not have information about the population standard deviation or the sample size, we can assume that the sample mean follows a normal distribution, and use the t-distribution with n-1 degrees of freedom to estimate the standard error.\n",
    "\n",
    "The t-distribution table shows that for a 95% confidence interval and n-1 degrees of freedom, the critical value is 2.086.\n",
    "\n",
    "So, we can calculate the confidence interval as follows:\n",
    "\n",
    "CI = x̄ ± t*(s/√n)\n",
    "\n",
    "where:\n",
    "\n",
    "s is the sample standard deviation, which is an estimate of the population standard deviation (5 in this case)\n",
    "t is the critical value from the t-distribution for the desired level of confidence and degrees of freedom\n",
    "Since we do not have information about the sample size, let's assume a sample size of 25 for illustration purposes. Then, the degrees of freedom would be n-1 = 24, and the critical value for a 95% confidence interval would be 2.064 (from the t-distribution table).\n",
    "\n",
    "Plugging in the values, we get:\n",
    "\n",
    "CI = 50 ± 2.064*(5/√25)\n",
    "= 50 ± 2.064*1\n",
    "= [47.87, 52.13]\n",
    "\n",
    "Interpretation:\n",
    "\n",
    "We are 95% confident that the true population mean falls within the range of [47.87, 52.13]. This means that if we were to repeat the sampling process many times, and construct a 95% confidence interval each time, about 95% of the intervals would contain the true population mean. In other words, we can be reasonably sure that the true population mean is between 47.87 and 52.13, based on this sample of data with a mean of 50 and a standard deviation of 5."
   ]
  },
  {
   "cell_type": "markdown",
   "id": "f5bd55ac-e6ea-445b-81d0-6cc9d7e538cd",
   "metadata": {},
   "source": [
    "Q8. What is the margin of error in a confidence interval? How does sample size affect the margin of error?\n",
    "Provide an example of a scenario where a larger sample size would result in a smaller margin of error."
   ]
  },
  {
   "cell_type": "markdown",
   "id": "a8980a8a-c070-4f66-9d11-6f28de9dd434",
   "metadata": {},
   "source": [
    "The margin of error in a confidence interval is a measure of the amount of error we can tolerate in our estimate of the population parameter. It is the distance between the point estimate (such as the sample mean) and the upper or lower bound of the confidence interval.\n",
    "\n",
    "A larger margin of error indicates a larger degree of uncertainty in the estimate, while a smaller margin of error indicates a higher degree of precision. The margin of error is usually expressed as a percentage or a range of values, such as +/- 3% or +/- 0.05.\n",
    "\n",
    "Sample size affects the margin of error in a confidence interval in two ways. First, a larger sample size generally leads to a smaller margin of error, assuming all other factors remain the same. This is because a larger sample size provides more information and reduces the random variability of the sample.\n",
    "\n",
    "Second, the margin of error is inversely proportional to the square root of the sample size (n). This means that as the sample size increases, the margin of error decreases at a decreasing rate. This relationship is described by the following formula:\n",
    "\n",
    "Margin of error = z * (standard deviation / sqrt(n))\n",
    "\n",
    "where z is the critical value from the standard normal distribution for the desired level of confidence.\n",
    "\n",
    "Example scenario:\n",
    "\n",
    "Suppose we want to estimate the proportion of students at a university who have a part-time job. We survey a random sample of 100 students and find that 60 of them have a part-time job.\n",
    "\n",
    "Using a 95% confidence interval, the margin of error for this sample can be calculated as follows:\n",
    "\n",
    "Margin of error = 1.96 * sqrt(0.6 * 0.4 / 100)\n",
    "= 0.098 or 9.8%\n",
    "\n",
    "This means that we can be 95% confident that the true proportion of students who have a part-time job at the university is between 50.2% and 69.8% (60% +/- 9.8%).\n",
    "\n",
    "Now suppose we increase the sample size to 400. Using the same formula, the margin of error would be:\n",
    "\n",
    "Margin of error = 1.96 * sqrt(0.6 * 0.4 / 400)\n",
    "= 0.049 or 4.9%\n",
    "\n",
    "This means that with a larger sample size, we can be more precise in our estimate of the population proportion, and we can be 95% confident that the true proportion of students who have a part-time job at the university is between 55.1% and 64.9% (60% +/- 4.9%)."
   ]
  },
  {
   "cell_type": "markdown",
   "id": "a6b0d211-994f-427f-8fab-c03fcd1e57a7",
   "metadata": {},
   "source": [
    "Q9. Calculate the z-score for a data point with a value of 75, a population mean of 70, and a population\n",
    "standard deviation of 5. Interpret the results."
   ]
  },
  {
   "cell_type": "markdown",
   "id": "1c32851f-a727-40bf-820e-b16a560aa2f3",
   "metadata": {},
   "source": [
    "The z-score, also known as the standard score, measures the number of standard deviations a data point is away from the mean of the population. It is calculated as:\n",
    "\n",
    "z = (x - μ) / σ\n",
    "\n",
    "where x is the value of the data point, μ is the population mean, and σ is the population standard deviation.\n",
    "\n",
    "In this case, the value of the data point is 75, the population mean is 70, and the population standard deviation is 5. Therefore, the z-score can be calculated as follows:\n",
    "\n",
    "z = (75 - 70) / 5\n",
    "= 1\n",
    "\n",
    "This means that the data point of 75 is 1 standard deviation above the mean of the population. In other words, it is higher than the average value of the population by one standard deviation.\n",
    "\n",
    "A z-score of 1 is also associated with a probability of approximately 0.8413 or 84.13% of the data falling below this value in a normal distribution."
   ]
  },
  {
   "cell_type": "markdown",
   "id": "43a73c43-71a1-4f9b-9ff7-e13951ad92cc",
   "metadata": {},
   "source": [
    "Q10. In a study of the effectiveness of a new weight loss drug, a sample of 50 participants lost an average\n",
    "of 6 pounds with a standard deviation of 2.5 pounds. Conduct a hypothesis test to determine if the drug is\n",
    "significantly effective at a 95% confidence level using a t-test."
   ]
  },
  {
   "cell_type": "markdown",
   "id": "cb4541ce-09f5-4e59-9f42-f72cfd47e96f",
   "metadata": {},
   "source": [
    "To conduct a hypothesis test to determine if the weight loss drug is significantly effective at a 95% confidence level, we need to set up the null and alternative hypotheses and determine the test statistic and critical value.\n",
    "\n",
    "Null hypothesis (H0): The drug is not significantly effective and the population mean weight loss is equal to or less than zero (μ <= 0).\n",
    "\n",
    "Alternative hypothesis (Ha): The drug is significantly effective and the population mean weight loss is greater than zero (μ > 0).\n",
    "\n",
    "We will use a one-tailed t-test with a significance level of 0.05. The test statistic can be calculated as:\n",
    "\n",
    "t = (x̄ - μ) / (s / sqrt(n))\n",
    "\n",
    "where x̄ is the sample mean weight loss, μ is the population mean weight loss (assumed to be 0 under the null hypothesis), s is the sample standard deviation, and n is the sample size.\n",
    "\n",
    "Substituting the values given in the problem, we get:\n",
    "\n",
    "t = (6 - 0) / (2.5 / sqrt(50))\n",
    "= 13.42\n",
    "\n",
    "Using a t-distribution table or a t-distribution calculator with 49 degrees of freedom (df = n - 1), we find the critical value for a one-tailed test with a significance level of 0.05 to be 1.676.\n",
    "\n",
    "Since our calculated t-value (13.42) is greater than the critical value (1.676), we reject the null hypothesis and conclude that the weight loss drug is significantly effective at a 95% confidence level. This means that we can be 95% confident that the true population mean weight loss with the drug is greater than zero"
   ]
  },
  {
   "cell_type": "markdown",
   "id": "360d3b7d-be19-4e2b-8da7-9fed5891cca4",
   "metadata": {},
   "source": [
    "Q11. In a survey of 500 people, 65% reported being satisfied with their current job. Calculate the 95%\n",
    "confidence interval for the true proportion of people who are satisfied with their job."
   ]
  },
  {
   "cell_type": "markdown",
   "id": "8d5edfe5-9d08-498b-adc3-16c0ffdbf94d",
   "metadata": {},
   "source": [
    "To calculate the 95% confidence interval for the true proportion of people who are satisfied with their job, we can use the following formula:\n",
    "\n",
    "CI = p ± z*(sqrt(p*(1-p)/n))\n",
    "\n",
    "where p is the sample proportion, z is the z-score corresponding to the desired confidence level (95% in this case), and n is the sample size.\n",
    "\n",
    "Substituting the values given in the problem, we get:\n",
    "\n",
    "CI = 0.65 ± 1.96*(sqrt(0.65*(1-0.65)/500))\n",
    "= 0.65 ± 0.0403\n",
    "= (0.6097, 0.6903)\n",
    "\n",
    "The 95% confidence interval for the true proportion of people who are satisfied with their job is (0.6097, 0.6903). This means that we can be 95% confident that the true proportion of people who are satisfied with their job lies between 60.97% and 69.03%."
   ]
  },
  {
   "cell_type": "markdown",
   "id": "e54f5d68-54e7-45de-8c38-272c92576426",
   "metadata": {},
   "source": [
    "Q12. A researcher is testing the effectiveness of two different teaching methods on student performance.\n",
    "Sample A has a mean score of 85 with a standard deviation of 6, while sample B has a mean score of 82\n",
    "with a standard deviation of 5. Conduct a hypothesis test to determine if the two teaching methods have a\n",
    "significant difference in student performance using a t-test with a significance level of 0.01."
   ]
  },
  {
   "cell_type": "markdown",
   "id": "bfdd375e-7d64-49f6-98d4-e98c265bd668",
   "metadata": {},
   "source": [
    "To conduct a hypothesis test to determine if the two teaching methods have a significant difference in student performance using a t-test with a significance level of 0.01, we need to set up the null and alternative hypotheses and determine the test statistic and critical value.\n",
    "\n",
    "Null hypothesis (H0): The two teaching methods do not have a significant difference in student performance (μA = μB).\n",
    "\n",
    "Alternative hypothesis (Ha): The two teaching methods have a significant difference in student performance (μA ≠ μB).\n",
    "\n",
    "We will use a two-tailed t-test with a significance level of 0.01. The test statistic can be calculated as:\n",
    "\n",
    "t = (x̄A - x̄B) / sqrt((sA^2 / nA) + (sB^2 / nB))\n",
    "\n",
    "where x̄A and x̄B are the sample means, sA and sB are the sample standard deviations, and nA and nB are the sample sizes.\n",
    "\n",
    "Substituting the values given in the problem, we get:\n",
    "\n",
    "t = (85 - 82) / sqrt((6^2 / 50) + (5^2 / 50))\n",
    "= 2.174\n",
    "\n",
    "Using a t-distribution table or a t-distribution calculator with 98 degrees of freedom (df = (nA + nB) - 2), we find the critical value for a two-tailed test with a significance level of 0.01 to be ±2.602.\n",
    "\n",
    "Since our calculated t-value (2.174) is less than the critical value (-2.602 or 2.602), we fail to reject the null hypothesis and conclude that there is not enough evidence to suggest that the two teaching methods have a significant difference in student performance at a 99% confidence level."
   ]
  },
  {
   "cell_type": "markdown",
   "id": "5e19a566-7567-47a9-89e9-2018ba4d8678",
   "metadata": {},
   "source": [
    "Q13. A population has a mean of 60 and a standard deviation of 8. A sample of 50 observations has a mean\n",
    "of 65. Calculate the 90% confidence interval for the true population mean."
   ]
  },
  {
   "cell_type": "markdown",
   "id": "d5a708a1-2573-475b-adaf-f0eb11ad7606",
   "metadata": {},
   "source": [
    "To calculate the 90% confidence interval for the true population mean, we can use the following formula:\n",
    "\n",
    "CI = x̄ ± z*(σ/√n)\n",
    "\n",
    "where x̄ is the sample mean, σ is the population standard deviation, n is the sample size, and z is the z-score corresponding to the desired confidence level (90% in this case).\n",
    "\n",
    "Substituting the values given in the problem, we get:\n",
    "\n",
    "CI = 65 ± 1.645*(8/√50)\n",
    "= 65 ± 1.8605\n",
    "= (63.1395, 66.8605)\n",
    "\n",
    "The 90% confidence interval for the true population mean is (63.1395, 66.8605). This means that we can be 90% confident that the true population mean lies between 63.1395 and 66.8605."
   ]
  },
  {
   "cell_type": "markdown",
   "id": "7b81849e-678f-467e-b1ce-3a123628c691",
   "metadata": {},
   "source": [
    "Q14. In a study of the effects of caffeine on reaction time, a sample of 30 participants had an average\n",
    "reaction time of 0.25 seconds with a standard deviation of 0.05 seconds. Conduct a hypothesis test to\n",
    "determine if the caffeine has a significant effect on reaction time at a 90% confidence level using a t-test."
   ]
  },
  {
   "cell_type": "markdown",
   "id": "86455d69-ac0d-43bf-a6a9-9003e4113103",
   "metadata": {},
   "source": [
    "To conduct a hypothesis test to determine if caffeine has a significant effect on reaction time at a 90% confidence level using a t-test, we need to set up the null and alternative hypotheses and determine the test statistic and critical value.\n",
    "\n",
    "Null hypothesis (H0): Caffeine does not have a significant effect on reaction time (μ = 0.3 seconds).\n",
    "\n",
    "Alternative hypothesis (Ha): Caffeine has a significant effect on reaction time (μ < 0.3 seconds).\n",
    "\n",
    "We will use a one-tailed t-test with a significance level of 0.10 (90% confidence level). The test statistic can be calculated as:\n",
    "\n",
    "t = (x̄ - μ) / (s / sqrt(n))\n",
    "\n",
    "where x̄ is the sample mean, μ is the hypothesized population mean, s is the sample standard deviation, and n is the sample size.\n",
    "\n",
    "Substituting the values given in the problem, we get:\n",
    "\n",
    "t = (0.25 - 0.3) / (0.05 / sqrt(30))\n",
    "= -2.12\n",
    "\n",
    "Using a t-distribution table or a t-distribution calculator with 29 degrees of freedom (df = n - 1), we find the critical value for a one-tailed test with a significance level of 0.10 to be -1.311.\n",
    "\n",
    "Since our calculated t-value (-2.12) is less than the critical value (-1.311), we reject the null hypothesis and conclude that caffeine has a significant effect on reaction time at a 90% confidence level."
   ]
  }
 ],
 "metadata": {
  "kernelspec": {
   "display_name": "Python 3 (ipykernel)",
   "language": "python",
   "name": "python3"
  },
  "language_info": {
   "codemirror_mode": {
    "name": "ipython",
    "version": 3
   },
   "file_extension": ".py",
   "mimetype": "text/x-python",
   "name": "python",
   "nbconvert_exporter": "python",
   "pygments_lexer": "ipython3",
   "version": "3.10.8"
  }
 },
 "nbformat": 4,
 "nbformat_minor": 5
}
