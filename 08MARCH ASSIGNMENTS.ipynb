{
 "cells": [
  {
   "cell_type": "markdown",
   "id": "76f47a72-a332-411e-98d6-0abf332e9040",
   "metadata": {},
   "source": [
    "Q1. What is the Probability density function?\n",
    "\n",
    "Ans. A probability density function (PDF) is a way to describe the likelihood of a random variable taking on different values. Think of a random variable as a quantity that can vary randomly, like the height of a person or the temperature outside. The PDF tells us the probability that the random variable falls within a particular range of values. "
   ]
  },
  {
   "cell_type": "markdown",
   "id": "6cf29934-6b84-48bf-a28c-06efdca46d03",
   "metadata": {},
   "source": [
    "Q2. What are the types of Probability distribution?\n",
    "\n",
    "Ans.There are several types of probability distributions, each with its own characteristics and applications. Some of the most common types include:\n",
    "\n",
    "Binomial distribution: used for describing the number of successes in a fixed number of trials, where each trial has two possible outcomes (success or failure).\n",
    "\n",
    "Poisson distribution: used for describing the number of rare events that occur in a fixed time or space interval.\n",
    "\n",
    "Normal distribution: also known as the Gaussian distribution, is used to describe continuous data that is symmetric and bell-shaped. It is widely used in statistics and probability theory.\n",
    "\n",
    "Exponential distribution: used for describing the time between events that occur randomly and independently of each other.\n",
    "\n",
    "Gamma distribution: used for modeling the time required for a certain number of events to occur in a fixed interval.\n",
    "\n",
    "Uniform distribution: used for describing events that are equally likely to occur over a range of values.\n",
    "\n",
    "Bernoulli distribution: used to model events with only two possible outcomes, typically labeled as \"success\" and \"failure.\""
   ]
  },
  {
   "cell_type": "markdown",
   "id": "1ec7f8ad-cc96-4759-8142-00ec853036ae",
   "metadata": {},
   "source": [
    "Q3. Write a Python function to calculate the probability density function of a normal distribution with\n",
    "given mean and standard deviation at a given point."
   ]
  },
  {
   "cell_type": "code",
   "execution_count": 4,
   "id": "33c1076e-caaf-4ab8-a455-dff0bdb7f52d",
   "metadata": {},
   "outputs": [],
   "source": [
    "import numpy as np\n",
    "import math\n",
    "\n",
    "def normal_pdf(x, mean, std_dev):\n",
    "    \"\"\"\n",
    "    Calculates the probability density function of a normal distribution with given mean and standard deviation at a given point.\n",
    "    \n",
    "    Args:\n",
    "    x (float): The point at which to calculate the probability density function\n",
    "    mean (float): The mean of the normal distribution\n",
    "    std_dev (float): The standard deviation of the normal distribution\n",
    "    \n",
    "    Returns:\n",
    "    float: The value of the probability density function at the given point\n",
    "    \"\"\"\n",
    "    exponent = -((x - mean) ** 2) / (2 * std_dev ** 2)\n",
    "    denominator = std_dev * math.sqrt(2 * math.pi)\n",
    "    return (1 / denominator) * math.exp(exponent)\n"
   ]
  },
  {
   "cell_type": "markdown",
   "id": "cf96a144-6259-4f38-9d79-7dfffa409790",
   "metadata": {},
   "source": [
    "Q4. What are the properties of Binomial distribution? Give two examples of events where binomial\n",
    "distribution can be applied.\n",
    "\n",
    "Ans.The binomial distribution is a type of probability distribution that describes the number of successes in a fixed number of independent trials, where each trial has only two possible outcomes (success or failure). The following are some of the properties of the binomial distribution:\n",
    "\n",
    "The number of trials is fixed (denoted as n).\n",
    "Each trial is independent of the others.\n",
    "The probability of success on each trial is constant (denoted as p).\n",
    "The probability of failure on each trial is 1 - p.\n",
    "The random variable X represents the number of successes in n trials.\n",
    "The mean of the binomial distribution is μ = np.\n",
    "The variance of the binomial distribution is σ^2 = np(1 - p).\n",
    "The shape of the binomial distribution is heavily influenced by the value of p, with distributions becoming more symmetrical as p approaches 0.5.\n",
    "Two examples of events where the binomial distribution can be applied are:\n",
    "\n",
    "Tossing a coin: If you flip a coin a fixed number of times (e.g., 10 times), the number of heads you get follows a binomial distribution, with p = 0.5 (assuming a fair coin).\n",
    "\n",
    "Quality control: If you are inspecting a batch of products and testing each item for a certain quality standard, the number of items that pass the test out of a fixed number of items tested can be modeled with a binomial distribution, where p is the probability of an item passing the test. For example, if you test 100 light bulbs and the probability of a bulb passing the test is 0.95, the number of bulbs that pass the test follows a binomial distribution with p = 0.95."
   ]
  },
  {
   "cell_type": "markdown",
   "id": "d47ae658-46e9-4401-99ed-e29760688ff2",
   "metadata": {},
   "source": [
    "Q5. Generate a random sample of size 1000 from a binomial distribution with probability of success 0.4\n",
    "and plot a histogram of the results using matplotlib."
   ]
  },
  {
   "cell_type": "code",
   "execution_count": 4,
   "id": "e41a7ef5-dd93-465a-8df2-c3040e7b97df",
   "metadata": {},
   "outputs": [
    {
     "data": {
      "image/png": "[encoded data removed]",
      "text/plain": [
       "<Figure size 640x480 with 1 Axes>"
      ]
     },
     "metadata": {},
     "output_type": "display_data"
    }
   ],
   "source": [
    "import numpy as np\n",
    "import matplotlib.pyplot as plt\n",
    "n=1000\n",
    "p=0.4\n",
    "sample=np.random.binomial(n,p,size=n)\n",
    "plt.hist(sample)\n",
    "plt.xlabel('Number of Success')\n",
    "plt.ylabel('Probability density')\n",
    "plt.title(f'Binomial Distribution of (n={n},p={p})')\n",
    "plt.show()"
   ]
  },
  {
   "cell_type": "markdown",
   "id": "ffb6cc5b-2dee-41b4-9c66-1a5f32be86aa",
   "metadata": {},
   "source": [
    "Q6. Write a Python function to calculate the cumulative distribution function of a Poisson distribution\n",
    "with given mean at a given point."
   ]
  },
  {
   "cell_type": "code",
   "execution_count": 1,
   "id": "23588e24-32a3-44de-ac52-945a9f7859e8",
   "metadata": {},
   "outputs": [],
   "source": [
    "import math\n",
    "\n",
    "def poisson_cdf(mean, point):\n",
    "    \"\"\"Calculate the cumulative distribution function of a Poisson distribution\n",
    "    with a given mean at a given point.\n",
    "\n",
    "    Args:\n",
    "        mean (float): The mean of the Poisson distribution.\n",
    "        point (int): The point at which to evaluate the cumulative distribution function.\n",
    "\n",
    "    Returns:\n",
    "        float: The value of the cumulative distribution function at the given point.\n",
    "    \"\"\"\n",
    "    cdf = 0.0\n",
    "    for k in range(point+1):\n",
    "        cdf += (math.exp(-mean) * (mean**k)) / math.factorial(k)\n",
    "    return cdf\n"
   ]
  },
  {
   "cell_type": "code",
   "execution_count": 2,
   "id": "bc4057c7-eb99-4c0f-b44b-fb40bb7ca082",
   "metadata": {},
   "outputs": [
    {
     "data": {
      "text/plain": [
       "0.9160820579686966"
      ]
     },
     "execution_count": 2,
     "metadata": {},
     "output_type": "execute_result"
    }
   ],
   "source": [
    "poisson_cdf(3, 5)"
   ]
  },
  {
   "cell_type": "markdown",
   "id": "5b21afbf-63fa-44c5-982f-ab7821783708",
   "metadata": {},
   "source": [
    "Q7. How Binomial distribution different from Poisson distribution?\n",
    "\n",
    "Ans.Binomial and Poisson distributions are both discrete probability distributions that deal with the count of events, but they have some differences:\n",
    "\n",
    "Definition and Assumptions: Binomial distribution is used when there are a fixed number of independent trials with two possible outcomes, success or failure. Each trial has the same probability of success, and the trials are assumed to be independent. On the other hand, the Poisson distribution is used to model the number of events occurring in a fixed interval of time or space. The events are assumed to occur independently, but the average rate of occurrence can vary.\n",
    "\n",
    "Parameters: Binomial distribution has two parameters, the number of trials n and the probability of success p. Poisson distribution has one parameter, the average rate of occurrence λ.\n",
    "\n",
    "Probability mass function: In the binomial distribution, the probability mass function is given by P(X = k) = (n choose k) * p^k * (1-p)^(n-k), where n is the number of trials, k is the number of successes, and p is the probability of success. In the Poisson distribution, the probability mass function is given by P(X = k) = (λ^k * e^(-λ)) / k!, where λ is the average rate of occurrence, and k is the number of events.\n",
    "\n",
    "Mean and Variance: In the binomial distribution, the mean is np and the variance is np(1-p). In the Poisson distribution, the mean and variance are both λ.\n",
    "\n",
    "Applicability: Binomial distribution is applicable when there are a fixed number of independent trials with two possible outcomes. Poisson distribution is applicable when the events occur independently, but the average rate of occurrence can vary, and the occurrence of one event does not affect the occurrence of other events.\n",
    "\n",
    "In summary, Binomial distribution deals with the count of events in a fixed number of independent trials with two possible outcomes, while Poisson distribution deals with the count of events occurring in a fixed interval of time or space, and the occurrence of events is assumed to be independent."
   ]
  },
  {
   "cell_type": "markdown",
   "id": "e6e951cb-f191-4929-8390-3223322d39dd",
   "metadata": {},
   "source": [
    "Q8. Generate a random sample of size 1000 from a Poisson distribution with mean 5 and calculate the\n",
    "sample mean and variance."
   ]
  },
  {
   "cell_type": "code",
   "execution_count": 3,
   "id": "6846c3e7-a429-46c2-9af3-b12d270c1ee4",
   "metadata": {},
   "outputs": [
    {
     "name": "stdout",
     "output_type": "stream",
     "text": [
      "Sample Mean:  5.022\n",
      "Sample Variance:  5.073516\n"
     ]
    }
   ],
   "source": [
    "import numpy as np\n",
    "\n",
    "# Set the mean of the Poisson distribution\n",
    "mean = 5\n",
    "\n",
    "# Generate a random sample of size 1000 from the Poisson distribution\n",
    "sample = np.random.poisson(mean, size=1000)\n",
    "\n",
    "# Calculate the sample mean and variance\n",
    "sample_mean = np.mean(sample)\n",
    "sample_var = np.var(sample)\n",
    "\n",
    "print(\"Sample Mean: \", sample_mean)\n",
    "print(\"Sample Variance: \", sample_var)\n"
   ]
  },
  {
   "cell_type": "markdown",
   "id": "471082f8-0ca4-47c8-8428-1f334e9fade7",
   "metadata": {},
   "source": [
    "Q9. How mean and variance are related in Binomial distribution and Poisson distribution?\n",
    "\n",
    "Ans.In the Binomial distribution, the mean and variance are related by the formula:\n",
    "mean = np\n",
    "variance = np(1-p)\n",
    "where n is the number of trials, p is the probability of success in each trial, mean is the mean of the distribution, and variance is the variance of the distribution.\n",
    "\n",
    "In the Poisson distribution, the mean and variance are related by the formula:\n",
    "mean = λ\n",
    "variance = λ\n",
    "where λ is the average rate of occurrence, mean is the mean of the distribution, and variance is the variance of the distribution.\n",
    "\n",
    "In both cases, the variance is a function of the mean. This means that as the mean changes, the variance changes proportionally. For example, in the Poisson distribution, if the average rate of occurrence increases, the variance also increases by the same amount.\n",
    "\n",
    "However, the relationship between the mean and variance is different in the Binomial and Poisson distributions. In the Binomial distribution, the variance depends on both the number of trials and the probability of success, while in the Poisson distribution, the variance depends only on the average rate of occurrence. Additionally, the variance of the Poisson distribution is equal to its mean, which is a unique property of the Poisson distribution."
   ]
  },
  {
   "cell_type": "markdown",
   "id": "b1e7e55d-e670-463f-a300-ea100b314994",
   "metadata": {},
   "source": [
    "Q10. In normal distribution with respect to mean position, where does the least frequent data appear?\n",
    "\n",
    "Ans.In a normal distribution, the least frequent data appears at the two tails of the distribution, which are the extreme values furthest away from the mean.\n",
    "\n",
    "The normal distribution is a bell-shaped curve, with the mean at the center of the curve. The frequency of data decreases as we move away from the mean in either direction, and the least frequent data points are found at the tails of the distribution.\n",
    "\n",
    "For example, consider a normal distribution with mean μ = 50 and standard deviation σ = 10. The least frequent data points would be found at the extreme values of the distribution, which are more than 3 standard deviations away from the mean, that is, at values less than 20 or greater than 80. These values are in the tails of the distribution, where the frequency of data is lowest."
   ]
  }
 ],
 "metadata": {
  "kernelspec": {
   "display_name": "Python 3 (ipykernel)",
   "language": "python",
   "name": "python3"
  },
  "language_info": {
   "codemirror_mode": {
    "name": "ipython",
    "version": 3
   },
   "file_extension": ".py",
   "mimetype": "text/x-python",
   "name": "python",
   "nbconvert_exporter": "python",
   "pygments_lexer": "ipython3",
   "version": "3.10.8"
  }
 },
 "nbformat": 4,
 "nbformat_minor": 5
}
