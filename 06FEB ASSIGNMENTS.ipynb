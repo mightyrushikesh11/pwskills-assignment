{
 "cells": [
  {
   "cell_type": "markdown",
   "id": "24d59799-bc68-40ab-86ed-4272123760e8",
   "metadata": {},
   "source": [
    "Q1. Create a function which will take a list as an argument and return the product of all the numbers \n",
    "after creating a flat list.\n",
    "\n",
    "Use the below-given list as an argument for your function.\n",
    "\n",
    "\n",
    "list1 = [1,2,3,4, [44,55,66, True], False, (34,56,78,89,34), {1,2,3,3,2,1}, {1:34, \"key2\": [55, 67, 78, 89], 4: (45, \n",
    "22, 61, 34)}, [56, 'data science'], 'Machine Learning']\n",
    "\n",
    "\n",
    "Note: you must extract numeric keys and values of the dictionary also."
   ]
  },
  {
   "cell_type": "code",
   "execution_count": 2,
   "id": "7be136e2-7980-43e2-b0df-cb61a90074c5",
   "metadata": {},
   "outputs": [],
   "source": [
    "list1 = [1,2,3,4, [44,55,66, True], False, (34,56,78,89,34), {1,2,3,3,2,1}, {1:34, \"key2\": [55, 67, 78, 89], 4: (45, \n",
    "22, 61, 34)}, [56, 'data science'], 'Machine Learning']"
   ]
  },
  {
   "cell_type": "code",
   "execution_count": 96,
   "id": "22182538-ca6a-44ba-84c9-c2480947d057",
   "metadata": {},
   "outputs": [
    {
     "name": "stdout",
     "output_type": "stream",
     "text": [
      "[1, 2, 3, 4]\n",
      "[1, 2, 3, 4, 44, 55, 66, 56]\n",
      "[1, 2, 3, 4, 44, 55, 66, 56, 34, 56, 78, 89, 34]\n",
      "[1, 2, 3, 4, 44, 55, 66, 56, 34, 56, 78, 89, 34, 1, 2, 3]\n",
      "{1: 34, 'key2': [55, 67, 78, 89], 4: (45, 22, 61, 34)}\n",
      "[1, 'key2', 4]\n",
      "[34, [55, 67, 78, 89], (45, 22, 61, 34)]\n",
      "[1, 2, 3, 4, 44, 55, 66, 56, 34, 56, 78, 89, 34, 1, 2, 3, 1, 4, 34, 55, 67, 78, 89, 45, 22, 61, 34]\n",
      "The total product of the list item is  4134711838987085478833841242112000\n"
     ]
    }
   ],
   "source": [
    "l=[]\n",
    "for i in l1:\n",
    "    if type(i)==int:\n",
    "        l.append(i)\n",
    "print(l)# just to know the output\n",
    "for i in l1:\n",
    "    if type(i)==list:\n",
    "        for j in i:\n",
    "            if type(j)==int:\n",
    "                l.append(j)\n",
    "print(l) # just to know the output\n",
    "for i in l1:\n",
    "    if type(i)==tuple:\n",
    "        for j in i:\n",
    "            if type(j)==int:\n",
    "                l.append(j)\n",
    "print(l) # just to know the output\n",
    "for i in l1:\n",
    "    if type(i)==set:\n",
    "        for j in i:\n",
    "            if type(j)==int:\n",
    "                l.append(j)\n",
    "print(l)# just to know the output\n",
    "\n",
    "for i in l1:\n",
    "    if type(i)==dict: \n",
    "        a=i\n",
    "        print(a)\n",
    "        b=list(a.keys())\n",
    "        print(b)# just to know the output\n",
    "        for j in b:\n",
    "            if type(j)==int:\n",
    "                l.append(j)\n",
    "        v=list(a.values())\n",
    "        print(v)# just to know the output\n",
    "        for k in v:\n",
    "            if type(k)==int:\n",
    "                l.append(k)\n",
    "            if type (k)==list:\n",
    "                for m in k:\n",
    "                    if type(m)==int:\n",
    "                        l.append(m)\n",
    "\n",
    "            if type (k)==tuple:\n",
    "                for n in k:\n",
    "                    if type(n)==int:\n",
    "                        l.append(n)        \n",
    "print(l)\n",
    "p=1\n",
    "for z in l:\n",
    "    p=p*z\n",
    "    \n",
    "print('The total product of the list item is ',p)    "
   ]
  },
  {
   "cell_type": "markdown",
   "id": "7e6ab8f9-e0d7-48ca-840e-9eb6e1c66d22",
   "metadata": {},
   "source": [
    "Q2. Write a python program for encrypting a message sent to you by your friend. The logic of encryption \n",
    "should be such that, for a the output should be z. For b, the output should be y. For c, the output should \n",
    "be x respectively. Also, the whitespace should be replaced with a dollar sign. Keep the punctuation \n",
    "marks unchanged.\n",
    "\n",
    "\n",
    "Input Sentence: I want to become a Data Scientist.\n",
    "\n",
    "\n",
    "Encrypt the above input sentence using the program you just created.\n",
    "\n",
    "\n",
    "Note: Convert the given input sentence into lowercase before encrypting. The final output should be \n",
    "lowercase."
   ]
  },
  {
   "cell_type": "code",
   "execution_count": 12,
   "id": "5822fa50-e140-44a0-9103-40b5f90b1441",
   "metadata": {},
   "outputs": [
    {
     "name": "stdout",
     "output_type": "stream",
     "text": [
      "97\n",
      "122\n",
      "a\n",
      "z\n"
     ]
    }
   ],
   "source": [
    "print(ord('a'))\n",
    "print(ord('z'))\n",
    "print(chr(97))\n",
    "print(chr(122))"
   ]
  },
  {
   "cell_type": "code",
   "execution_count": 21,
   "id": "a679145f-5219-4cd4-a01a-db7092a1f344",
   "metadata": {},
   "outputs": [
    {
     "name": "stdout",
     "output_type": "stream",
     "text": [
      "['a', 'b', 'c', 'd', 'e', 'f', 'g', 'h', 'i', 'j', 'k', 'l', 'm', 'n', 'o', 'p', 'q', 'r', 's', 't', 'u', 'v', 'w', 'x', 'y', 'z']\n",
      "['z', 'y', 'x', 'w', 'v', 'u', 't', 's', 'r', 'q', 'p', 'o', 'n', 'm', 'l', 'k', 'j', 'i', 'h', 'g', 'f', 'e', 'd', 'c', 'b', 'a']\n"
     ]
    },
    {
     "name": "stdin",
     "output_type": "stream",
     "text": [
      "Enter the sentence for encryption I want to become a data scientist\n"
     ]
    },
    {
     "name": "stdout",
     "output_type": "stream",
     "text": [
      "i want to become a data scientist\n",
      "['r', '$', 'd', 'z', 'm', 'g', '$', 'g', 'l', '$', 'y', 'v', 'x', 'l', 'n', 'v', '$', 'z', '$', 'w', 'z', 'g', 'z', '$', 'h', 'x', 'r', 'v', 'm', 'g', 'r', 'h', 'g']\n",
      "r$dzmg$gl$yvxlnv$z$wzgz$hxrvmgrhg\n"
     ]
    }
   ],
   "source": [
    "forward=[]\n",
    "reverse=[]\n",
    "for i in range(97,123):\n",
    "    forward.append(chr(i))\n",
    "print(forward) #just to know the output\n",
    "for j in range(122,96,-1):\n",
    "    reverse.append(chr(j))\n",
    "print(reverse)#just to know the output\n",
    "\n",
    "input_sentence=input('Enter the sentence for encryption')\n",
    "a=input_sentence.lower()\n",
    "print(a)#just to know the output\n",
    "Emssg=[]\n",
    "for k in a:\n",
    "    if k==' ':\n",
    "        Emssg.append('$')\n",
    "# print(Emssg) #just to know the output       \n",
    "    else:\n",
    "        Emssg.append(reverse[forward.index(str(k))])\n",
    "print(Emssg)#just to know the output        \n",
    "print(''.join(Emssg)) #Final encrypted message       \n"
   ]
  },
  {
   "cell_type": "code",
   "execution_count": null,
   "id": "54e100bc-148a-4377-8298-79ce64d6b627",
   "metadata": {},
   "outputs": [],
   "source": []
  }
 ],
 "metadata": {
  "kernelspec": {
   "display_name": "Python 3 (ipykernel)",
   "language": "python",
   "name": "python3"
  },
  "language_info": {
   "codemirror_mode": {
    "name": "ipython",
    "version": 3
   },
   "file_extension": ".py",
   "mimetype": "text/x-python",
   "name": "python",
   "nbconvert_exporter": "python",
   "pygments_lexer": "ipython3",
   "version": "3.10.8"
  }
 },
 "nbformat": 4,
 "nbformat_minor": 5
}
