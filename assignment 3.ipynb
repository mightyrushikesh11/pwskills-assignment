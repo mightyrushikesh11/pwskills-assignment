{
 "cells": [
  {
   "cell_type": "markdown",
   "id": "597d06d2-b1e1-4aee-87b6-806e51a84a3a",
   "metadata": {},
   "source": [
    "Q1. Create a python program to sort the given list of tuples based on integer value using a\n",
    "lambda function."
   ]
  },
  {
   "cell_type": "code",
   "execution_count": 1,
   "id": "f9be9231-8d29-4175-ba9f-5cb5d858595c",
   "metadata": {},
   "outputs": [
    {
     "name": "stdout",
     "output_type": "stream",
     "text": [
      "[(1, 'orange'), (2, 'peach'), (3, 'banana'), (4, 'apple')]\n"
     ]
    }
   ],
   "source": [
    "# List of tuples\n",
    "my_list = [('Sachin Tendulkar', 34357), ('Ricky Ponting', 27483), ('Jack Kallis', 25534), ('Virat Kohli', 24936)]\n",
    "\n",
    "# Sort the list of tuples based on integer value\n",
    "sorted_list = sorted(my_list, key=lambda x: x[1], reverse=True)\n",
    "\n",
    "# Print the sorted list of tuples\n",
    "print(sorted_list)\n"
   ]
  },
  {
   "cell_type": "markdown",
   "id": "e1aa3eb5-0a6c-49e6-b611-bb6d37f397f8",
   "metadata": {},
   "source": [
    "Write a Python Program to find the squares of all the numbers in the given list of integers using\n",
    "lambda and map functions.\n",
    "[1, 2, 3, 4, 5, 6, 7, 8, 9, 10]"
   ]
  },
  {
   "cell_type": "code",
   "execution_count": 1,
   "id": "9ea3aaa6-d168-471b-8e6f-33c97b6ddc15",
   "metadata": {},
   "outputs": [
    {
     "name": "stdout",
     "output_type": "stream",
     "text": [
      "[1, 4, 9, 16, 25, 36, 49, 64, 81, 100]\n"
     ]
    }
   ],
   "source": [
    "numbers = [1, 2, 3, 4, 5, 6, 7, 8, 9, 10]\n",
    "\n",
    "squares = list(map(lambda x: x ** 2, numbers))\n",
    "\n",
    "print(squares)\n"
   ]
  },
  {
   "cell_type": "markdown",
   "id": "0b7948c0-2871-4bbd-978b-c6d1879a8b47",
   "metadata": {},
   "source": [
    "In this program, we first define a list of integers called numbers. We then use the map function along with a lambda function to calculate the square of each number in the list. The lambda function takes a single argument x and returns x ** 2, which is the square of x.\n",
    "\n",
    "The map function applies the lambda function to each element of the numbers list, resulting in a new list of squares. We then convert this new list to a Python list using the list() function and store it in the squares variable. Finally, we print the squares list to the console, which contains the squares of all the numbers in the original list."
   ]
  },
  {
   "cell_type": "markdown",
   "id": "c0a7e0f5-366b-44c0-ac2c-b291f0fdde88",
   "metadata": {},
   "source": [
    "Q3. Write a python program to convert the given list of integers into a tuple of strings. Use map and\n",
    "lambda functions\n",
    "Given String: [1, 2, 3, 4, 5, 6, 7, 8, 9, 10]\n",
    "Expected output: ('1', '2', '3', '4', '5', '6', '7', '8', '9', '10')"
   ]
  },
  {
   "cell_type": "code",
   "execution_count": 2,
   "id": "9392a905-2bf8-46f6-8258-505062fac411",
   "metadata": {},
   "outputs": [
    {
     "name": "stdout",
     "output_type": "stream",
     "text": [
      "('1', '2', '3', '4', '5', '6', '7', '8', '9', '10')\n"
     ]
    }
   ],
   "source": [
    "numbers = [1, 2, 3, 4, 5, 6, 7, 8, 9, 10]\n",
    "\n",
    "strings = tuple(map(lambda x: str(x), numbers))\n",
    "\n",
    "print(strings)\n"
   ]
  },
  {
   "cell_type": "markdown",
   "id": "96bfa195-4b26-4d78-a092-5573d86b35d2",
   "metadata": {},
   "source": [
    "In this program, we first define a list of integers called numbers. We then use the map function along with a lambda function to convert each number in the list to a string. The lambda function takes a single argument x and returns str(x), which is the string representation of x.\n",
    "\n",
    "The map function applies the lambda function to each element of the numbers list, resulting in a new list of strings. We then convert this new list to a Python tuple using the tuple() function and store it in the strings variable. Finally, we print the strings tuple to the console, which contains the string representations of all the numbers in the original list."
   ]
  },
  {
   "cell_type": "markdown",
   "id": "4d5e961a-9386-4565-afed-1549680707f8",
   "metadata": {},
   "source": [
    "Q4) Write a python program using reduce function to compute the product of a list containing numbers\n",
    "from 1 to 25."
   ]
  },
  {
   "cell_type": "code",
   "execution_count": 3,
   "id": "5de3a320-bef4-4715-aa8d-054841425906",
   "metadata": {},
   "outputs": [
    {
     "name": "stdout",
     "output_type": "stream",
     "text": [
      "15511210043330985984000000\n"
     ]
    }
   ],
   "source": [
    "from functools import reduce\n",
    "\n",
    "numbers = list(range(1, 26)) # create a list of numbers from 1 to 25\n",
    "product = reduce(lambda x, y: x*y, numbers) # compute the product using reduce\n",
    "\n",
    "print(product) # output the result\n"
   ]
  },
  {
   "cell_type": "markdown",
   "id": "f20c5200-345d-4b06-8b78-9dc918eda6c0",
   "metadata": {},
   "source": [
    "The reduce() function takes two arguments: a function that specifies how to combine two elements in the list, and the list itself. In this case, the lambda function lambda x, y: x*y specifies that we should multiply the two elements x and y together, and numbers is the list of numbers to be multiplied.\n",
    "\n",
    "The reduce() function applies the lambda function to the first two elements of the list, then to the result and the next element, and so on, until all the elements have been processed. The final result is the product of all the numbers in the list, which is printed to the console."
   ]
  },
  {
   "cell_type": "markdown",
   "id": "84359832-52b8-4afe-8214-21e125cf1eba",
   "metadata": {},
   "source": [
    "Q5. Write a python program to filter the numbers in a given list that are divisible by 2 and 3 using the\n",
    "filter function.\n",
    "[2, 3, 6, 9, 27, 60, 90, 120, 55, 46]"
   ]
  },
  {
   "cell_type": "code",
   "execution_count": 4,
   "id": "c20d3176-73f2-40de-9fe4-5cca7e8da8ad",
   "metadata": {},
   "outputs": [
    {
     "name": "stdout",
     "output_type": "stream",
     "text": [
      "[6, 60, 90, 120]\n"
     ]
    }
   ],
   "source": [
    "numbers = [2, 3, 6, 9, 27, 60, 90, 120, 55, 46]\n",
    "\n",
    "divisible_by_2_and_3 = list(filter(lambda x: x % 2 == 0 and x % 3 == 0, numbers))\n",
    "\n",
    "print(divisible_by_2_and_3)\n"
   ]
  },
  {
   "cell_type": "markdown",
   "id": "9a55020d-c585-4214-bf08-1952afb319e8",
   "metadata": {},
   "source": [
    "The filter() function takes two arguments: a function that specifies the filtering condition, and the list itself. In this case, the lambda function lambda x: x % 2 == 0 and x % 3 == 0 specifies that we want to filter the numbers that are divisible by both 2 and 3, and numbers is the list of numbers to be filtered.\n",
    "\n",
    "The filter() function applies the lambda function to each element of the list, and returns a new list that contains only the elements that satisfy the filtering condition. The resulting list, which contains the numbers in the original list that are divisible by both 2 and 3, is printed to the console."
   ]
  },
  {
   "cell_type": "markdown",
   "id": "0586c29b-d4e8-48b5-be1b-d27d229473b2",
   "metadata": {},
   "source": [
    "Write a python program to find palindromes in the given list of strings using lambda and filter\n",
    "function.\n",
    "['python', 'php', 'aba', 'radar', 'level']"
   ]
  }
 ],
 "metadata": {
  "kernelspec": {
   "display_name": "Python 3 (ipykernel)",
   "language": "python",
   "name": "python3"
  },
  "language_info": {
   "codemirror_mode": {
    "name": "ipython",
    "version": 3
   },
   "file_extension": ".py",
   "mimetype": "text/x-python",
   "name": "python",
   "nbconvert_exporter": "python",
   "pygments_lexer": "ipython3",
   "version": "3.10.8"
  }
 },
 "nbformat": 4,
 "nbformat_minor": 5
}
