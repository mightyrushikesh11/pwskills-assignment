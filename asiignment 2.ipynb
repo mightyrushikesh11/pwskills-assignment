{
 "cells": [
  {
   "cell_type": "markdown",
   "id": "dccef3ef-636f-4a7c-903a-d41f8f83e2e0",
   "metadata": {},
   "source": [
    "Which keyword is used to create a function? Create a function to return a list of odd numbers in the\n",
    "range of 1 to 25."
   ]
  },
  {
   "cell_type": "code",
   "execution_count": null,
   "id": "9f297362-9761-4a67-9e06-82cb9283d46d",
   "metadata": {},
   "outputs": [],
   "source": [
    "def get_odd_numbers():\n",
    "    odd_numbers = []\n",
    "    for i in range(1, 26):\n",
    "        if i % 2 != 0:\n",
    "            odd_numbers.append(i)\n",
    "    return odd_numbers\n"
   ]
  },
  {
   "cell_type": "markdown",
   "id": "d1efa9b8-7cda-461a-8b27-936c64596f79",
   "metadata": {},
   "source": [
    "In this example, we define a function called \"get_odd_numbers\" using the \"def\" keyword. The function uses a loop to iterate through the range of 1 to 25, and checks if each number is odd. If a number is odd, it is added to a list called \"odd_numbers\". Finally, the function returns the \"odd_numbers\" list."
   ]
  },
  {
   "cell_type": "markdown",
   "id": "f891b427-430a-4827-b17d-e99f4d63b5b1",
   "metadata": {},
   "source": [
    "Why *args and **kwargs is used in some functions? Create a function each for *args and **kwargs\n",
    "to demonstrate their use."
   ]
  },
  {
   "cell_type": "markdown",
   "id": "4489dd84-0a6b-4838-ab24-70a796859999",
   "metadata": {},
   "source": [
    "*args and **kwargs are special syntax in Python that allow a function to accept a variable number of arguments.\n",
    "\n",
    "The *args syntax allows a function to accept an arbitrary number of positional arguments, which are passed as a tuple. Here's an example function that accepts *args and prints each argument:"
   ]
  },
  {
   "cell_type": "code",
   "execution_count": null,
   "id": "6de52854-1fce-4c68-8cfb-3aa84ec61900",
   "metadata": {},
   "outputs": [],
   "source": [
    "def my_function(*args):\n",
    "    for arg in args:\n",
    "        print(arg)\n",
    "\n",
    "# Example usage\n",
    "my_function(1, 2, 3) # prints 1, 2, 3\n",
    "my_function('a', 'b', 'c', 'd') # prints a, b, c, d\n"
   ]
  },
  {
   "cell_type": "markdown",
   "id": "4ffd7c37-1008-45de-a463-4da4a47102cc",
   "metadata": {},
   "source": [
    "The **kwargs syntax allows a function to accept an arbitrary number of keyword arguments, which are passed as a dictionary. Here's an example function that accepts **kwargs and prints each key-value pair:"
   ]
  },
  {
   "cell_type": "code",
   "execution_count": null,
   "id": "afb99030-f4fe-4e32-8ea4-9d0b6f2392ab",
   "metadata": {},
   "outputs": [],
   "source": [
    "def my_function(**kwargs):\n",
    "    for key, value in kwargs.items():\n",
    "        print(key, value)\n",
    "\n",
    "# Example usage\n",
    "my_function(name='Alice', age=30) # prints name Alice, age 30\n",
    "my_function(city='New York', country='USA', population=8_500_000) # prints city New York, country USA, population 8500000\n"
   ]
  },
  {
   "cell_type": "markdown",
   "id": "fdf2d475-a8cb-44d2-8b14-13da3a84e456",
   "metadata": {},
   "source": [
    "In these examples, the *args and **kwargs allow the functions to accept an arbitrary number of arguments and keyword arguments, respectively, without having to explicitly define them in the function signature. This can be useful when you don't know ahead of time how many arguments the function will need to accept, or when you want to make the function more flexible."
   ]
  },
  {
   "cell_type": "markdown",
   "id": "130dc1f4-9a91-49fa-9da5-d6832b58411d",
   "metadata": {},
   "source": [
    "What is an iterator in python? Name the method used to initialise the iterator object and the method\n",
    "used for iteration. Use these methods to print the first five elements of the given list [2, 4, 6, 8, 10, 12, 14,\n",
    "16, 18, 20]."
   ]
  },
  {
   "cell_type": "markdown",
   "id": "7362a1ea-84b4-4c4c-a9c1-a1e0d813c3df",
   "metadata": {},
   "source": [
    "In Python, an iterator is an object that enables you to traverse through a sequence of data, one element at a time. The iterator protocol is a Python protocol that is used to implement iterators. An iterator must implement two methods: __iter__ and __next__.\n",
    "\n",
    "The __iter__ method is called when the iterator is initialized and should return the iterator object itself.\n",
    "The __next__ method is called to get the next value from the iterator. If there are no more values to return, it should raise the StopIteration exception.\n",
    "Here's an example code to print the first five elements of the list [2, 4, 6, 8, 10, 12, 14, 16, 18, 20] using an iterator:"
   ]
  },
  {
   "cell_type": "code",
   "execution_count": null,
   "id": "76a2586c-9463-4466-b9a1-41a9d5a12d0e",
   "metadata": {},
   "outputs": [],
   "source": [
    "# Create an iterator object\n",
    "my_list = [2, 4, 6, 8, 10, 12, 14, 16, 18, 20]\n",
    "my_iterator = iter(my_list)\n",
    "\n",
    "# Iterate through the first five elements using the next() function\n",
    "for i in range(5):\n",
    "    print(next(my_iterator))\n"
   ]
  },
  {
   "cell_type": "code",
   "execution_count": null,
   "id": "a0dc0fc8-d684-48e7-8483-c0acf102db90",
   "metadata": {},
   "outputs": [],
   "source": [
    "2\n",
    "4\n",
    "6\n",
    "8\n",
    "10\n"
   ]
  },
  {
   "cell_type": "markdown",
   "id": "ef6a26aa-ed4c-412c-8831-98aff57541eb",
   "metadata": {},
   "source": [
    "In this example, we first create an iterator object my_iterator using the built-in iter() function and passing in the list my_list. Then, we use a for loop to iterate through the first five elements of the list by calling the next() function on the iterator object my_iterator inside the loop. The next() function returns the next element of the sequence, and we print it to the console.\n",
    "\n",
    "Note that after the fifth element, the StopIteration exception is raised because there are no more elements to iterate over."
   ]
  },
  {
   "cell_type": "markdown",
   "id": "480c431d-0881-4208-87f9-b2fea91ecc1e",
   "metadata": {},
   "source": [
    "What is a generator function in python? Why yield keyword is used? Give an example of a generator\n",
    "function."
   ]
  },
  {
   "cell_type": "markdown",
   "id": "6a407e34-5afd-46c0-9feb-98d82902456d",
   "metadata": {},
   "source": [
    "In Python, a generator function is a special type of function that returns an iterator object which can be used to generate a sequence of values lazily, i.e., on demand. Unlike regular functions that return a single value and then exit, generator functions can yield multiple values one at a time, and then resume execution from where it left off when the next value is requested.\n",
    "\n",
    "The yield keyword is used in generator functions to specify the values that should be returned by the generator. When a generator function is called, it returns a generator object that can be used to iterate over the values generated by the yield statements. Each time the yield keyword is encountered, the generator function returns the specified value and suspends its execution until the next value is requested. This allows the generator to produce values one at a time, as needed, rather than generating all the values at once.\n",
    "\n",
    "Here's an example of a generator function that generates the Fibonacci sequence:\n",
    "\n",
    "python\n"
   ]
  },
  {
   "cell_type": "code",
   "execution_count": 1,
   "id": "27c562be-ad6d-427f-8d50-0d9839820efb",
   "metadata": {},
   "outputs": [
    {
     "name": "stdout",
     "output_type": "stream",
     "text": [
      "0\n",
      "1\n",
      "1\n",
      "2\n",
      "3\n",
      "5\n",
      "8\n",
      "13\n",
      "21\n",
      "34\n"
     ]
    }
   ],
   "source": [
    "def fibonacci():\n",
    "    a, b = 0, 1\n",
    "    while True:\n",
    "        yield a\n",
    "        a, b = b, a + b\n",
    "\n",
    "# Example usage\n",
    "fib = fibonacci()\n",
    "for i in range(10):\n",
    "    print(next(fib))\n"
   ]
  },
  {
   "cell_type": "markdown",
   "id": "8f17b87d-a908-4094-846e-6d1bcc47d39f",
   "metadata": {},
   "source": [
    "In this example, the fibonacci function is a generator function that uses a while loop to generate an infinite sequence of Fibonacci numbers. The yield keyword is used to return each number in the sequence one at a time. When the next function is called on the generator object fib, the generator function executes until it reaches the yield statement, at which point it returns the current value of a and suspends its execution until the next value is requested."
   ]
  },
  {
   "cell_type": "markdown",
   "id": "45409f2c-c702-451b-8f03-ef4d022dd3e1",
   "metadata": {},
   "source": [
    "Note that the fibonacci function can generate an infinite sequence of values because it uses a while True loop. However, the generator can be terminated by raising a StopIteration exception when some condition is met."
   ]
  },
  {
   "cell_type": "markdown",
   "id": "9228dada-d04d-497f-88b1-52e444091182",
   "metadata": {},
   "source": [
    "Q5. Create a generator function for prime numbers less than 1000. Use the next() method to print the\n",
    "first 20 prime numbers."
   ]
  },
  {
   "cell_type": "code",
   "execution_count": 2,
   "id": "fd013c3a-7e7c-42b2-bbf0-c9f04504a112",
   "metadata": {},
   "outputs": [],
   "source": [
    "def generate_primes():\n",
    "    primes = [2]\n",
    "    yield 2\n",
    "    i = 3\n",
    "    while i < 1000:\n",
    "        is_prime = True\n",
    "        for p in primes:\n",
    "            if i % p == 0:\n",
    "                is_prime = False\n",
    "                break\n",
    "        if is_prime:\n",
    "            primes.append(i)\n",
    "            yield i\n",
    "        i += 2\n"
   ]
  },
  {
   "cell_type": "markdown",
   "id": "8fa851c6-60b8-4a46-a513-d9b44de7162f",
   "metadata": {},
   "source": [
    "In this example, the generate_primes function is a generator function that generates prime numbers less than 1000. It uses a list called primes to keep track of the prime numbers generated so far. The function starts by yielding the first prime number, which is 2. Then, it iterates over odd numbers from 3 to 999, checking if each number is prime by dividing it by all the previously generated primes. If a number is prime, it is added to the primes list and yielded.\n",
    "\n",
    "To print the first 20 prime numbers generated by this function using the next() method, we can write the following code:\n",
    "\n"
   ]
  },
  {
   "cell_type": "code",
   "execution_count": 3,
   "id": "a00ac580-8813-425c-8060-128eb999924c",
   "metadata": {},
   "outputs": [
    {
     "name": "stdout",
     "output_type": "stream",
     "text": [
      "2\n",
      "3\n",
      "5\n",
      "7\n",
      "11\n",
      "13\n",
      "17\n",
      "19\n",
      "23\n",
      "29\n",
      "31\n",
      "37\n",
      "41\n",
      "43\n",
      "47\n",
      "53\n",
      "59\n",
      "61\n",
      "67\n",
      "71\n"
     ]
    }
   ],
   "source": [
    "primes = generate_primes()\n",
    "for i in range(20):\n",
    "    print(next(primes))\n"
   ]
  },
  {
   "cell_type": "markdown",
   "id": "6b11dcaa-ce60-4d69-b84e-d3afd8596202",
   "metadata": {},
   "source": [
    "Q6. Write a python program to print the first 10 Fibonacci numbers using a while loop."
   ]
  },
  {
   "cell_type": "code",
   "execution_count": 4,
   "id": "97164d7e-79fb-4b91-b62c-72ef510d072e",
   "metadata": {},
   "outputs": [
    {
     "name": "stdout",
     "output_type": "stream",
     "text": [
      "0\n",
      "1\n",
      "1\n",
      "2\n",
      "3\n",
      "5\n",
      "8\n",
      "13\n",
      "21\n",
      "34\n"
     ]
    }
   ],
   "source": [
    "# Initialize the first two numbers of the Fibonacci sequence\n",
    "a, b = 0, 1\n",
    "\n",
    "# Initialize a counter variable to keep track of how many numbers have been printed\n",
    "count = 0\n",
    "\n",
    "# Use a while loop to print the first 10 Fibonacci numbers\n",
    "while count < 10:\n",
    "    print(a)\n",
    "    a, b = b, a + b\n",
    "    count += 1\n"
   ]
  },
  {
   "cell_type": "markdown",
   "id": "ca6935c4-2ea5-4091-b7c1-f0b2e81f2990",
   "metadata": {},
   "source": [
    "In this program, we first initialize the first two numbers of the Fibonacci sequence to 0 and 1. We also initialize a counter variable to keep track of how many numbers have been printed so far.\n",
    "\n",
    "Then, we use a while loop to print the first 10 Fibonacci numbers. Inside the loop, we first print the current value of a, which is the current number in the Fibonacci sequence. Then, we update the values of a and b to be the next two numbers in the sequence. Finally, we increment the count variable to keep track of how many numbers have been printed so far.\n",
    "\n",
    "When this program is run, it will output the first 10 Fibonacci numbers:"
   ]
  },
  {
   "cell_type": "markdown",
   "id": "4e8b0f43-bea1-4f81-b4fa-177bf625c4a8",
   "metadata": {},
   "source": [
    "q7). Write a List Comprehension to iterate through the given string: ‘pwskills’.\n",
    "Expected output: ['p', 'w', 's', 'k', 'i', 'l', 'l', 's']"
   ]
  },
  {
   "cell_type": "code",
   "execution_count": 5,
   "id": "6f79c217-38a3-4080-9568-5eafef95244c",
   "metadata": {},
   "outputs": [
    {
     "name": "stdout",
     "output_type": "stream",
     "text": [
      "['p', 'w', 's', 'k', 'l', 'l', 's']\n"
     ]
    }
   ],
   "source": [
    "string = 'pwskills'\n",
    "consonants = [char for char in string if char not in 'aeiou']\n",
    "print(consonants)\n"
   ]
  },
  {
   "cell_type": "markdown",
   "id": "b170034f-ab66-4df8-b001-bb6dae68efaa",
   "metadata": {},
   "source": [
    "Write a python program to check whether a given number is Palindrome or not using a while loop."
   ]
  },
  {
   "cell_type": "code",
   "execution_count": null,
   "id": "102971c7-f84b-4cee-af72-7c66f11cbafb",
   "metadata": {},
   "outputs": [],
   "source": [
    "# Get the input number from the user\n",
    "num = int(input(\"Enter a number: \"))\n",
    "\n",
    "# Initialize variables to store the reverse of the number and the original number\n",
    "reverse_num = 0\n",
    "temp_num = num\n",
    "\n",
    "# Use a while loop to reverse the number\n",
    "while temp_num > 0:\n",
    "    # Get the last digit of the number\n",
    "    digit = temp_num % 10\n",
    "    # Add the digit to the reverse number\n",
    "    reverse_num = (reverse_num * 10) + digit\n",
    "    # Remove the last digit from the number\n",
    "    temp_num = temp_num // 10\n",
    "\n",
    "# Check if the original number is equal to the reverse number\n",
    "if num == reverse_num:\n",
    "    print(num, \"is a palindrome\")\n",
    "else:\n",
    "    print(num, \"is not a palindrome\")\n"
   ]
  },
  {
   "cell_type": "markdown",
   "id": "c28256a1-5bd6-4e37-b42d-31fc54e928be",
   "metadata": {},
   "source": [
    "In this program, we first get the input number from the user using the input() function and convert it to an integer using the int() function. We also initialize two variables: reverse_num, which will store the reverse of the number, and temp_num, which will be used to manipulate the number.\n",
    "\n",
    "Then, we use a while loop to reverse the number. Inside the loop, we get the last digit of the number using the modulo operator %. We add this digit to the reverse number by multiplying it by 10 and adding it to the existing reverse number. We also remove the last digit from the original number using integer division //.\n",
    "\n",
    "After the while loop, we check if the original number is equal to the reverse number. If they are equal, we print a message indicating that the number is a palindrome. Otherwise, we print a message indicating that the number is not a palindrome.\n",
    "\n",
    "When this program is run, it will output a message indicating whether the given number is a palindrome or not.\n"
   ]
  },
  {
   "cell_type": "markdown",
   "id": "40f00cb7-311b-4f4f-bb40-6e559c7d0ca8",
   "metadata": {},
   "source": [
    "Write a code to print odd numbers from 1 to 100 using list comprehension.\n",
    "Note: Use a list comprehension to create a list from 1 to 100 and use another List comprehension to filter\n",
    "out odd numbers."
   ]
  },
  {
   "cell_type": "code",
   "execution_count": 6,
   "id": "ca9dd385-56d9-4ea4-a997-949e7259f5ba",
   "metadata": {},
   "outputs": [
    {
     "name": "stdout",
     "output_type": "stream",
     "text": [
      "[1, 3, 5, 7, 9, 11, 13, 15, 17, 19, 21, 23, 25, 27, 29, 31, 33, 35, 37, 39, 41, 43, 45, 47, 49, 51, 53, 55, 57, 59, 61, 63, 65, 67, 69, 71, 73, 75, 77, 79, 81, 83, 85, 87, 89, 91, 93, 95, 97, 99]\n"
     ]
    }
   ],
   "source": [
    "# Use list comprehension to create a list of numbers from 1 to 100\n",
    "numbers = [num for num in range(1, 101)]\n",
    "# Use another list comprehension to filter out the odd numbers\n",
    "odd_numbers = [num for num in numbers if num % 2 != 0]\n",
    "# Print the list of odd numbers\n",
    "print(odd_numbers)\n"
   ]
  },
  {
   "cell_type": "markdown",
   "id": "1a0af360-565c-4c00-bfc5-9b695c1e94a9",
   "metadata": {},
   "source": [
    "In this program, we use the first list comprehension to create a list of numbers from 1 to 100. We iterate through the range of numbers using the range() function and add each number to the list using the for loop.\n",
    "\n",
    "Next, we use another list comprehension to filter out the odd numbers from the list. We check if each number in the list is odd by using the modulo operator % to check if the remainder of the number divided by 2 is not equal to 0. If the remainder is not equal to 0, then the number is odd and is added to the odd_numbers list.\n",
    "\n",
    "Finally, we print the list of odd numbers using the print() function. When this program is run, it will output a list of odd numbers from 1 to 100."
   ]
  }
 ],
 "metadata": {
  "kernelspec": {
   "display_name": "Python 3 (ipykernel)",
   "language": "python",
   "name": "python3"
  },
  "language_info": {
   "codemirror_mode": {
    "name": "ipython",
    "version": 3
   },
   "file_extension": ".py",
   "mimetype": "text/x-python",
   "name": "python",
   "nbconvert_exporter": "python",
   "pygments_lexer": "ipython3",
   "version": "3.10.8"
  }
 },
 "nbformat": 4,
 "nbformat_minor": 5
}
