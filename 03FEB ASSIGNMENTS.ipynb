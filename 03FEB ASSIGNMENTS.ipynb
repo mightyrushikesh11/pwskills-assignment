{
 "cells": [
  {
   "cell_type": "markdown",
   "id": "89a40762-4423-4a37-8e46-5fa9d215e34d",
   "metadata": {},
   "source": [
    "Q1. Which keyword is used to create a function? Create a function to return a list of odd numbers in the \n",
    "range of 1 to 25.\n",
    "\n",
    "Ans. The def keyword is used to create, (or define) a function."
   ]
  },
  {
   "cell_type": "code",
   "execution_count": 1,
   "id": "8a8217a2-57aa-4835-a29f-d2b815e15ac3",
   "metadata": {},
   "outputs": [],
   "source": [
    "def odd(r):\n",
    "    l=[]\n",
    "    for i in range(r):\n",
    "        if i%2!=0:\n",
    "            l.append(i)\n",
    "    return( l )      "
   ]
  },
  {
   "cell_type": "code",
   "execution_count": 2,
   "id": "b9d2e25c-a41a-4cd9-a8fe-6ef707d38e76",
   "metadata": {},
   "outputs": [
    {
     "data": {
      "text/plain": [
       "[1, 3, 5, 7, 9, 11, 13, 15, 17, 19, 21, 23, 25]"
      ]
     },
     "execution_count": 2,
     "metadata": {},
     "output_type": "execute_result"
    }
   ],
   "source": [
    "odd(26)"
   ]
  },
  {
   "cell_type": "markdown",
   "id": "8b91235e-80b9-40b6-8366-e7c00a8886f2",
   "metadata": {},
   "source": [
    "Q2. Why *args and **kwargs is used in some functions? Create a function each for *args and **kwargs \n",
    "to demonstrate their use.\n",
    "\n",
    "Ans. If we are not sure about the number of arguments that can be passed to a function, at that time we use *args.\n",
    "     If we want to pass an arguments as dictionary (key-value pair) at that time we use **Kargs."
   ]
  },
  {
   "cell_type": "code",
   "execution_count": 9,
   "id": "b2d74db9-3415-4604-833f-235781ea285e",
   "metadata": {},
   "outputs": [],
   "source": [
    "####(*args Example)\n",
    "def a(*args):\n",
    "    return args"
   ]
  },
  {
   "cell_type": "code",
   "execution_count": 10,
   "id": "883bd329-a744-4288-933e-a099959c9d99",
   "metadata": {},
   "outputs": [
    {
     "data": {
      "text/plain": [
       "('rajnish', 2542342, 2.2, (2+3j))"
      ]
     },
     "execution_count": 10,
     "metadata": {},
     "output_type": "execute_result"
    }
   ],
   "source": [
    "a(\"rajnish\",2542342,2.2,2+3j)"
   ]
  },
  {
   "cell_type": "code",
   "execution_count": 11,
   "id": "9eecd9d1-631c-40f7-bd13-ab05487b8427",
   "metadata": {},
   "outputs": [],
   "source": [
    "####(**Kargs Example)\n",
    "def a(**Kargs):\n",
    "    return Kargs"
   ]
  },
  {
   "cell_type": "code",
   "execution_count": 15,
   "id": "cf1bad01-fabf-40af-9283-dafecf262bde",
   "metadata": {},
   "outputs": [
    {
     "data": {
      "text/plain": [
       "{'name': 'Rajnish', 'Learning': 'Data science'}"
      ]
     },
     "execution_count": 15,
     "metadata": {},
     "output_type": "execute_result"
    }
   ],
   "source": [
    "a(name = 'Rajnish', Learning= 'Data science')"
   ]
  },
  {
   "cell_type": "markdown",
   "id": "0891b2fb-165b-41ee-a452-b69911ac53f5",
   "metadata": {},
   "source": [
    "Q3.  What is an iterator in python? Name the method used to initialise the iterator object and the method \n",
    "used for iteration. Use these methods to print the first five elements of the given list [2, 4, 6, 8, 10, 12, 14, \n",
    "16, 18, 20].\n",
    "\n",
    "Ans. An iterator is an object that can be iterated upon, meaning that you can traverse through all the values.\n",
    "      The iterator object is initialized using the iter() method. It uses the next() method for iteration.\n",
    "     "
   ]
  },
  {
   "cell_type": "code",
   "execution_count": 11,
   "id": "177bf33d-f17f-4edb-a1ff-76e5c247ac7f",
   "metadata": {},
   "outputs": [],
   "source": [
    "l= [2, 4, 6, 8, 10, 12, 14, 16, 18, 20]\n",
    "a=iter(l)"
   ]
  },
  {
   "cell_type": "code",
   "execution_count": 12,
   "id": "486a416a-3533-4828-8806-83455bb3bb7b",
   "metadata": {},
   "outputs": [
    {
     "name": "stdout",
     "output_type": "stream",
     "text": [
      "2\n",
      "4\n",
      "6\n",
      "8\n",
      "10\n"
     ]
    }
   ],
   "source": [
    "#To print five elements we can the below print statement five times.\n",
    "for i in range(5):\n",
    "    print(next(a))"
   ]
  },
  {
   "cell_type": "markdown",
   "id": "1faadc41-a35e-4353-a20b-560df257f6e7",
   "metadata": {},
   "source": [
    "Q4.  What is a generator function in python? Why yield keyword is used? Give an example of a generator \n",
    "function.\n",
    "\n",
    "Ans. Python Generator functions allow you to declare a function that behaves likes an iterator, allowing programmers to make an iterator in a fast, easy, and clean way.\n",
    "\n",
    "Yield keyword is used to create a generator function."
   ]
  },
  {
   "cell_type": "code",
   "execution_count": 26,
   "id": "a9d4cd34-efb6-4ff6-9596-9c9f13617ad6",
   "metadata": {},
   "outputs": [],
   "source": [
    "def gen_func(x):\n",
    "    for i in range(x):\n",
    "        yield i"
   ]
  },
  {
   "cell_type": "code",
   "execution_count": 28,
   "id": "f81557f1-df81-4d88-8963-c2f87f094b16",
   "metadata": {},
   "outputs": [
    {
     "data": {
      "text/plain": [
       "[0, 1, 2, 3, 4]"
      ]
     },
     "execution_count": 28,
     "metadata": {},
     "output_type": "execute_result"
    }
   ],
   "source": [
    "list(gen_func (5))"
   ]
  },
  {
   "cell_type": "markdown",
   "id": "859fc662-c28d-451b-8bee-999e76a52f31",
   "metadata": {},
   "source": [
    "Q5. Create a generator function for prime numbers less than 1000. Use the next() method to print the \n",
    "first 20 prime numbers."
   ]
  },
  {
   "cell_type": "code",
   "execution_count": 21,
   "id": "ba88c197-71f9-4e5e-980c-1faf47e1b720",
   "metadata": {},
   "outputs": [],
   "source": [
    "def a(x,b):\n",
    "    for i in range(x,b):\n",
    "        if i>1:\n",
    "            for j in range(2,i):\n",
    "                if i%j==0:\n",
    "                    break\n",
    "            else:\n",
    "                yield(i)\n"
   ]
  },
  {
   "cell_type": "code",
   "execution_count": 22,
   "id": "ac7b37b0-5557-4145-bb6e-80b96fae5c5f",
   "metadata": {},
   "outputs": [
    {
     "name": "stdout",
     "output_type": "stream",
     "text": [
      "2\n",
      "3\n",
      "5\n",
      "7\n",
      "11\n",
      "13\n",
      "17\n",
      "19\n"
     ]
    }
   ],
   "source": [
    "gen = a(1,1000)\n",
    "for i in range(20):\n",
    "    a=next(gen)\n",
    "    if a>20:\n",
    "        break\n",
    "    else:\n",
    "        print(a)"
   ]
  },
  {
   "cell_type": "markdown",
   "id": "7cb72142-de5e-43a8-8755-a94c7961a144",
   "metadata": {},
   "source": [
    "Q6. Write a python program to print the first 10 Fibonacci numbers using a while loop."
   ]
  },
  {
   "cell_type": "code",
   "execution_count": 4,
   "id": "14fb9432-5bfe-43a2-9c54-cc1dac7bbdc6",
   "metadata": {},
   "outputs": [
    {
     "name": "stdout",
     "output_type": "stream",
     "text": [
      "0\n",
      "1\n",
      "1\n",
      "2\n",
      "3\n",
      "5\n",
      "8\n",
      "13\n",
      "21\n",
      "34\n",
      "55\n"
     ]
    }
   ],
   "source": [
    "a,b=0,1\n",
    "co=0\n",
    "while co<=10:\n",
    "    print(a)\n",
    "    c=a+b\n",
    "    a=b\n",
    "    b=c\n",
    "    co+=1\n",
    "    "
   ]
  },
  {
   "cell_type": "markdown",
   "id": "111707ea-9ce1-42d2-a835-0d96e86f5f68",
   "metadata": {},
   "source": [
    "Q7. Write a List Comprehension to iterate through the given string: ‘pwskills’.\n",
    "\n",
    "Expected output: ['p', 'w', 's', 'k', 'i', 'l', 'l', 's']"
   ]
  },
  {
   "cell_type": "code",
   "execution_count": 11,
   "id": "77cb570a-7486-4c0e-81ac-c05c3aea8c3e",
   "metadata": {},
   "outputs": [],
   "source": [
    "a='pwskills'"
   ]
  },
  {
   "cell_type": "code",
   "execution_count": 12,
   "id": "c4a14421-bc23-4cb1-bc0c-14658198a671",
   "metadata": {},
   "outputs": [
    {
     "data": {
      "text/plain": [
       "['p', 'w', 's', 'k', 'i', 'l', 'l', 's']"
      ]
     },
     "execution_count": 12,
     "metadata": {},
     "output_type": "execute_result"
    }
   ],
   "source": [
    "[i for i in a]"
   ]
  },
  {
   "cell_type": "markdown",
   "id": "9c830ad1-b9f9-4453-a1ad-f2ccc7cc79d2",
   "metadata": {},
   "source": [
    "Q8. Write a python program to check whether a given number is Palindrome or not using a while loop."
   ]
  },
  {
   "cell_type": "code",
   "execution_count": 34,
   "id": "5a5c1bd3-2b49-41d3-b9dd-c43c3be4452e",
   "metadata": {},
   "outputs": [
    {
     "name": "stdin",
     "output_type": "stream",
     "text": [
      "Enter your number  101\n"
     ]
    },
    {
     "name": "stdout",
     "output_type": "stream",
     "text": [
      "This is a Palindrome number\n"
     ]
    }
   ],
   "source": [
    "number=int(input(\"Enter your number \"))\n",
    "\n",
    "while number>=0:\n",
    "    a=str(number)\n",
    "    if a==a[::-1]:\n",
    "        print ('This is a Palindrome number')\n",
    "        break\n",
    "    else:\n",
    "        print ('This is not a Palindrome number')\n",
    "        break\n",
    "        "
   ]
  },
  {
   "cell_type": "markdown",
   "id": "912bd5d4-0b82-4df2-8f83-404f1988f1fe",
   "metadata": {},
   "source": [
    "Q9. Write a code to print odd numbers from 1 to 100 using list comprehension."
   ]
  },
  {
   "cell_type": "code",
   "execution_count": 36,
   "id": "e1c381b9-befa-4df3-9247-e7e0464dfa4a",
   "metadata": {},
   "outputs": [
    {
     "name": "stdout",
     "output_type": "stream",
     "text": [
      "[1, 3, 5, 7, 9, 11, 13, 15, 17, 19, 21, 23, 25, 27, 29, 31, 33, 35, 37, 39, 41, 43, 45, 47, 49, 51, 53, 55, 57, 59, 61, 63, 65, 67, 69, 71, 73, 75, 77, 79, 81, 83, 85, 87, 89, 91, 93, 95, 97, 99]\n"
     ]
    }
   ],
   "source": [
    "a=[i for i in range (1,100) if i%2!=0]\n",
    "print(a)"
   ]
  }
 ],
 "metadata": {
  "kernelspec": {
   "display_name": "Python 3 (ipykernel)",
   "language": "python",
   "name": "python3"
  },
  "language_info": {
   "codemirror_mode": {
    "name": "ipython",
    "version": 3
   },
   "file_extension": ".py",
   "mimetype": "text/x-python",
   "name": "python",
   "nbconvert_exporter": "python",
   "pygments_lexer": "ipython3",
   "version": "3.10.8"
  }
 },
 "nbformat": 4,
 "nbformat_minor": 5
}
