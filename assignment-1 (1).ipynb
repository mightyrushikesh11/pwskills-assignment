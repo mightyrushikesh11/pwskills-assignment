{
 "cells": [
  {
   "cell_type": "markdown",
   "id": "61b780f5-6e30-4623-b5b3-dc2e6452c11e",
   "metadata": {},
   "source": [
    " Explain with an example each when to use a for loop and a while loop?"
   ]
  },
  {
   "cell_type": "markdown",
   "id": "97fe0ef0-389a-4c4f-aa44-e3b4be480157",
   "metadata": {},
   "source": [
    "Both for loops and while loops are used to execute a block of code repeatedly, but they differ in how they are structured and when they are best used.\n",
    "\n",
    "A for loop is typically used when you know the number of times you want to execute a block of code. The syntax of a for loop includes an initialization statement, a condition for continuing the loop, and an expression to modify the loop counter on each iteration.\n",
    "\n",
    "For example, suppose you want to print the numbers from 1 to 10:"
   ]
  },
  {
   "cell_type": "code",
   "execution_count": null,
   "id": "61e3d2a2-75af-4d5d-8f0b-efcad66305e5",
   "metadata": {},
   "outputs": [],
   "source": [
    "for i in range(1, 11):\n",
    "    print(i)\n"
   ]
  },
  {
   "cell_type": "markdown",
   "id": "e9b44c9a-1326-4095-8c9e-3962831edcfb",
   "metadata": {},
   "source": [
    "This for loop will execute 10 times, with i starting at 1 and incrementing by 1 on each iteration, until it reaches 10.\n",
    "\n",
    "A while loop, on the other hand, is typically used when you don't know the number of times you want to execute a block of code in advance. The syntax of a while loop includes a condition for continuing the loop, which is tested at the beginning of each iteration.\n",
    "\n",
    "For example, suppose you want to print the numbers from 1 to 10, but you want to stop when you reach a number that is evenly divisible by 3:"
   ]
  },
  {
   "cell_type": "code",
   "execution_count": null,
   "id": "9fb0bcd3-92d8-41f3-943c-40334da6d41b",
   "metadata": {},
   "outputs": [],
   "source": [
    "i = 1\n",
    "while i <= 10:\n",
    "    if i % 3 == 0:\n",
    "        break\n",
    "    print(i)\n",
    "    i += 1\n"
   ]
  },
  {
   "cell_type": "markdown",
   "id": "a0ffa064-89b4-4546-af9b-f4dbcfbcd2e8",
   "metadata": {},
   "source": [
    "This while loop will execute multiple times until the condition i <= 10 is no longer true. However, it also includes an if statement to break out of the loop early if i is evenly divisible by 3.\n",
    "\n",
    "In summary, you should use a for loop when you know the number of times you want to execute a block of code, and a while loop when you don't know in advance how many times you want to execute the block of code or if you need more control over when to stop the loop.\n",
    "\n",
    "\n",
    "\n"
   ]
  },
  {
   "cell_type": "markdown",
   "id": "19d2ea48-62fe-4718-8f95-ab8afbb3b816",
   "metadata": {},
   "source": [
    "Write a python program to print the sum and product of the first 10 natural numbers using for\n",
    "and while loop.\n",
    "Here is the Python code to print the sum and product of the first 10 natural numbers using both for and while loops:\n",
    "\n",
    "Sum and product using a for loop"
   ]
  },
  {
   "cell_type": "code",
   "execution_count": null,
   "id": "eca5cbc6-13e7-498d-bbd8-0fb2b0f6f36f",
   "metadata": {},
   "outputs": [],
   "source": [
    "# Sum and product of the first 10 natural numbers using for loop\n",
    "\n",
    "sum = 0\n",
    "product = 1\n",
    "\n",
    "for i in range(1, 11):\n",
    "    sum += i\n",
    "    product *= i\n",
    "\n",
    "print(\"Sum:\", sum)\n",
    "print(\"Product:\", product)\n"
   ]
  },
  {
   "cell_type": "code",
   "execution_count": null,
   "id": "a62ea7f9-d53e-4938-81b0-fb2b5d54f629",
   "metadata": {},
   "outputs": [],
   "source": [
    "#output\n",
    "Sum: 55\n",
    "Product: 3628800\n"
   ]
  },
  {
   "cell_type": "markdown",
   "id": "fe77d73c-26d5-495e-a4ca-da7319fb0ab6",
   "metadata": {},
   "source": [
    "sum and product using while loop"
   ]
  },
  {
   "cell_type": "code",
   "execution_count": null,
   "id": "d1fbfd04-f4a4-44a0-852b-3868d9a1ea8b",
   "metadata": {},
   "outputs": [],
   "source": [
    "# Sum and product of the first 10 natural numbers using while loop\n",
    "\n",
    "sum = 0\n",
    "product = 1\n",
    "i = 1\n",
    "\n",
    "while i <= 10:\n",
    "    sum += i\n",
    "    product *= i\n",
    "    i += 1\n",
    "\n",
    "print(\"Sum:\", sum)\n",
    "print(\"Product:\", product)\n"
   ]
  },
  {
   "cell_type": "markdown",
   "id": "f3267cb8-581f-4d59-a31d-9c6d704aa8c1",
   "metadata": {},
   "source": [
    "Q3. Create a python program to compute the electricity bill for a household.\n",
    "The per-unit charges in rupees are as follows: For the first 100 units, the user will be charged Rs. 4.5 per\n",
    "unit, for the next 100 units, the user will be charged Rs. 6 per unit, and for the next 100 units, the user will\n",
    "be charged Rs. 10 per unit, After 300 units and above the user will be charged Rs. 20 per unit.\n",
    "You are required to take the units of electricity consumed in a month from the user as input.\n",
    "Your program must pass this test case: when the unit of electricity consumed by the user in a month is\n",
    "310, the total electricity bill should be 2250."
   ]
  },
  {
   "cell_type": "code",
   "execution_count": null,
   "id": "13a4b0ce-f071-494b-9404-e0dce779fb24",
   "metadata": {},
   "outputs": [],
   "source": [
    "units = int(input(\"Enter the number of units consumed: \"))\n",
    "total_bill = 0\n",
    "\n",
    "if units <= 100:\n",
    "    total_bill = units * 4.5\n",
    "elif units <= 200:\n",
    "    total_bill = 100 * 4.5 + (units - 100) * 6\n",
    "elif units <= 300:\n",
    "    total_bill = 100 * 4.5 + 100 * 6 + (units - 200) * 10\n",
    "else:\n",
    "    total_bill = 100 * 4.5 + 100 * 6 + 100 * 10 + (units - 300) * 20\n",
    "\n",
    "print(\"Total bill:\", total_bill, \"rupees\")\n"
   ]
  },
  {
   "cell_type": "markdown",
   "id": "9700bac9-dc28-4db7-8e01-43206743885e",
   "metadata": {},
   "source": [
    "This program first prompts the user to enter the number of units consumed, and then calculates the total bill based on the given charges per unit. It uses an if-elif-else statement to determine which charge per unit to use based on the number of units consumed.\n",
    "\n",
    "For example, if the user enters 310 units, the program calculates the total bill as follows:\n",
    "\n",
    "For the first 100 units, the charge is 4.5 rupees per unit, so the cost is 100 * 4.5 = 450 rupees.\n",
    "For the next 100 units, the charge is 6 rupees per unit, so the cost is 100 * 6 = 600 rupees.\n",
    "For the next 100 units, the charge is 10 rupees per unit, so the cost is 100 * 10 = 1000 rupees.\n",
    "For the remaining 10 units, the charge is 20 rupees per unit, so the cost is 10 * 20 = 200 rupees.\n",
    "The total cost is the sum of these amounts, or 450 + 600 + 1000 + 200 = 2250 rupees. The program then prints this amount as the total bill."
   ]
  },
  {
   "cell_type": "markdown",
   "id": "c4b7e455-6848-4ace-8c9d-2a5f5f2fd3d8",
   "metadata": {},
   "source": [
    "Q4. Create a list of numbers from 1 to 100. Use for loop and while loop to calculate the cube of each\n",
    "number and if the cube of that number is divisible by 4 or 5 then append that number in a list and print"
   ]
  },
  {
   "cell_type": "code",
   "execution_count": null,
   "id": "db9ea3e8-8cd5-4144-be67-47bdf0b32073",
   "metadata": {},
   "outputs": [],
   "source": [
    "numbers = list(range(1, 101))\n",
    "cubes = []\n",
    "\n",
    "# using for loop\n",
    "for num in numbers:\n",
    "    cube = num ** 3\n",
    "    if cube % 4 == 0 or cube % 5 == 0:\n",
    "        cubes.append(num)\n",
    "\n",
    "print(\"Numbers whose cubes are divisible by 4 or 5 using for loop:\")\n",
    "print(cubes)\n",
    "\n",
    "# using while loop\n",
    "cubes = []\n",
    "i = 1\n",
    "\n",
    "while i <= 100:\n",
    "    cube = i ** 3\n",
    "    if cube % 4 == 0 or cube % 5 == 0:\n",
    "        cubes.append(i)\n",
    "    i += 1\n",
    "\n",
    "print(\"Numbers whose cubes are divisible by 4 or 5 using while loop:\")\n",
    "print(cubes)\n"
   ]
  },
  {
   "cell_type": "markdown",
   "id": "12772368-6022-4f21-8c09-a80b698e41a0",
   "metadata": {},
   "source": [
    "The program first creates a list of numbers from 1 to 100 using the list() and range() functions. It then initializes an empty list called cubes to store the numbers whose cubes are divisible by 4 or 5.\n",
    "\n",
    "The program then uses a for loop to iterate over the numbers in the list, calculates the cube of each number using the ** operator, checks if the cube is divisible by 4 or 5 using the modulo operator %, and appends the number to the cubes list if it is.\n",
    "\n",
    "Next, the program uses a while loop to do the same thing as the for loop. It initializes a counter variable i to 1, calculates the cube of each number using the ** operator, checks if the cube is divisible by 4 or 5 using the modulo operator %, and appends the number to the cubes list if it is. It then increments the counter variable by 1 and repeats the process until the counter variable reaches 100.\n",
    "\n",
    "Finally, the program prints the list of numbers whose cubes are divisible by 4 or 5 using both the for loop and while loop.\n"
   ]
  },
  {
   "cell_type": "code",
   "execution_count": null,
   "id": "70ad9f21-78a2-4bcb-aa55-bac86e7d0246",
   "metadata": {},
   "outputs": [],
   "source": [
    "Write a program to filter count vowels in the below-given string.\n",
    "string = \"I want to become a data scientist\""
   ]
  },
  {
   "cell_type": "code",
   "execution_count": null,
   "id": "6f0d1437-d56d-4afb-8283-4598776e8ecc",
   "metadata": {},
   "outputs": [],
   "source": [
    "string = \"I want to become a data scientist\"\n",
    "\n",
    "# define a list of vowels\n",
    "vowels = ['a', 'e', 'i', 'o', 'u']\n",
    "\n",
    "# initialize a counter variable to count the vowels\n",
    "count = 0\n",
    "\n",
    "# iterate over each character in the string\n",
    "for char in string:\n",
    "    # check if the character is a vowel\n",
    "    if char.lower() in vowels:\n",
    "        # increment the counter variable\n",
    "        count += 1\n",
    "\n",
    "# print the count of vowels in the string\n",
    "print(\"The number of vowels in the string are:\", count)\n"
   ]
  },
  {
   "cell_type": "markdown",
   "id": "162872fb-34c9-4408-97bf-8a54756b9050",
   "metadata": {},
   "source": [
    "The program first defines a list of vowels, which is ['a', 'e', 'i', 'o', 'u']. It then initializes a counter variable count to 0, which will be used to count the vowels in the string.\n",
    "\n",
    "The program then iterates over each character in the string using a for loop. For each character, it checks if the character is a vowel by converting it to lowercase and checking if it is in the vowels list. If the character is a vowel, it increments the count variable.\n",
    "\n",
    "Finally, the program prints the count of vowels in the string using the print() function. The output of this program for the given string would be:"
   ]
  },
  {
   "cell_type": "code",
   "execution_count": null,
   "id": "b3248721-6648-4501-8ab9-e5335c17cb65",
   "metadata": {},
   "outputs": [],
   "source": [
    "The number of vowels in the string are: 11\n"
   ]
  }
 ],
 "metadata": {
  "kernelspec": {
   "display_name": "Python 3 (ipykernel)",
   "language": "python",
   "name": "python3"
  },
  "language_info": {
   "codemirror_mode": {
    "name": "ipython",
    "version": 3
   },
   "file_extension": ".py",
   "mimetype": "text/x-python",
   "name": "python",
   "nbconvert_exporter": "python",
   "pygments_lexer": "ipython3",
   "version": "3.10.8"
  }
 },
 "nbformat": 4,
 "nbformat_minor": 5
}
