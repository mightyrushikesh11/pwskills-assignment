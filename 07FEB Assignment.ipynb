{
 "cells": [
  {
   "cell_type": "markdown",
   "id": "88cf9e5b-c5eb-4f4f-afe7-932b82c32b62",
   "metadata": {},
   "source": [
    "Q1. You are writing code for a company. The requirement of the company is that you create a python \n",
    "function that will check whether the password entered by the user is correct or not. The function should \n",
    "take the password as input and return the string “Valid Password” if the entered password follows the \n",
    "below-given password guidelines else it should return “Invalid Password”.\n",
    "\n",
    "\n",
    "Note: 1. The Password should contain at least two uppercase letters and at least two lowercase letters.\n",
    "\n",
    "2. The Password should contain at least a number and three special characters.\n",
    "\n",
    "3. The length of the password should be 10 characters long.\n"
   ]
  },
  {
   "cell_type": "code",
   "execution_count": 1,
   "id": "6cce2aa2-14b0-4655-a85d-84e4d2e2a7f3",
   "metadata": {},
   "outputs": [
    {
     "name": "stdin",
     "output_type": "stream",
     "text": [
      "Enter your password, length should be 10  RAjnis@#$1\n"
     ]
    },
    {
     "name": "stdout",
     "output_type": "stream",
     "text": [
      "Valid Password\n"
     ]
    }
   ],
   "source": [
    "password= input('Enter your password, length should be 10 ')\n",
    "\n",
    "if len(password)==10:\n",
    "    c=0\n",
    "    for i in password:\n",
    "        if i.isupper():\n",
    "            c+=1\n",
    "            \n",
    "d=0\n",
    "if c>=2 and len(password)==10:\n",
    "    for i in password:\n",
    "        if i.islower():\n",
    "            d+=1\n",
    "            \n",
    "e=0\n",
    "if c>=2 and len(password)==10 and d>=2:\n",
    "    for i in password:\n",
    "        if i.isdigit():\n",
    "            e+=1\n",
    "\n",
    "            \n",
    "if c>=2 and len(password)==10 and d>=2 and e>=1:\n",
    "    f=0\n",
    "    for i in password:\n",
    "        if i in ('@_!#$%^&*()<>?/|}{~:]'):\n",
    "            f+=1\n",
    "\n",
    "if c>=2 and len(password)==10 and d>=2 and e>=1 and f>=3 :\n",
    "    print('Valid Password')\n",
    "else:\n",
    "    print('Invalid Password')\n",
    "    \n",
    "            \n",
    "    "
   ]
  },
  {
   "cell_type": "markdown",
   "id": "d3e7567f-94cb-4b03-8f83-c014b3e54779",
   "metadata": {},
   "source": [
    "Q2. Solve the below-given questions using at least one of the following: \n",
    "\n",
    "1. Lambda functioJ\n",
    "2. Filter functioJ\n",
    "3. Zap functioJ\n",
    "4. List Comprehension\n",
    "B Check if the string starts with a particular letter\n",
    "B Check if the string is numeric\n",
    "B Sort a list of tuples having fruit names and their quantity. [(\"mango\",99),(\"orange\",80), (\"grapes\", 1000)-\n",
    "B Find the squares of numbers from 1 to 10\n",
    "B Find the cube root of numbers from 1 to 10\n",
    "B Check if a given number is even\n",
    "B Filter odd numbers from the given list.\n",
    "\n",
    " [1,2,3,4,5,6,7,8,9,10-\n",
    "B Sort a list of integers into positive and negative integers lists.\n",
    "\n",
    " [1,2,3,4,5,6,-1,-2,-3,-4,-5,0]"
   ]
  },
  {
   "cell_type": "code",
   "execution_count": 4,
   "id": "2a59d820-be7e-4bf9-b5d9-a0512804f3b8",
   "metadata": {},
   "outputs": [
    {
     "data": {
      "text/plain": [
       "['string starts with I']"
      ]
     },
     "execution_count": 4,
     "metadata": {},
     "output_type": "execute_result"
    }
   ],
   "source": [
    "#*******\n",
    "# Check if the string starts with a particular letter (For ex. \"I\").\n",
    "string= 'I want to become a data scientist'\n",
    "\n",
    "[(\"string starts with I\") if string.startswith('I') else (\"string don't starts with I\") ]\n"
   ]
  },
  {
   "cell_type": "code",
   "execution_count": 5,
   "id": "51402fc1-5b59-4a27-806f-9ab5cdb8296c",
   "metadata": {},
   "outputs": [
    {
     "data": {
      "text/plain": [
       "True"
      ]
     },
     "execution_count": 5,
     "metadata": {},
     "output_type": "execute_result"
    }
   ],
   "source": [
    "#********\n",
    "##B Check if the string is numeric\n",
    "S='134335'\n",
    "a=lambda x:x.isnumeric()\n",
    "a(S)"
   ]
  },
  {
   "cell_type": "code",
   "execution_count": 6,
   "id": "0040fb2d-82b8-4a87-88c7-750f05ac7309",
   "metadata": {},
   "outputs": [],
   "source": [
    "#*********\n",
    "#B Sort a list of tuples having fruit names and their quantity. [(\"mango\",99),(\"orange\",80), (\"grapes\", 1000)-\n",
    "l= [(\"mango\",99),(\"orange\",80), (\"grapes\", 1000)]"
   ]
  },
  {
   "cell_type": "code",
   "execution_count": 7,
   "id": "5cc35e74-2773-49ea-9129-5c2b8ae56544",
   "metadata": {},
   "outputs": [
    {
     "data": {
      "text/plain": [
       "[('orange', 80), ('mango', 99), ('grapes', 1000)]"
      ]
     },
     "execution_count": 7,
     "metadata": {},
     "output_type": "execute_result"
    }
   ],
   "source": [
    "a=lambda x: sorted(x,reverse=True)\n",
    "a(list(l))"
   ]
  },
  {
   "cell_type": "code",
   "execution_count": 8,
   "id": "1e5baa80-0299-458f-b433-945e9a0dd914",
   "metadata": {},
   "outputs": [
    {
     "name": "stdout",
     "output_type": "stream",
     "text": [
      "[1, 4, 9, 16, 25, 36, 49, 64, 81, 100]\n"
     ]
    }
   ],
   "source": [
    "# Find the squares of numbers from 1 to 10\n",
    "b=[i**2 for i in range(1,11)]\n",
    "print(b)"
   ]
  },
  {
   "cell_type": "code",
   "execution_count": 9,
   "id": "34e39211-5443-4792-b48a-7a85e34373d1",
   "metadata": {},
   "outputs": [
    {
     "name": "stdout",
     "output_type": "stream",
     "text": [
      "[1.0, 1.2599210498948732, 1.4422495703074083, 1.5874010519681994, 1.7099759466766968, 1.8171205928321397, 1.912931182772389, 2.0, 2.080083823051904, 2.154434690031884]\n"
     ]
    }
   ],
   "source": [
    "#***********\n",
    "#Find the cube root of numbers from 1 to 10\n",
    "b=[i**(1/3) for i in range(1,11)]\n",
    "print(b)\n"
   ]
  },
  {
   "cell_type": "code",
   "execution_count": 10,
   "id": "1c0fea97-7870-40a9-979c-495545c7a144",
   "metadata": {},
   "outputs": [
    {
     "name": "stdin",
     "output_type": "stream",
     "text": [
      "Enter the no.  86\n"
     ]
    },
    {
     "data": {
      "text/plain": [
       "['The given no is even']"
      ]
     },
     "execution_count": 10,
     "metadata": {},
     "output_type": "execute_result"
    }
   ],
   "source": [
    "#****************\n",
    "#Check if a given number is even\n",
    "a= int (input('Enter the no. '))\n",
    "        \n",
    "        \n",
    "[('The given no is even') if a%2==0 else ('The given no. is not even')]        \n",
    "\n",
    "        \n",
    "        "
   ]
  },
  {
   "cell_type": "code",
   "execution_count": 11,
   "id": "be41c21b-37c1-4bea-9352-8eb45a673773",
   "metadata": {},
   "outputs": [],
   "source": [
    "#******\n",
    "# Filter odd numbers from the given list.\n",
    "\n",
    "l= [1,2,3,4,5,6,7,8,9,10]"
   ]
  },
  {
   "cell_type": "code",
   "execution_count": 12,
   "id": "54e96909-0080-4c37-842a-7cbbcb92e3fc",
   "metadata": {},
   "outputs": [
    {
     "name": "stdout",
     "output_type": "stream",
     "text": [
      "[1, 3, 5, 7, 9]\n"
     ]
    }
   ],
   "source": [
    "a=list(filter((lambda x : x%2!=0),l))\n",
    "print (a)"
   ]
  },
  {
   "cell_type": "code",
   "execution_count": 13,
   "id": "7c1095b7-d0cd-4975-a422-d8f5663704fa",
   "metadata": {},
   "outputs": [],
   "source": [
    "#*****\n",
    "#Sort a list of integers into positive and negative integers lists.\n",
    "\n",
    "l1= [1,2,3,4,5,6,-1,-2,-3,-4,-5,0]"
   ]
  },
  {
   "cell_type": "code",
   "execution_count": 14,
   "id": "b0433070-a853-4c6f-8c6e-c69853df6f5e",
   "metadata": {},
   "outputs": [
    {
     "name": "stdout",
     "output_type": "stream",
     "text": [
      "[1, 2, 3, 4, 5, 6]\n",
      "[-1, -2, -3, -4, -5]\n"
     ]
    }
   ],
   "source": [
    "positive_integer= list(filter((lambda x:x>0),l1))\n",
    "print(positive_integer)\n",
    "Negative_integer= list(filter((lambda x:x<0),l1))\n",
    "print(Negative_integer)"
   ]
  }
 ],
 "metadata": {
  "kernelspec": {
   "display_name": "Python 3 (ipykernel)",
   "language": "python",
   "name": "python3"
  },
  "language_info": {
   "codemirror_mode": {
    "name": "ipython",
    "version": 3
   },
   "file_extension": ".py",
   "mimetype": "text/x-python",
   "name": "python",
   "nbconvert_exporter": "python",
   "pygments_lexer": "ipython3",
   "version": "3.10.8"
  }
 },
 "nbformat": 4,
 "nbformat_minor": 5
}
