{
 "cells": [
  {
   "cell_type": "markdown",
   "id": "31bf583c-59c5-43dc-8e66-cd6639287008",
   "metadata": {},
   "source": [
    "Q1. What is a database? Differentiate between SQL and NoSQL databases\n",
    "\n",
    "Ans. A database is a collection of structured data that can be easily accessed, managed and updated.It is used to stored and retrive data in a structured format.\n",
    "SQL database is a relational database which means it stores data in a tabular form. Ex. of SQL database MYSQL,ORACLE,PostgreSql.\n",
    "NOSQL database is non-relational and it stores data in a flexible,document oriented format like videos,emails,pictures etc.Ex. of NOSQL data base is mongodb,cassandra etc. "
   ]
  },
  {
   "cell_type": "markdown",
   "id": "0c50a33c-4df5-4c95-932e-1d98a73c46d8",
   "metadata": {},
   "source": [
    "Q2. What is DDL? Explain why CREATE, DROP, ALTER, and TRUNCATE are used with an example.\n",
    "\n",
    "Ans. DDL or Data Defination Language is a subset of SQL which is used to create, modify and delete the database objects like table, constraints etc.\n",
    "\n",
    "CREATE-- It is used to create the new database object.For example>> CREATE TABLE <table_name>;\n",
    "DROP--   It is used to delete the database object.For EX.>> DROP TABLE<TABLE_NAME>;\n",
    "ALTER--  It is used to modify the existing datbase object.For EX>> ALTER TABLE <TABLE_NAME> ADD <COLUMN NAME>;\n",
    "TRUNCATE-- It is used to delete the data of a table structure but not table itself. EX>> TRUNCATE TABLE <TABLE_NAME>;  "
   ]
  },
  {
   "cell_type": "markdown",
   "id": "cc74879c-5f2e-4ae3-a760-317b6a1af63a",
   "metadata": {},
   "source": [
    "Q3. What is DML? Explain INSERT, UPDATE, and DELETE with an example.\n",
    "\n",
    "ANS. DML or Data Manupulation Language is used to manupulate data in database.\n",
    "\n",
    "INSERT--It is used to insert new  record in a table. For EX. INSERT INTO <tablename><column names> Values()\n",
    "UPDATE--It is used to modify the existing record in a table. EX>> UPDATE <TABLENAME><COLUMN=VALUE>WHERE<CONDITION>;\n",
    "delete--It is used to DELETE the existing record in a table. EX>> DELETE from <table name> where<condition>;"
   ]
  },
  {
   "cell_type": "markdown",
   "id": "47f600be-29ae-42b9-bf08-63735ae92a05",
   "metadata": {},
   "source": [
    "Q4. What is DQL? Explain SELECT with an example.\n",
    "\n",
    "ANS. DQL or Data Query Language is used to retrive data from database.\n",
    "\n",
    "SELECT-- It is used to retrive data from table or column or from table with condition.\n",
    "EX. SELECT * FROM <TABLENAME> OR SELECT <COLUMNNAME> FROM <TABLE NAME> OR SELECT FROM <TABLENAME> WHERE <CONDITION>"
   ]
  },
  {
   "cell_type": "markdown",
   "id": "d8c37275-11bd-4fbf-9042-eebe14d960d7",
   "metadata": {},
   "source": [
    "Q5. Explain Primary Key and Foreign Key.\n",
    "\n",
    "Ans. PRIMARY KEY-- It is a field or combination of field that identifies uniquely each row in a table.\n",
    "FOREIGN KEY-- It ia s field of a table that refers to the primary key of another table. It makes a link between two table and maintains refrential integrity.The foreign key is used to ensure that data in the child table is consistent with data in the parent table."
   ]
  },
  {
   "cell_type": "markdown",
   "id": "7681e67d-6587-4dd0-885c-60239c72a7ef",
   "metadata": {},
   "source": [
    "Q6. Write a python code to connect MySQL to python. Explain the cursor() and execute() method."
   ]
  },
  {
   "cell_type": "code",
   "execution_count": null,
   "id": "2d86a42c-8440-4842-bde8-f5e3f1729042",
   "metadata": {},
   "outputs": [],
   "source": [
    "pip install mysql-connector-python # To install the mysql-connector-python linbrary\n",
    "\n",
    "import mysql.connector # To import the mysql.connector module\n",
    "\n",
    "mydb=mysql.connector.connect(  # TO establish the connection between mysql database and python\n",
    "hostname='host', # we need to provide the credentials\n",
    "user='abc',\n",
    "password='password'\n",
    ")\n",
    "cursor=mydb.cursor() # used to create cursor object\n",
    "mycursor.execute('select * from test2') #used to execute the query\n",
    "\n",
    "CURSOR()--The \"cursor()\" method is used to create a cursor object\n",
    "EXECUTE()--The \"execute()\" method is used to execute SQL queries on the connected database\n"
   ]
  },
  {
   "cell_type": "markdown",
   "id": "f772ccd6-85ed-486c-9282-612ac832c7be",
   "metadata": {},
   "source": [
    "Q7. Give the order of execution of SQL clauses in an SQL query.\n",
    "\n",
    "Ans.\n",
    "The order of execution of SQL clauses in an SQL query is as follows:\n",
    "\n",
    "FROM: This clause specifies the table(s) from which the data is being selected.\n",
    "\n",
    "WHERE: This clause filters the data by specifying the conditions that the data must meet.\n",
    "\n",
    "GROUP BY: This clause groups the data based on one or more columns.\n",
    "\n",
    "HAVING: This clause filters the grouped data by specifying the conditions that the groups must meet.\n",
    "\n",
    "SELECT: This clause selects the columns that we want to retrieve from the table(s).\n",
    "\n",
    "ORDER BY: This clause sorts the data based on one or more columns.\n",
    "\n",
    "LIMIT: This clause limits the number of rows that are returned."
   ]
  }
 ],
 "metadata": {
  "kernelspec": {
   "display_name": "Python 3 (ipykernel)",
   "language": "python",
   "name": "python3"
  },
  "language_info": {
   "codemirror_mode": {
    "name": "ipython",
    "version": 3
   },
   "file_extension": ".py",
   "mimetype": "text/x-python",
   "name": "python",
   "nbconvert_exporter": "python",
   "pygments_lexer": "ipython3",
   "version": "3.10.8"
  }
 },
 "nbformat": 4,
 "nbformat_minor": 5
}
