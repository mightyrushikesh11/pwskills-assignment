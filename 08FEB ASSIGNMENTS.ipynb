{
 "cells": [
  {
   "cell_type": "markdown",
   "id": "5af61a5b-3bce-46cf-8c26-468c815b2004",
   "metadata": {},
   "source": [
    "Q1. What is Abstraction in OOps? Explain with an example.\n",
    "\n",
    "Ans. Abstraction in python is defined as a process of handling complexity by hiding unnecessary information from the user.\n",
    "EXAMPLE:\n",
    "Let us have some real time example , as we all use the social platforms and contact our friends, chat, share images etc., but we don’t know how these operations are happening in the background. Let us take another example, while visiting and reading blogs on theany website we tend to click on various links and perform various functions unknowingly what is happening in the background. That is exactly the abstraction that works in the OOP."
   ]
  },
  {
   "cell_type": "markdown",
   "id": "d5c65535-3be9-4e55-a6be-ee7c2d7176d6",
   "metadata": {},
   "source": [
    "Q2. Differentiate between Abstraction and Encapsulation. Explain with an example.\n",
    "\n",
    "Ans.\n",
    "\n",
    "ABSTRACTION :-\n",
    " 1.It is  used for hiding the unwanted data and giving relevant data.\n",
    " 2.It's focus on what the object does instead of how it does it.\n",
    " 3.Abstraction- outer layout, used in terms of design\n",
    " EXAMPLE: \n",
    " Outer look of a mobile phone,like it has a display screen and keypad buttons to dial a number. \n",
    " \n",
    "ENCAPSULATION :-\n",
    " 1.It means hiding the code and data into a single unit to protect the data from out side world.\n",
    " 2.It means hiding the internal details or mechanics of how an object does something.\n",
    " 3.Encapsulation- Inner,layout used in terms of  implementation. \n",
    "  EXAMPLE:\n",
    "  Inner implementation detail of a mobile phone, how keypad button and display screen are connected with each other       using circuits."
   ]
  },
  {
   "cell_type": "markdown",
   "id": "63d59626-b9a9-4c84-b498-0bbc60db0c74",
   "metadata": {},
   "source": [
    "Q3. What is abc module in python? Why is it used?\n",
    "\n",
    "Ans. The 'abc' module in Python library provides the infrastructure for defining custom abstract base classes. 'abc' works by marking methods of the base class as abstract. This is done by @absttractmethod decorator.\n",
    "It is used to make abstract class."
   ]
  },
  {
   "cell_type": "markdown",
   "id": "4e5df8ba-d83e-4776-a4ef-5869da79da3a",
   "metadata": {},
   "source": [
    "Q4. How can we achieve data abstraction?\n",
    "\n",
    "Ans. In Python, abstraction can be achieved by having/using abstract classes and methods in our programs."
   ]
  },
  {
   "cell_type": "markdown",
   "id": "8d35dcfb-0b21-44cd-a10f-d72f742ae6b6",
   "metadata": {},
   "source": [
    "Q5. Can we create an instance of an abstract class? Explain your answer.\n",
    "\n",
    "Ans. An abstract class cannot be instantiated which simply means we cannot create objects for this type of class. It can only be used for inheriting the functionalities.\n",
    "\n",
    "Example:\n",
    "\n",
    "from abc import ABC,abstractmethod\n",
    "\n",
    "class employee(ABC):\n",
    "\n",
    "def emp_id(self,id,name,age,salary):    //Abstraction\n",
    "\n",
    "pass\n",
    " \n",
    "class childemployee1(employee):\n",
    "\n",
    "def emp_id(self,id):\n",
    "\n",
    "print(\"emp_id is 12345\")\n",
    " \n",
    "emp1 = childemployee1()\n",
    "\n",
    "emp1.emp_id(id)\n",
    "\n",
    "Output: emp_id is 12345\n",
    "\n",
    "Explanation: As you can see in the above example, we have imported an abstract method and the rest of the program has a parent and a derived class. An object is instantiated for the ‘childemployee’ base class and functionality of abstract is being used."
   ]
  }
 ],
 "metadata": {
  "kernelspec": {
   "display_name": "Python 3 (ipykernel)",
   "language": "python",
   "name": "python3"
  },
  "language_info": {
   "codemirror_mode": {
    "name": "ipython",
    "version": 3
   },
   "file_extension": ".py",
   "mimetype": "text/x-python",
   "name": "python",
   "nbconvert_exporter": "python",
   "pygments_lexer": "ipython3",
   "version": "3.10.8"
  }
 },
 "nbformat": 4,
 "nbformat_minor": 5
}
