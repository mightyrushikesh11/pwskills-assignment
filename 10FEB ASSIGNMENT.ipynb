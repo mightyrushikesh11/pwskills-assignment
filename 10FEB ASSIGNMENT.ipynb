{
 "cells": [
  {
   "cell_type": "markdown",
   "id": "a292fb24-11bd-4cdf-aeee-4171bddfc211",
   "metadata": {},
   "source": [
    "Q1. Which function is used to open a file? What are the different modes of opening a file? Explain each mode \n",
    "of file opening.\n",
    "\n",
    "Ans. The open() function is used to open a file in Python. The syntax for the open() function is as follows:\n",
    "\n",
    "file_object = open(file_name, mode)\n",
    "where file_name is the name of the file to be opened and mode is the mode in which the file should be opened.\n",
    "\n",
    "There are several modes in which a file can be opened in Python, including:\n",
    "\n",
    "'r' (read only): This is the default mode. It opens the file for reading only and the pointer is placed at the beginning of the file. If the file does not exist, an error is raised.\n",
    "\n",
    "'w' (write only): This mode opens the file for writing only. If the file already exists, its content is truncated and if the file does not exist, a new file is created.\n",
    "\n",
    "'a' (append only): This mode opens the file for writing only and the pointer is placed at the end of the file. If the file does not exist, a new file is created.\n",
    "\n",
    "'x' (exclusive creation): This mode opens the file for writing only. If the file already exists, an error is raised. If the file does not exist, a new file is created.\n",
    "\n",
    "'b' (binary mode): This mode is used to open the file in binary mode. It can be used in conjunction with other modes such as 'rb' (read binary), 'wb' (write binary), 'ab' (append binary), and 'xb' (exclusive creation binary).\n",
    "\n",
    "'t' (text mode): This mode is used to open the file in text mode. It can be used in conjunction with other modes such as 'rt' (read text), 'wt' (write text), 'at' (append text), and 'xt' (exclusive creation text).\n",
    "\n",
    "Note that it's always a good practice to close the file after you're done with it using the close() method to avoid any data loss or corruption.\n"
   ]
  },
  {
   "cell_type": "markdown",
   "id": "982cee08-93de-4cce-a905-e75fba2f5096",
   "metadata": {},
   "source": [
    "Q2. Why close() function is used? Why is it important to close a file?\n",
    "\n",
    "\n",
    "Ans. The close() function is used to close a file in Python. Closing a file is an important step in the file handling process as it ensures that all the changes made to the file are saved and the resources occupied by the file are freed up.\n",
    "\n",
    "Here are some reasons why it's important to close a file in Python:\n",
    "\n",
    "Saves changes: When you open a file and make changes to it, those changes are not saved until you close the file. Closing the file flushes the buffer and writes all changes to the disk.\n",
    "\n",
    "Frees up resources: When a file is opened, it takes up system resources such as memory and file handles. Closing the file releases these resources, making them available for other processes.\n",
    "\n",
    "Prevents data loss: Not closing a file can cause data to be lost or corrupted if the program terminates unexpectedly. By closing the file, you ensure that all data is written to the disk and any buffers are flushed.\n",
    "\n",
    "Avoids conflicts: If multiple programs try to access the same file simultaneously, it can lead to conflicts and data corruption. By closing a file after you're done with it, you avoid any such conflicts.\n",
    "\n",
    "In summary, closing a file is an important step in file handling that ensures the integrity of the data and the efficient use of system resources.\n",
    "\n",
    "\n",
    "\n"
   ]
  },
  {
   "cell_type": "markdown",
   "id": "e83123a8-79f9-47b6-97aa-d34f036c73ce",
   "metadata": {},
   "source": [
    "Q3. Write a python program to create a text file. Write ‘I want to become a Data Scientist’ in that file. Then \n",
    "close the file. Open this file and read the content of the file.  "
   ]
  },
  {
   "cell_type": "code",
   "execution_count": 9,
   "id": "8e87cd29-d4ac-4f92-80b6-ecaecacc99cd",
   "metadata": {},
   "outputs": [],
   "source": [
    "f= open('Assignment.text','w')\n",
    "f.write('I want to become a data scientist')\n",
    "f.close()    "
   ]
  },
  {
   "cell_type": "code",
   "execution_count": 6,
   "id": "ca819ff3-f04b-4fbf-9214-1ac1371e675d",
   "metadata": {},
   "outputs": [
    {
     "data": {
      "text/plain": [
       "'I want to become a data scientist'"
      ]
     },
     "execution_count": 6,
     "metadata": {},
     "output_type": "execute_result"
    }
   ],
   "source": [
    "f=open ('Assignment.text','r')\n",
    "f.read()"
   ]
  },
  {
   "cell_type": "code",
   "execution_count": 7,
   "id": "aea163c6-84b4-4fd2-973e-860997828be2",
   "metadata": {},
   "outputs": [],
   "source": [
    "f.close()"
   ]
  },
  {
   "cell_type": "markdown",
   "id": "8ff6ac95-84e7-4216-999d-4b9bc343b9e3",
   "metadata": {},
   "source": [
    "Q4. Explain the following with python code: read(), readline() and readlines().\n"
   ]
  },
  {
   "cell_type": "markdown",
   "id": "0c16545e-dd5e-4a68-b66a-b8deeb9cc4a8",
   "metadata": {},
   "source": [
    "read(): The read() method reads the entire contents of a file and returns it as a single string. If the file is large, we can use other methods such as readline() or readlines() instead to avoid reading the entire file into memory.\n",
    "\n",
    "# Open the file in read mode\n",
    "f = open('Assignment.txt', 'r')\n",
    "\n",
    "# Read the contents of the file using the read() method\n",
    "contents = f.read()\n",
    "\n",
    "# Print the contents of the file\n",
    "print(contents)\n",
    "\n",
    "# Close the file\n",
    "f.close()\n",
    "\n",
    "\n",
    "readline(): The readline() method reads a single line from a file and returns it as a string. we can use a loop to read all the lines in a file one at a time.\n",
    "\n",
    "\n",
    "# Open the file in read mode\n",
    "f = open('Assignment.txt', 'r')\n",
    "\n",
    "# Read and print each line in the file using the readline() method\n",
    "line = f.readline()\n",
    "while line:\n",
    "    print(line)\n",
    "    line = f.readline()\n",
    "\n",
    "# Close the file\n",
    "f.close()\n",
    "readlines(): The readlines() method reads all the lines in a file and returns them as a list of strings, where each element of the list represents a single line from the file.\n",
    "\n",
    "# Open the file in read mode\n",
    "f = open('Assignment.txt', 'r')\n",
    "\n",
    "# Read all the lines in the file using the readlines() method\n",
    "lines = f.readlines()\n",
    "\n",
    "# Print each line in the file\n",
    "for line in lines:\n",
    "    print(line)\n",
    "\n",
    "# Close the file\n",
    "f.close()\n"
   ]
  },
  {
   "cell_type": "markdown",
   "id": "a1165881-4a20-4eb5-b82c-72fd2b90473a",
   "metadata": {},
   "source": [
    "Q5. Explain why with statement is used with open(). What is the advantage of using with statement and \n",
    "open() together?\n",
    "\n",
    "Ans. The \"with\" statement is used with open() to ensure that the file is properly closed after it has been used. When a file is opened with \"with open() as f\" it creates a context in which the file will be used and automatically closed when the code block ends. This eliminates the need to manually close the file using \"f.close()\", reducing the risk of forgetting to close the file and causing data corruption or other problems.\n",
    "\n",
    "The advantage of using \"with\" and \"open()\" together is that it makes the code more readable and less prone to errors, as the file will always be closed regardless of whether or not the code block finishes successfully. This also helps to free up system resources, such as memory, as the file will be closed as soon as it is no longer needed."
   ]
  },
  {
   "cell_type": "markdown",
   "id": "4b0178a1-0bc6-4b57-94aa-975a2a192ec6",
   "metadata": {},
   "source": [
    "Q6. Explain the write() and writelines() functions. Give a suitable example.\n",
    "\n",
    "\n",
    "Ans.The write() function is used to write a string to a file. It takes a string argument and writes it to the file, returning the number of characters written. If the file does not exist, the write() function will create it. If the file exists, any existing data in the file will be overwritten.\n",
    "\n",
    "\n",
    "# Example\n",
    "with open(\"test.txt\", \"w\") as file:\n",
    "    file.write(\"Hello, world!\")\n",
    "\n",
    "\n",
    "The writelines() function is used to write a sequence of strings to a file. It takes a list of strings as an argument and writes each string to a new line in the file.\n",
    "\n",
    "\n",
    "# Example\n",
    "with open(\"test.txt\", \"w\") as file:\n",
    "    lines = [\"Line 1\", \"Line 2\", \"Line 3\"]\n",
    "    file.writelines(lines)\n",
    "It's important to note that the writelines() function does not add newline characters between the strings in the list, so if we want each string to be on a separate line in the file, we'll need to add the newline character '\\n' to the end of each string:\n",
    "\n",
    "# Example\n",
    "with open(\"test.txt\", \"w\") as file:\n",
    "    lines = [\"Line 1\\n\", \"Line 2\\n\", \"Line 3\\n\"]\n",
    "    file.writelines(lines)"
   ]
  }
 ],
 "metadata": {
  "kernelspec": {
   "display_name": "Python 3 (ipykernel)",
   "language": "python",
   "name": "python3"
  },
  "language_info": {
   "codemirror_mode": {
    "name": "ipython",
    "version": 3
   },
   "file_extension": ".py",
   "mimetype": "text/x-python",
   "name": "python",
   "nbconvert_exporter": "python",
   "pygments_lexer": "ipython3",
   "version": "3.10.8"
  }
 },
 "nbformat": 4,
 "nbformat_minor": 5
}
