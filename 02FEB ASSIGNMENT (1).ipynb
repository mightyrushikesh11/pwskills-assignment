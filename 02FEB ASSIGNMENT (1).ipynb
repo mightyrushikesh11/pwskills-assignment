{
 "cells": [
  {
   "cell_type": "markdown",
   "id": "c1f2d536-4141-4b51-8b06-c63e9a2bad76",
   "metadata": {},
   "source": [
    "Q1.  Explain with an example each when to use a for loop and a while loop."
   ]
  },
  {
   "cell_type": "markdown",
   "id": "4706015f-3963-4996-ac0f-036c7e0f8ef5",
   "metadata": {},
   "source": [
    "Ans. The for loop is used when we already know the number of iterations, which means when we know how many times a statement has to be executed. That is why we have to specify the ending point in the for loop initialization.\n",
    "For EX. below we know the number of iteration of l.\n",
    "l=[1,2,3,4,5]\n",
    "for i in l:\n",
    "    print(i)\n",
    "\n",
    "When we need to end the loop on a condition other than the number of times, we use a while loop.\n",
    "For EX. below the loop will end as per the while condition ie. a<10.\n",
    "a=1\n",
    "while a<10:\n",
    "    print(a)\n",
    "    a+=1\n"
   ]
  },
  {
   "cell_type": "markdown",
   "id": "00762c20-b606-4f0b-97dc-3b19e59cf84f",
   "metadata": {},
   "source": [
    "Q2.  Write a python program to print the sum and product of the first 10 natural numbers using for \n",
    "and while loop."
   ]
  },
  {
   "cell_type": "code",
   "execution_count": 1,
   "id": "9d3a454c-5303-473b-bc5c-c64292e5a679",
   "metadata": {},
   "outputs": [
    {
     "name": "stdout",
     "output_type": "stream",
     "text": [
      "The sum of first 10 natural no is = 55\n",
      "The product of first 10 natural no is = 3628800\n"
     ]
    }
   ],
   "source": [
    "a=1\n",
    "add=0\n",
    "pro=1\n",
    "while a<=10:\n",
    "    add=add+a\n",
    "    pro=pro*a\n",
    "    a+=1\n",
    "print('The sum of first 10 natural no is =',add) \n",
    "print('The product of first 10 natural no is =',pro)    "
   ]
  },
  {
   "cell_type": "code",
   "execution_count": 4,
   "id": "38881a02-e292-4af1-bff9-b6840faef10b",
   "metadata": {},
   "outputs": [
    {
     "name": "stdout",
     "output_type": "stream",
     "text": [
      "The sum of first 10 natural no is = 55\n",
      "The product of first 10 natural no is = 3628800\n"
     ]
    }
   ],
   "source": [
    "add=0\n",
    "pro=1\n",
    "for i in range(1,11):\n",
    "    add=add+i\n",
    "    pro=pro*i\n",
    "print('The sum of first 10 natural no is =',add) \n",
    "print('The product of first 10 natural no is =',pro)      \n",
    "    "
   ]
  },
  {
   "cell_type": "markdown",
   "id": "5528f394-ef3f-43df-9e43-2c609c2f958c",
   "metadata": {},
   "source": [
    "Q3. Create a python program to compute the electricity bill for a household.\n",
    "The per-unit charges in rupees are as follows: For the first 100 units, the user will be charged Rs. 4.5 per \n",
    "unit, for the next 100 units, the user will be charged Rs. 6 per unit, and for the next 100 units, the user will \n",
    "be charged Rs. 10 per unit, After 300 units and above the user will be charged Rs. 20 per unit.\n",
    "\n",
    "\n",
    "You are required to take the units of electricity consumed in a month from the user as input.\n",
    "\n",
    "\n",
    "Your program must pass this test case: when the unit of electricity consumed by the user in a month is \n",
    "310, the total electricity bill should be 2250."
   ]
  },
  {
   "cell_type": "code",
   "execution_count": 2,
   "id": "f2eb8f7b-3303-4953-b1ad-16b71f9d6147",
   "metadata": {},
   "outputs": [
    {
     "name": "stdin",
     "output_type": "stream",
     "text": [
      "Enter the units of electricity consumed in a month  310\n"
     ]
    },
    {
     "name": "stdout",
     "output_type": "stream",
     "text": [
      "The total charges of the electricity bill is  2250.0\n"
     ]
    }
   ],
   "source": [
    " u=int(input('Enter the units of electricity consumed in a month '))\n",
    "if u>0 and u<=100:\n",
    "    print('The total charges of the electricity bill is ',u*4.5)\n",
    "elif u>100 and u<=200:\n",
    "    print('The total charges of the electricity bill is ',100*4.5+(u-100)*6)\n",
    "elif u>200 and u<=300:\n",
    "    print('The total charges of the electricity bill is ',100*4.5+100*6+(u-200)*10)   \n",
    "else:\n",
    "    print('The total charges of the electricity bill is ',100*4.5+100*6+100*10+(u-300)*20)    "
   ]
  },
  {
   "cell_type": "markdown",
   "id": "ebc8fb01-86b1-4fca-af5d-f7c7735cc98b",
   "metadata": {},
   "source": [
    "Q4. Create a list of numbers from 1 to 100. Use for loop and while loop to calculate the cube of each \n",
    "number and if the cube of that number is divisible by 4 or 5 then append that number in a list and print \n",
    "that list."
   ]
  },
  {
   "cell_type": "code",
   "execution_count": 14,
   "id": "19a384bf-aecd-404d-acb0-a0ef1166c83d",
   "metadata": {},
   "outputs": [
    {
     "name": "stdout",
     "output_type": "stream",
     "text": [
      "[1, 2, 3, 4, 5, 6, 7, 8, 9, 10, 11, 12, 13, 14, 15, 16, 17, 18, 19, 20, 21, 22, 23, 24, 25, 26, 27, 28, 29, 30, 31, 32, 33, 34, 35, 36, 37, 38, 39, 40, 41, 42, 43, 44, 45, 46, 47, 48, 49, 50, 51, 52, 53, 54, 55, 56, 57, 58, 59, 60, 61, 62, 63, 64, 65, 66, 67, 68, 69, 70, 71, 72, 73, 74, 75, 76, 77, 78, 79, 80, 81, 82, 83, 84, 85, 86, 87, 88, 89, 90, 91, 92, 93, 94, 95, 96, 97, 98, 99, 100]\n"
     ]
    }
   ],
   "source": [
    "print(list(range(1,101)))"
   ]
  },
  {
   "cell_type": "code",
   "execution_count": 27,
   "id": "4beee3f3-20b2-4051-a69a-2ad9c686979c",
   "metadata": {},
   "outputs": [
    {
     "name": "stdout",
     "output_type": "stream",
     "text": [
      "[1000, 8000, 27000, 64000, 125000, 216000, 343000, 512000, 729000, 1000000]\n"
     ]
    }
   ],
   "source": [
    "##for loop\n",
    "l3=[]\n",
    "for i in range(1,101):\n",
    "    i=i**3\n",
    "    if i%4==0 and i%5==0:\n",
    "         l3.append(i)\n",
    "print(l3)    \n",
    "    \n"
   ]
  },
  {
   "cell_type": "code",
   "execution_count": 3,
   "id": "b1fb1be1-3127-48c6-85f9-7349fec7a603",
   "metadata": {},
   "outputs": [
    {
     "name": "stdout",
     "output_type": "stream",
     "text": [
      "[1000, 8000, 27000, 64000, 125000, 216000, 343000, 512000, 729000, 1000000]\n"
     ]
    }
   ],
   "source": [
    "##While loop\n",
    "\n",
    "a=1\n",
    "l4=[]\n",
    "while a<=100:\n",
    "    b=a**3\n",
    "    if b%4==0 and b%5==0:\n",
    "        l4.append(b)\n",
    "    a+=1\n",
    "print(l4)    "
   ]
  },
  {
   "cell_type": "markdown",
   "id": "474eb792-d6f6-473e-b294-9d27eaba9732",
   "metadata": {},
   "source": [
    "Q5.  Write a program to filter count vowels in the below-given string.\n",
    "\n",
    "string = \"I want to become a data scientist\""
   ]
  },
  {
   "cell_type": "code",
   "execution_count": 1,
   "id": "96cdfb87-b1c6-4240-828f-f3920940ce6b",
   "metadata": {},
   "outputs": [],
   "source": [
    "string = \"I want to become a data scientist\""
   ]
  },
  {
   "cell_type": "code",
   "execution_count": 12,
   "id": "9845da3e-869d-46e2-bfb7-8ee3a0bd9eac",
   "metadata": {},
   "outputs": [
    {
     "data": {
      "text/plain": [
       "['I', 'a', 'o', 'e', 'o', 'e', 'a', 'a', 'a', 'i', 'e', 'i']"
      ]
     },
     "execution_count": 12,
     "metadata": {},
     "output_type": "execute_result"
    }
   ],
   "source": [
    "list(filter(lambda x:x in ('a','e','i','I','o','u'),string))\n"
   ]
  },
  {
   "cell_type": "code",
   "execution_count": 13,
   "id": "7fd5ea85-8c71-4937-ba59-64657ac44fe0",
   "metadata": {},
   "outputs": [
    {
     "data": {
      "text/plain": [
       "12"
      ]
     },
     "execution_count": 13,
     "metadata": {},
     "output_type": "execute_result"
    }
   ],
   "source": [
    "l=list(filter(lambda x:x in ('a','e','i','I','o','u'),string))\n",
    "len(l)"
   ]
  }
 ],
 "metadata": {
  "kernelspec": {
   "display_name": "Python 3 (ipykernel)",
   "language": "python",
   "name": "python3"
  },
  "language_info": {
   "codemirror_mode": {
    "name": "ipython",
    "version": 3
   },
   "file_extension": ".py",
   "mimetype": "text/x-python",
   "name": "python",
   "nbconvert_exporter": "python",
   "pygments_lexer": "ipython3",
   "version": "3.10.8"
  }
 },
 "nbformat": 4,
 "nbformat_minor": 5
}
